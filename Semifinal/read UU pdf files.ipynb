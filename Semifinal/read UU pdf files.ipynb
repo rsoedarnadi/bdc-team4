{
 "cells": [
  {
   "cell_type": "markdown",
   "metadata": {},
   "source": [
    "# Trying Different Methods of Reading PDF Files"
   ]
  },
  {
   "cell_type": "markdown",
   "metadata": {},
   "source": [
    "## Trying OCRMyPDF Library"
   ]
  },
  {
   "cell_type": "code",
   "execution_count": 1,
   "metadata": {},
   "outputs": [],
   "source": [
    "import ocrmypdf\n",
    "import pandas as pd"
   ]
  },
  {
   "cell_type": "code",
   "execution_count": 4,
   "metadata": {},
   "outputs": [],
   "source": [
    "file = 'Investasi/3-33-2013-PERPEM-PERLUASAN KESEMPATAN KERJA.pdf'"
   ]
  },
  {
   "cell_type": "code",
   "execution_count": 7,
   "metadata": {},
   "outputs": [
    {
     "name": "stderr",
     "output_type": "stream",
     "text": [
      "Scanning contents: 100%|██████████| 13/13 [00:00<00:00, 55.46page/s]\n",
      "OCR: 100%|██████████| 13.0/13.0 [00:55<00:00,  4.29s/page]\n",
      "Recompressing JPEGs: 0image [00:00, ?image/s]\n",
      "Deflating JPEGs: 100%|██████████| 13/13 [00:00<00:00, 76.66image/s]\n",
      "JBIG2: 0item [00:00, ?item/s]\n"
     ]
    }
   ],
   "source": [
    "if __name__ == '__main__':  # To ensure correct behavior on Windows and macOS\n",
    "    ocrmypdf.ocr(file, 'Investasi/OCR_3-33-2013-PERPEM-PERLUASAN KESEMPATAN KERJA.pdf', output_type='pdf', deskew=True)"
   ]
  },
  {
   "cell_type": "markdown",
   "metadata": {},
   "source": [
    "## Trying PDF Miner"
   ]
  },
  {
   "cell_type": "code",
   "execution_count": null,
   "metadata": {},
   "outputs": [],
   "source": []
  },
  {
   "cell_type": "markdown",
   "metadata": {},
   "source": [
    "## Trying PyMuPDF"
   ]
  },
  {
   "cell_type": "markdown",
   "metadata": {},
   "source": [
    "## Trying PyPDF2 Library"
   ]
  },
  {
   "cell_type": "code",
   "execution_count": 8,
   "metadata": {},
   "outputs": [],
   "source": [
    "#!pip install PyPDF2\n",
    "from PyPDF2 import PdfReader\n",
    "import re"
   ]
  },
  {
   "cell_type": "code",
   "execution_count": 9,
   "metadata": {},
   "outputs": [],
   "source": [
    "pdf_path = 'Investasi/OCR_3-33-2013-PERPEM-PERLUASAN KESEMPATAN KERJA.pdf'\n",
    "pdf = PdfReader(open(pdf_path, \"rb\"))"
   ]
  },
  {
   "cell_type": "code",
   "execution_count": 10,
   "metadata": {},
   "outputs": [
    {
     "name": "stdout",
     "output_type": "stream",
     "text": [
      "Total number of pages: 13\n"
     ]
    }
   ],
   "source": [
    "print(\"Total number of pages:\", len(pdf.pages))"
   ]
  },
  {
   "cell_type": "code",
   "execution_count": 12,
   "metadata": {},
   "outputs": [
    {
     "name": "stdout",
     "output_type": "stream",
     "text": [
      "ae Sy \n",
      "SALINAN \n",
      "ARO, it PRESIDEN \n",
      "REPUBLIK INDONESIA \n",
      "PERATURAN PEMERINTAH REPUBLIK INDONESIA \n",
      "Menimbang \n",
      "Mengingat \n",
      "Menetapkan NOMOR 33 TAHUN 2013 \n",
      "TENTANG \n",
      "PERLUASAN KESEMPATAN KERJA \n",
      "‘DENGAN RAHMAT TUHAN YANG MAHA ESA \n",
      "PRESIDEN REPUBLIK INDONESIA, \n",
      "bahwa untuk melaksanakan ketentuan Pasal 41 ayat \n",
      "(4) Undang-Undang Nomor 13 Tahun 2003 tenteng \n",
      "Ketenagakerjaan, perlu)§ menetapkan Peraturan \n",
      "Pemerintah tentang Perluasan Kesempatan Kerja; \n",
      ". Pasal 5 ayat (2) Undang-Undang Dasar Negara \n",
      "Republik Indonesia Tahun 1945; \n",
      ". Undang-Undang Nomor 13 Tahun 2003 tentang \n",
      "Ketenagakerjaan (Lembaran Negara Republik \n",
      "Indonesia Tahun 2003 Nomor 39, Tambahan \n",
      "Lembaran Negara Republik Indonesia Nomor 4279); \n",
      "MEMUTUSKAN: \n",
      "PERATURAN PEMERINTAH TENTANG PERLUASAN \n",
      "KESEMPATAN KERJA. \n",
      "BAB 1... \n",
      "www.bphn.go.id\n",
      "wt DW, \n",
      "+k \n",
      "Ry srr \n",
      "PRESIDEN \n",
      "REPUBLIK INDONESIA \n",
      "<9e \n",
      "BAB I \n",
      "KETENTUAN UMUM \n",
      "Pasal 1 \n",
      "Dalam Peraturan Pemerintah ini yang dimaksud dengan: \n",
      "i Perluasan kesempatan kerja adalah upaya yang \n",
      "dilakukan untuk menciptakan lapangan pekerjaan \n",
      "baru dan/atau mengembangkan lapangan pekerjaan \n",
      "yang tersedia. \n",
      "Kesempatan kerja adalah lowongan pekerjaan yang \n",
      "diisi oleh pencari kerja dan pekerja yang sudah ada. \n",
      "Perluasan kesempatan kerja di dalam hubungan kerja \n",
      "adalah upaya yang dilakukan untuk menciptakan \n",
      "lapangan pekerjaan baru dan/atau mengembangkan \n",
      "lapangan pekerjaan yang tersedia berdasarkan \n",
      "perjanjian kerja, yang mempunyai unsur perintah, \n",
      "pekerjaan, dan upah. \n",
      "Perluasan kesempatan kerja di luar hubungan kerja \n",
      "adalah upaya yang dilakukan untuk menciptakan \n",
      "lapangan pekerjaan baru dan/atau mengembangkan \n",
      "lapangan pekerjaan yang tersedia tidak berdasarkan \n",
      "perjanjian kerja. \n",
      "Pemerintah Pusat, yang selanjutnya  disebut \n",
      "Pemerintah adalah Presiden Republik Indonesia yang \n",
      "memegang kekuasaan pemerintahan negara Republik \n",
      "Indonesia sebagaimana dimaksud dalam Undang- \n",
      "Undang Dasar Negara Republik Indonesia Tahun 1945. \n",
      "Pemerintah Daerah adalah gubernur, bupati, atau \n",
      "walikota, dan perangkat daerah sebagai unsur \n",
      "penyelenggara pemerintahan daerah. \n",
      "Menteri adalah menteri yang menyelenggarakan \n",
      "urusan pemerintahan di bidang ketenagakerjaan. \n",
      "Pasal 2... \n",
      "www.bphn.go.id\n",
      "(1) \n",
      "(2) \n",
      "Ie, Wee \n",
      "RO Tie, \n",
      "ant \n",
      "BS \n",
      "PRESIDEN \n",
      "'REPUBLIK INDONESIA \n",
      "Lan \n",
      "Pasal 2 \n",
      "Pemerintah dan Pemerintah Daerah menetapkan \n",
      "kebijakan perluasan kesempatan kerja di setiap sektor \n",
      "sesuai dengan kewenangannya. \n",
      "Kebijakan perluasan kesempatan kerja sebagaimana \n",
      "dimaksud pada ayat (1) meliputi: \n",
      "a. kebijakan perluasan kesempatan kerja di dalam \n",
      "hubungan kerja; dan \n",
      "b. kebijakan perluasan kesempatan kerja di luar \n",
      "hubungan kerja. \n",
      "Pasal 3 \n",
      "Kebijakan perluasan kesempatan kerja sebagaimana \n",
      "dimaksud dalam Pasal 2 didasarkan atas perencanaan \n",
      "tenaga kerja nasional dan daerah di setiap sektor sesuai \n",
      "dengan ketentuan peraturan perundang-undangan. \n",
      "BAB II \n",
      "PERLUASAN KESEMPATAN KERJA DI DALAM HUBUNGAN KERJA \n",
      "(1) \n",
      "(2) Pasal 4 \n",
      "Kebijakan perluasan kesempatan kerja di dalam \n",
      "hubungan kerja sebagaimana dimaksud dalam Pasal 2 \n",
      "ayat (2) huruf a diarahkan untuk menciptakan dan \n",
      "mengembangkan perluasan kesempatan kerja. \n",
      "Untuk menciptakan dan mengembangkan perluasan \n",
      "kesempatan kerja sebagaimana dimaksud pada ayat \n",
      "(1) Pemerintah dan Pemerintah Daerah dapat memberi \n",
      "kemudahan investasi. \n",
      "Pasal 5... \n",
      "www.bphn.go.id\n",
      "PRESIDEN \n",
      "REPUBLIK INDONESIA \n",
      "aide \n",
      "Pasal 5 \n",
      "(1) Kebijakan perluasan kesempatan kerja di dalam \n",
      "hubungan kerja sebagaimana dimaksud dalam Pasal 4 \n",
      "dilaksanakan oleh badan usaha milik negara, badan \n",
      "usaha milik daerah, dan swasta. \n",
      "(2) Dalam melaksanakan  kebijakan sebagaimana \n",
      "dimaksud pada ayat (1) badan usaha milik negara, \n",
      "badan usaha milik daerah, dan swasta menetapkan \n",
      "program dan kegiatan perluasan kesempatan kerja di \n",
      "dalam hubungan kerja. \n",
      "(3) Program dan kegiatan sebagaimana dimaksud pada \n",
      "ayat (2) harus menyerap tenaga kerja. \n",
      "BAB III \n",
      "PERLUASAN KESEMPATAN KERJA DI LUAR HUBUNGAN KERJA \n",
      "Pasal 6 \n",
      "Kebijakan perluasan kesempatan kerja di luar hubungan \n",
      "kerja sebagaimana dimaksud dalam Pasal 2 ayat (2) huruf \n",
      "b diarahkan untuk menciptakan dan mengembangkan \n",
      "kesempatan kerja yang produktif dan berkelanjutan \n",
      "dengan mendayagunakan potensi sumber daya alam, \n",
      "sumber daya manusia, kelembagaan masyarakat, dan \n",
      "teknologi tepat guna. \n",
      "Pasal 7 \n",
      "Kebijakan perluasan kesempatan kerja di luar hubungan \n",
      "kerja sebagaimana dimaksud dalam Pasal 6 dilaksanakan \n",
      "oleh Pemerintah, Pemerintah Daerah, badan usaha milik \n",
      "negara, badan usaha _ milik daerah, swasta, dan \n",
      "kelembagaan masyarakat. \n",
      "Pasal 8... \n",
      "www.bphn.go.id\n",
      "(1) \n",
      "(2) PRESIDEN \n",
      "REPUBLIK INDONESIA \n",
      "=o \n",
      "Pasal 8 \n",
      "Kebijakan perluasan kesempatan kerja di luar \n",
      "hubungan kerja sebagaimana dimaksud dalam Pasal 6 \n",
      "dilakukan dalam bentuk program kewirausahaan. \n",
      "Program kewirausahaan sebagaimana dimaksud pada \n",
      "ayat (1) dilakukan dengan pola pembentukan dan \n",
      "pembinaan tenaga kerja mandiri, sistem padat karya, \n",
      "penerapan teknologi tepat guna, pendayagunaan \n",
      "tenaga kerja sukarela, dan/atau pola lain yang dapat \n",
      "mendorong terciptanya perluasan kesempatan kerja. \n",
      "Pasal 9 \n",
      "Pemerintah dan Pemerintah Daerah memfasilitasi \n",
      "pelaksanaan pola sebagaimana dimaksud dalam Pasal 8 \n",
      "melalui kegiatan: \n",
      "mropae op permodalan; \n",
      "penjaminan; \n",
      "pendampingan; \n",
      "pelatihan; \n",
      "konsultasi; \n",
      "bimbingan teknis; dan/atau \n",
      "penyediaan data dan informasi. \n",
      "Pasal 10 \n",
      "Lembaga penjaminan dan lembaga keuangan memberikan \n",
      "kemudahan dan fasilitasi kepada masyarakat yang dapat \n",
      "menciptakan atau memperluas kesempatan kerja berupa \n",
      "_ fasilitas kredit dan/atau fasilitas penjaminan kredit. \n",
      "BAB IV... \n",
      "www.bphn.go.id\n",
      "PRESIDEN \n",
      "REPUBLIK INDONESIA \n",
      "-~-6< \n",
      "BAB IV \n",
      "KOORDINASI PERLUASAN KESEMPATAN KERJA \n",
      "(1) \n",
      "(2) \n",
      "(3) \n",
      "(4) \n",
      "(5) Pasal 11 \n",
      "Menteri melakukan koordinasi dengan instansi terkait \n",
      "untuk mendukung pelaksanaan perluasan \n",
      "kesempatan kerja. \n",
      "Dalam hal diperlukan, Menteri dapat \n",
      "mengikutsertakan masyarakat dalam pelaksanaan \n",
      "koordinasi sebagaimana dimaksud pada ayat (1). \n",
      "Koordinasi sebagaimana dimaksud pada ayat (2) \n",
      "dilakukan untuk: \n",
      "a. memberi masukan, saran, dan pertimbangan \n",
      "kepada Pemerintah dan Pemerintah Daerah \n",
      "sebagai bahan dalam menetapkan kebijakan di \n",
      "bidang perluasan kesempatan kerja; dan \n",
      "b. melakukan mediasi, motivasi, dan  evaluasi \n",
      "pelaksanaan kebijakan Pemerintah di bidang \n",
      "perluasan kesempatan kerja. \n",
      "Koordinasi sebagaimana dimaksud pada ayat (3), \n",
      "diselenggarakan paling sedikit 1 (satu) kali dalaru 1 \n",
      "(satu) tahun atau sewaktu-waktu apabila diperlukan. \n",
      "Ketentuan lebih lanjut mengenai koordinasi perluasan \n",
      "kesempatan kerja diatur dengan Peraturan Menteri. \n",
      "BAB V. \n",
      "www.bphn.go.id\n",
      "(1) \n",
      "(2) \n",
      "(3) PRESIDEN \n",
      "REPUBLIK INDONESIA \n",
      "ir \n",
      "BAB V \n",
      "PELAPORAN \n",
      "Pasal 12 \n",
      "Pemerintah, Pemerintah Daerah, badan usaha milik \n",
      "negara, badan usaha milik daerah, swasta, dan \n",
      "kelembagaan masyarakat sebagaimana dimaksud \n",
      "dalam Pasal 5 ayat (1) dan Pasal 7 berkewajiban \n",
      "melaporkan secara tertulis perluasan kesempatan \n",
      "kerja kepada instansi yang bertanggung jawab di \n",
      "bidang ketenagakerjaan. \n",
      "Laporan sebagaimana dimaksud pada ayat (1) \n",
      "dipergunakan sebagai dasar bagi instansi yang \n",
      "bertanggung jawab di bidang ketenagakerjaan untuk \n",
      "menetapkan kebijakan perluasan kesempatan kerja \n",
      "sesuai dengan kewenangan masing-masing. \n",
      "Tata cara dan  bentuk pelaporan perluasan \n",
      "kesempatan kerja sebagaimana dimaksud pada ayat \n",
      "(2) diatur dengan Peraturan Menteri. \n",
      "BAB VI \n",
      "KETENTUAN PENUTUP \n",
      "Pasal 13 \n",
      "Peraturan Pemerintah ini mulai berlaku pada tanggal \n",
      "diundangkan. \n",
      "Agar... \n",
      "www.bphn.go.id\n",
      "gp oA By, \n",
      "mona fOr ~ é PRESIDEN \n",
      "REPUBLIK INDONESIA \n",
      "Oe \n",
      "Agar setiap orang mengetahuinya, memerintahkan \n",
      "pengundangan Peraturan  Pemerintah ini dengan \n",
      "penempatannya dalam Lembaran Negara Republik \n",
      "Indonesia. \n",
      "Ditetapkan di Jakarta \n",
      "pada tanggal 8 Mei 2013 \n",
      "PRESIDEN REPUBLIK INDONESIA, \n",
      "ttd. \n",
      "DR. H. SUSILO BAMBANG YUDHOYONO \n",
      "Diundangkan di Jakarta \n",
      "pada tanggal 8 Mei 2013 \n",
      "MENTERI HUKUM DAN HAK ASASI MANUSIA \n",
      "REPUBLIK INDONESIA, \n",
      "ttd. \n",
      "AMIR SYAMSUDIN \n",
      "LEMBARAN NEGARA REPUBLIK INDONESIA TAHUN 2013 NOMOR 75 \n",
      "Salinan sesuai dengan aslinya \n",
      "KEMENTERIAN SEKRETARIAT NEGARA RI \n",
      "Asisten Deputi Perundang-undangan ae \n",
      "py) / i, : : eyWisnu Setiawan \n",
      "www.bphn.go.id\n",
      "E PRESIDEN \n",
      "REPUBLIK INDONESIA \n",
      "PENJELASAN \n",
      "ATAS \n",
      "PERATURAN PEMERINTAH REPUBLIK INDONESIA \n",
      "NOMOR 33 TAHUN 2013 \n",
      "TENTANG \n",
      "PERLUASAN KESEMPATAN KERJA \n",
      "UMUM \n",
      "Pengangguran merupakan masalah nasional dan merupakan tanggung \n",
      "jawab Pemerintah, Pemerintah Daerah, dan masyarakat, sehingga \n",
      "dalam penanggulangannya harus dilakukan oleh semua stakeholders \n",
      "terkait secara bersama dan terintegrasi antar lintas sektor dan \n",
      "masyarakat, dengan cara mengupayakan perluasan kesempatan kerja \n",
      "baik di dalam maupun di luar hubungan kerja. \n",
      "Kebijakan Pemerintah dalam pembangunan ketenagakerjaan secara \n",
      "pokok tertuang dalam Undang-Undang Nomor 13 Tahun 2003 tentang \n",
      "Ketenagakerjaan, sebagai pelaksanaan Pasal 27 ayat (2) Undang- \n",
      "Undang Dasar Negara Republik Indonesia Tahun 1945 yang \n",
      "menyatakan bahwa “Tiap-tiap warga negara berhak atas pekerjaan dan \n",
      "penghidupan yang layak bagi kemanusiaan”. \n",
      "Pembangunan ketenagakerjaan mempunyai banyak dimensi dan \n",
      "keterkaitan. Keterkaitan tersebut tidak hanya dengan kepentingan \n",
      "tenaga kerja pada waktu sebelum, selama, dan sesudah masa kerja, \n",
      "tetapi juga berkaitan dengan upaya perluasan kesempatan kerja. \n",
      "Pekerjaan menjadi bagian yang penting dari kehidupan manusia, \n",
      "karena pada dasarnya setiap manusia membutuhkan pekerjaan \n",
      "sebagai wujud dari aktualisasi diri kepada keluarga, masyarakat, dan \n",
      "lingkungannya. Namun pada kenyataannya, hak tersebut tidak bisa \n",
      "dinikmati oleh setiap warga negara Indonesia, karena terbatasnya \n",
      "kesempatan kerja. Lowongan kerja yang tersedia tidak mampu \n",
      "menyerap jumlah tenaga kerja yang ada, karena ketidakseimbangan \n",
      "antara pertumbuhan angkatan kerja yang lebih tinggi dibandingkan \n",
      "dengan pertumbuhan kesempatan kerja. \n",
      "Sehubungan... \n",
      "www.bphn.go.id\n",
      "Ie PRESIDEN \n",
      "REPUBLIK INDONESIA \n",
      "oo \n",
      "Sehubungan dengan hal tersebut, Pemerintah dan Pemerintah Daerah \n",
      "perlu menetapkan kebijakan yang dapat memberikan kesempatan \n",
      "kerja kepada setiap orang, baik di dalam hubungan kerja maupun di \n",
      "luar hubungan kerja. Untuk itu perlu dukungan semua pihak dalam \n",
      "upaya menciptakan dan memperluas kesempatan kerja. \n",
      "Peraturan Pemerintah tentang Perluasan Kesempatan Kerja mengatur \n",
      "mengenai kebijakan Pemerintah dan Pemerintah Daerah yang \n",
      "diarahkan kepada penciptaan dan perluasan kesempatan kerja, baik di \n",
      "dalam maupun di luar hubungan kerja. \n",
      "Dalam rangka mendukung perluasan kesempatan kerja, Menteri \n",
      "melakukan koordinasi dengan instansi terkait dan dapat melibatkan \n",
      "masyarakat. Koordinasi dilakukan untuk memberi masukan, saran, \n",
      "dan pertimbangan kepada Pemerintah dan Pemerintah Daerah sebagai \n",
      "bahan dalam menetapkan kebijakan di bidang perluasan kesempatan \n",
      "kerja dan untuk melakukan mediasi, motivasi dan evaluasi \n",
      "pelaksanaan kebijakan Pemerintah di bidang perluasan kesempatan \n",
      "kerja. \n",
      "Peraturan Pemerintah ini mengatur mengenai perluasan kesempatan \n",
      "kerja di dalam hubungan kerja, perluasan kesempatan kerja di luar \n",
      "hubungan kerja, koordinasi perluasan kesempatan kerja, dan \n",
      "pelaporan. \n",
      "PASAL DEMI PASAL \n",
      "Pasal 1 \n",
      "Cukup jelas. \n",
      "Pasal 2 \n",
      "Cukup jelas. \n",
      "Pasal 3 \n",
      "Cukup jelas. \n",
      "Pasal 4 \n",
      "Ayat (1) \n",
      "Cukup jelas. \n",
      "Ayat (2)... \n",
      "www.bphn.go.id\n",
      "PRESIDEN \n",
      "REPUBLIK INDONESIA \n",
      "aiaee \n",
      "Ayat (2) \n",
      "Yang dimaksud dengan “kemudahan investasi” dalam \n",
      "ketentuan ini antara lain kemudahan dalam hal \n",
      "perpajakan, perbankan, penyediaan  infrastruktur, \n",
      "pelayanan, dan peraturan perundang-undangan. \n",
      "Pasal 5 \n",
      "Ayat (1) \n",
      "Cukup jelas. \n",
      "Ayat (2) \n",
      "Yang dimaksud dengan “program dan kegiatan perluasan \n",
      "kesempatan kerja” dalam ketentuan ini antara lain \n",
      "diversifikasi usaha dan ekstensifikasi usaha. \n",
      "Diversifikasi usaha adalah menganekaragamkan satu \n",
      "jenis usaha menjadi beberapa jenis usaha. \n",
      "Ekstensifikasi usaha adalah memperluas usaha yang \n",
      "sudah ada untuk meningkatkan produksi. \n",
      "Ayat (3) \n",
      "Cukup jelas. \n",
      "Pasal 6 \n",
      "Yang dimaksud dengan “kelembagaan masyarakat” dalam \n",
      "ketentuan ini adalah lembaga yang bergerak di bidang \n",
      "pemberdayaan ekonomi masyarakat. \n",
      "Pasal 7 \n",
      "Cukup jelas. \n",
      "Pasal 8 \n",
      "Ayat (1) \n",
      "Cukup jelas. \n",
      "Ayat (2)... \n",
      "www.bphn.go.id\n",
      "it, Oe, \n",
      "ge \n",
      "PRESIDEN \n",
      "REPUBLIK INDONESIA \n",
      "sa \n",
      "Ayat (2) \n",
      "Pasal 9 Yang dimaksud dengan “tenaga kerja mandiri” adalah \n",
      "tenaga kerja yang mempunyai sikap, semangat, perilaku \n",
      "dan kemampuan untuk melakukan atau menangani \n",
      "kegiatan atau usaha yang dapat menciptakan lapangan \n",
      "pekerjaan dan memberikan penghasilan bagi dirinya \n",
      "sendiri atau orang lain. \n",
      "Yang dimaksud dengan “sistem padat karya” adalah \n",
      "suatu sistem yang mengutamakan  dan/atau \n",
      "memprioritaskan penggunaan tenaga kerja yang cukup \n",
      "banyak untuk obekerja dalam suatu kegiatan \n",
      "pembangunan atau kegiatan usaha yang dilaksanakan \n",
      "oleh pemerintah atau masyarakat yang dapat \n",
      "memberikan penghasilan baik sementara ataupun tetap \n",
      "dan/atau terus menerus. \n",
      "Yang dimaksud dengan “teknologi tepat guna” adalah \n",
      "teknologi sederhana, mudah diterapkan, tidak merusak \n",
      "lingkungan serta menghasilkan nilai tambah dari aspek \n",
      "ekonomi. \n",
      "Yang dimaksud dengan “pola lain” adalah pola yang \n",
      "dapat menciptakan kesempatan kerja antara lain \n",
      "penciptaan industri kreatif, satu desa satu produk, \n",
      "pengembangan desa_ wisata, Program Nasional \n",
      "Pemberdayaan Masyarakat Mandiri (PNPM), penyaluran \n",
      "dana bergulir melalui pola Grameen Bank, dan pola \n",
      "inkubasi bisnis. \n",
      "Cukup jelas. \n",
      "Pasal 10 \n",
      "Cukup jelas. \n",
      "Pasal 11 \n",
      "Ayat (1) \n",
      "Cukup jelas. \n",
      "Ayat (2)... \n",
      "www.bphn.go.id\n",
      "PRESIDEN \n",
      "REPUBLIK INDONESIA \n",
      "ae \n",
      "Ayat (2) \n",
      "Yang dimaksud dengan “masyarakat” dalam keteniuan \n",
      "ini antara lain asosiasi profesi dan lembaga swadaya \n",
      "masyarakat yang bergerak di bidang pemberdayaan \n",
      "masyarakat. \n",
      "Ayat (3) \n",
      "Cukup jelas. \n",
      "Ayat (4) \n",
      "Cukup jelas. \n",
      "Ayat (5) \n",
      "Cukup jelas. \n",
      "Pasal 12 \n",
      "Cukup jelas. \n",
      "Pasal 13 \n",
      "Cukup jelas. \n",
      "TAMBAHAN LEMBARAN NEGARA REPUBLIK INDONESIA NOMOR_ 5413 \n",
      "www.bphn.go.id\n",
      "\n"
     ]
    }
   ],
   "source": [
    "text = \"\"\n",
    "for page_number in range(len(pdf.pages)): #len(pdf.pages)\n",
    "    page = pdf.pages[page_number]\n",
    "    text += page.extract_text()\n",
    "print(text)"
   ]
  },
  {
   "cell_type": "markdown",
   "metadata": {},
   "source": [
    "### Conclusion\n",
    "PyPDF2 is neater in comparison to PyMuPDF"
   ]
  },
  {
   "cell_type": "markdown",
   "metadata": {},
   "source": [
    "## Trying to Clean Extracted Text"
   ]
  },
  {
   "cell_type": "code",
   "execution_count": 13,
   "metadata": {},
   "outputs": [
    {
     "data": {
      "text/plain": [
       "\"ae Sy SALINAN ARO, it PRESIDEN REPUBLIK INDONESIA PERATURAN PEMERINTAH REPUBLIK INDONESIA Menimbang Mengingat Menetapkan NOMOR 33 TAHUN 2013 TENTANG PERLUASAN KESEMPATAN KERJA ‘DENGAN RAHMAT TUHAN YANG MAHA ESA PRESIDEN REPUBLIK INDONESIA, bahwa untuk melaksanakan ketentuan Pasal 41 ayat (4) Undang-Undang Nomor 13 Tahun 2003 tenteng Ketenagakerjaan, perlu)§ menetapkan Peraturan Pemerintah tentang Perluasan Kesempatan Kerja; . Pasal 5 ayat (2) Undang-Undang Dasar Negara Republik Indonesia Tahun 1945; . Undang-Undang Nomor 13 Tahun 2003 tentang Ketenagakerjaan (Lembaran Negara Republik Indonesia Tahun 2003 Nomor 39, Tambahan Lembaran Negara Republik Indonesia Nomor 4279); MEMUTUSKAN: PERATURAN PEMERINTAH TENTANG PERLUASAN KESEMPATAN KERJA. BAB 1... www.bphn.go.idwt DW, +k Ry srr PRESIDEN REPUBLIK INDONESIA <9e BAB I KETENTUAN UMUM Pasal 1 Dalam Peraturan Pemerintah ini yang dimaksud dengan: i Perluasan kesempatan kerja adalah upaya yang dilakukan untuk menciptakan lapangan pekerjaan baru dan/atau mengembangkan lapangan pekerjaan yang tersedia. Kesempatan kerja adalah lowongan pekerjaan yang diisi oleh pencari kerja dan pekerja yang sudah ada. Perluasan kesempatan kerja di dalam hubungan kerja adalah upaya yang dilakukan untuk menciptakan lapangan pekerjaan baru dan/atau mengembangkan lapangan pekerjaan yang tersedia berdasarkan perjanjian kerja, yang mempunyai unsur perintah, pekerjaan, dan upah. Perluasan kesempatan kerja di luar hubungan kerja adalah upaya yang dilakukan untuk menciptakan lapangan pekerjaan baru dan/atau mengembangkan lapangan pekerjaan yang tersedia tidak berdasarkan perjanjian kerja. Pemerintah Pusat, yang selanjutnya  disebut Pemerintah adalah Presiden Republik Indonesia yang memegang kekuasaan pemerintahan negara Republik Indonesia sebagaimana dimaksud dalam Undang- Undang Dasar Negara Republik Indonesia Tahun 1945. Pemerintah Daerah adalah gubernur, bupati, atau walikota, dan perangkat daerah sebagai unsur penyelenggara pemerintahan daerah. Menteri adalah menteri yang menyelenggarakan urusan pemerintahan di bidang ketenagakerjaan. Pasal 2... www.bphn.go.id(1) (2) Ie, Wee RO Tie, ant BS PRESIDEN 'REPUBLIK INDONESIA Lan Pasal 2 Pemerintah dan Pemerintah Daerah menetapkan kebijakan perluasan kesempatan kerja di setiap sektor sesuai dengan kewenangannya. Kebijakan perluasan kesempatan kerja sebagaimana dimaksud pada ayat (1) meliputi: a. kebijakan perluasan kesempatan kerja di dalam hubungan kerja; dan b. kebijakan perluasan kesempatan kerja di luar hubungan kerja. Pasal 3 Kebijakan perluasan kesempatan kerja sebagaimana dimaksud dalam Pasal 2 didasarkan atas perencanaan tenaga kerja nasional dan daerah di setiap sektor sesuai dengan ketentuan peraturan perundang-undangan. BAB II PERLUASAN KESEMPATAN KERJA DI DALAM HUBUNGAN KERJA (1) (2) Pasal 4 Kebijakan perluasan kesempatan kerja di dalam hubungan kerja sebagaimana dimaksud dalam Pasal 2 ayat (2) huruf a diarahkan untuk menciptakan dan mengembangkan perluasan kesempatan kerja. Untuk menciptakan dan mengembangkan perluasan kesempatan kerja sebagaimana dimaksud pada ayat (1) Pemerintah dan Pemerintah Daerah dapat memberi kemudahan investasi. Pasal 5... www.bphn.go.idPRESIDEN REPUBLIK INDONESIA aide Pasal 5 (1) Kebijakan perluasan kesempatan kerja di dalam hubungan kerja sebagaimana dimaksud dalam Pasal 4 dilaksanakan oleh badan usaha milik negara, badan usaha milik daerah, dan swasta. (2) Dalam melaksanakan  kebijakan sebagaimana dimaksud pada ayat (1) badan usaha milik negara, badan usaha milik daerah, dan swasta menetapkan program dan kegiatan perluasan kesempatan kerja di dalam hubungan kerja. (3) Program dan kegiatan sebagaimana dimaksud pada ayat (2) harus menyerap tenaga kerja. BAB III PERLUASAN KESEMPATAN KERJA DI LUAR HUBUNGAN KERJA Pasal 6 Kebijakan perluasan kesempatan kerja di luar hubungan kerja sebagaimana dimaksud dalam Pasal 2 ayat (2) huruf b diarahkan untuk menciptakan dan mengembangkan kesempatan kerja yang produktif dan berkelanjutan dengan mendayagunakan potensi sumber daya alam, sumber daya manusia, kelembagaan masyarakat, dan teknologi tepat guna. Pasal 7 Kebijakan perluasan kesempatan kerja di luar hubungan kerja sebagaimana dimaksud dalam Pasal 6 dilaksanakan oleh Pemerintah, Pemerintah Daerah, badan usaha milik negara, badan usaha _ milik daerah, swasta, dan kelembagaan masyarakat. Pasal 8... www.bphn.go.id(1) (2) PRESIDEN REPUBLIK INDONESIA =o Pasal 8 Kebijakan perluasan kesempatan kerja di luar hubungan kerja sebagaimana dimaksud dalam Pasal 6 dilakukan dalam bentuk program kewirausahaan. Program kewirausahaan sebagaimana dimaksud pada ayat (1) dilakukan dengan pola pembentukan dan pembinaan tenaga kerja mandiri, sistem padat karya, penerapan teknologi tepat guna, pendayagunaan tenaga kerja sukarela, dan/atau pola lain yang dapat mendorong terciptanya perluasan kesempatan kerja. Pasal 9 Pemerintah dan Pemerintah Daerah memfasilitasi pelaksanaan pola sebagaimana dimaksud dalam Pasal 8 melalui kegiatan: mropae op permodalan; penjaminan; pendampingan; pelatihan; konsultasi; bimbingan teknis; dan/atau penyediaan data dan informasi. Pasal 10 Lembaga penjaminan dan lembaga keuangan memberikan kemudahan dan fasilitasi kepada masyarakat yang dapat menciptakan atau memperluas kesempatan kerja berupa _ fasilitas kredit dan/atau fasilitas penjaminan kredit. BAB IV... www.bphn.go.idPRESIDEN REPUBLIK INDONESIA -~-6< BAB IV KOORDINASI PERLUASAN KESEMPATAN KERJA (1) (2) (3) (4) (5) Pasal 11 Menteri melakukan koordinasi dengan instansi terkait untuk mendukung pelaksanaan perluasan kesempatan kerja. Dalam hal diperlukan, Menteri dapat mengikutsertakan masyarakat dalam pelaksanaan koordinasi sebagaimana dimaksud pada ayat (1). Koordinasi sebagaimana dimaksud pada ayat (2) dilakukan untuk: a. memberi masukan, saran, dan pertimbangan kepada Pemerintah dan Pemerintah Daerah sebagai bahan dalam menetapkan kebijakan di bidang perluasan kesempatan kerja; dan b. melakukan mediasi, motivasi, dan  evaluasi pelaksanaan kebijakan Pemerintah di bidang perluasan kesempatan kerja. Koordinasi sebagaimana dimaksud pada ayat (3), diselenggarakan paling sedikit 1 (satu) kali dalaru 1 (satu) tahun atau sewaktu-waktu apabila diperlukan. Ketentuan lebih lanjut mengenai koordinasi perluasan kesempatan kerja diatur dengan Peraturan Menteri. BAB V. www.bphn.go.id(1) (2) (3) PRESIDEN REPUBLIK INDONESIA ir BAB V PELAPORAN Pasal 12 Pemerintah, Pemerintah Daerah, badan usaha milik negara, badan usaha milik daerah, swasta, dan kelembagaan masyarakat sebagaimana dimaksud dalam Pasal 5 ayat (1) dan Pasal 7 berkewajiban melaporkan secara tertulis perluasan kesempatan kerja kepada instansi yang bertanggung jawab di bidang ketenagakerjaan. Laporan sebagaimana dimaksud pada ayat (1) dipergunakan sebagai dasar bagi instansi yang bertanggung jawab di bidang ketenagakerjaan untuk menetapkan kebijakan perluasan kesempatan kerja sesuai dengan kewenangan masing-masing. Tata cara dan  bentuk pelaporan perluasan kesempatan kerja sebagaimana dimaksud pada ayat (2) diatur dengan Peraturan Menteri. BAB VI KETENTUAN PENUTUP Pasal 13 Peraturan Pemerintah ini mulai berlaku pada tanggal diundangkan. Agar... www.bphn.go.idgp oA By, mona fOr ~ é PRESIDEN REPUBLIK INDONESIA Oe Agar setiap orang mengetahuinya, memerintahkan pengundangan Peraturan  Pemerintah ini dengan penempatannya dalam Lembaran Negara Republik Indonesia. Ditetapkan di Jakarta pada tanggal 8 Mei 2013 PRESIDEN REPUBLIK INDONESIA, ttd. DR. H. SUSILO BAMBANG YUDHOYONO Diundangkan di Jakarta pada tanggal 8 Mei 2013 MENTERI HUKUM DAN HAK ASASI MANUSIA REPUBLIK INDONESIA, ttd. AMIR SYAMSUDIN LEMBARAN NEGARA REPUBLIK INDONESIA TAHUN 2013 NOMOR 75 Salinan sesuai dengan aslinya KEMENTERIAN SEKRETARIAT NEGARA RI Asisten Deputi Perundang-undangan ae py) / i, : : eyWisnu Setiawan www.bphn.go.idE PRESIDEN REPUBLIK INDONESIA PENJELASAN ATAS PERATURAN PEMERINTAH REPUBLIK INDONESIA NOMOR 33 TAHUN 2013 TENTANG PERLUASAN KESEMPATAN KERJA UMUM Pengangguran merupakan masalah nasional dan merupakan tanggung jawab Pemerintah, Pemerintah Daerah, dan masyarakat, sehingga dalam penanggulangannya harus dilakukan oleh semua stakeholders terkait secara bersama dan terintegrasi antar lintas sektor dan masyarakat, dengan cara mengupayakan perluasan kesempatan kerja baik di dalam maupun di luar hubungan kerja. Kebijakan Pemerintah dalam pembangunan ketenagakerjaan secara pokok tertuang dalam Undang-Undang Nomor 13 Tahun 2003 tentang Ketenagakerjaan, sebagai pelaksanaan Pasal 27 ayat (2) Undang- Undang Dasar Negara Republik Indonesia Tahun 1945 yang menyatakan bahwa “Tiap-tiap warga negara berhak atas pekerjaan dan penghidupan yang layak bagi kemanusiaan”. Pembangunan ketenagakerjaan mempunyai banyak dimensi dan keterkaitan. Keterkaitan tersebut tidak hanya dengan kepentingan tenaga kerja pada waktu sebelum, selama, dan sesudah masa kerja, tetapi juga berkaitan dengan upaya perluasan kesempatan kerja. Pekerjaan menjadi bagian yang penting dari kehidupan manusia, karena pada dasarnya setiap manusia membutuhkan pekerjaan sebagai wujud dari aktualisasi diri kepada keluarga, masyarakat, dan lingkungannya. Namun pada kenyataannya, hak tersebut tidak bisa dinikmati oleh setiap warga negara Indonesia, karena terbatasnya kesempatan kerja. Lowongan kerja yang tersedia tidak mampu menyerap jumlah tenaga kerja yang ada, karena ketidakseimbangan antara pertumbuhan angkatan kerja yang lebih tinggi dibandingkan dengan pertumbuhan kesempatan kerja. Sehubungan... www.bphn.go.idIe PRESIDEN REPUBLIK INDONESIA oo Sehubungan dengan hal tersebut, Pemerintah dan Pemerintah Daerah perlu menetapkan kebijakan yang dapat memberikan kesempatan kerja kepada setiap orang, baik di dalam hubungan kerja maupun di luar hubungan kerja. Untuk itu perlu dukungan semua pihak dalam upaya menciptakan dan memperluas kesempatan kerja. Peraturan Pemerintah tentang Perluasan Kesempatan Kerja mengatur mengenai kebijakan Pemerintah dan Pemerintah Daerah yang diarahkan kepada penciptaan dan perluasan kesempatan kerja, baik di dalam maupun di luar hubungan kerja. Dalam rangka mendukung perluasan kesempatan kerja, Menteri melakukan koordinasi dengan instansi terkait dan dapat melibatkan masyarakat. Koordinasi dilakukan untuk memberi masukan, saran, dan pertimbangan kepada Pemerintah dan Pemerintah Daerah sebagai bahan dalam menetapkan kebijakan di bidang perluasan kesempatan kerja dan untuk melakukan mediasi, motivasi dan evaluasi pelaksanaan kebijakan Pemerintah di bidang perluasan kesempatan kerja. Peraturan Pemerintah ini mengatur mengenai perluasan kesempatan kerja di dalam hubungan kerja, perluasan kesempatan kerja di luar hubungan kerja, koordinasi perluasan kesempatan kerja, dan pelaporan. PASAL DEMI PASAL Pasal 1 Cukup jelas. Pasal 2 Cukup jelas. Pasal 3 Cukup jelas. Pasal 4 Ayat (1) Cukup jelas. Ayat (2)... www.bphn.go.idPRESIDEN REPUBLIK INDONESIA aiaee Ayat (2) Yang dimaksud dengan “kemudahan investasi” dalam ketentuan ini antara lain kemudahan dalam hal perpajakan, perbankan, penyediaan  infrastruktur, pelayanan, dan peraturan perundang-undangan. Pasal 5 Ayat (1) Cukup jelas. Ayat (2) Yang dimaksud dengan “program dan kegiatan perluasan kesempatan kerja” dalam ketentuan ini antara lain diversifikasi usaha dan ekstensifikasi usaha. Diversifikasi usaha adalah menganekaragamkan satu jenis usaha menjadi beberapa jenis usaha. Ekstensifikasi usaha adalah memperluas usaha yang sudah ada untuk meningkatkan produksi. Ayat (3) Cukup jelas. Pasal 6 Yang dimaksud dengan “kelembagaan masyarakat” dalam ketentuan ini adalah lembaga yang bergerak di bidang pemberdayaan ekonomi masyarakat. Pasal 7 Cukup jelas. Pasal 8 Ayat (1) Cukup jelas. Ayat (2)... www.bphn.go.idit, Oe, ge PRESIDEN REPUBLIK INDONESIA sa Ayat (2) Pasal 9 Yang dimaksud dengan “tenaga kerja mandiri” adalah tenaga kerja yang mempunyai sikap, semangat, perilaku dan kemampuan untuk melakukan atau menangani kegiatan atau usaha yang dapat menciptakan lapangan pekerjaan dan memberikan penghasilan bagi dirinya sendiri atau orang lain. Yang dimaksud dengan “sistem padat karya” adalah suatu sistem yang mengutamakan  dan/atau memprioritaskan penggunaan tenaga kerja yang cukup banyak untuk obekerja dalam suatu kegiatan pembangunan atau kegiatan usaha yang dilaksanakan oleh pemerintah atau masyarakat yang dapat memberikan penghasilan baik sementara ataupun tetap dan/atau terus menerus. Yang dimaksud dengan “teknologi tepat guna” adalah teknologi sederhana, mudah diterapkan, tidak merusak lingkungan serta menghasilkan nilai tambah dari aspek ekonomi. Yang dimaksud dengan “pola lain” adalah pola yang dapat menciptakan kesempatan kerja antara lain penciptaan industri kreatif, satu desa satu produk, pengembangan desa_ wisata, Program Nasional Pemberdayaan Masyarakat Mandiri (PNPM), penyaluran dana bergulir melalui pola Grameen Bank, dan pola inkubasi bisnis. Cukup jelas. Pasal 10 Cukup jelas. Pasal 11 Ayat (1) Cukup jelas. Ayat (2)... www.bphn.go.idPRESIDEN REPUBLIK INDONESIA ae Ayat (2) Yang dimaksud dengan “masyarakat” dalam keteniuan ini antara lain asosiasi profesi dan lembaga swadaya masyarakat yang bergerak di bidang pemberdayaan masyarakat. Ayat (3) Cukup jelas. Ayat (4) Cukup jelas. Ayat (5) Cukup jelas. Pasal 12 Cukup jelas. Pasal 13 Cukup jelas. TAMBAHAN LEMBARAN NEGARA REPUBLIK INDONESIA NOMOR_ 5413 www.bphn.go.id\""
      ]
     },
     "execution_count": 13,
     "metadata": {},
     "output_type": "execute_result"
    }
   ],
   "source": [
    "text = re.sub(r'\\n', '', text)\n",
    "text"
   ]
  },
  {
   "cell_type": "code",
   "execution_count": 14,
   "metadata": {},
   "outputs": [
    {
     "name": "stdout",
     "output_type": "stream",
     "text": [
      "Requirement already satisfied: nltk in /Users/rsoedarnadi/opt/anaconda3/lib/python3.9/site-packages (3.7)\n",
      "Requirement already satisfied: click in /Users/rsoedarnadi/opt/anaconda3/lib/python3.9/site-packages (from nltk) (8.0.4)\n",
      "Requirement already satisfied: tqdm in /Users/rsoedarnadi/opt/anaconda3/lib/python3.9/site-packages (from nltk) (4.64.1)\n",
      "Requirement already satisfied: joblib in /Users/rsoedarnadi/opt/anaconda3/lib/python3.9/site-packages (from nltk) (1.1.0)\n",
      "Requirement already satisfied: regex>=2021.8.3 in /Users/rsoedarnadi/opt/anaconda3/lib/python3.9/site-packages (from nltk) (2022.7.9)\n"
     ]
    }
   ],
   "source": [
    "!pip install nltk"
   ]
  },
  {
   "cell_type": "code",
   "execution_count": 15,
   "metadata": {},
   "outputs": [
    {
     "name": "stdout",
     "output_type": "stream",
     "text": [
      "['ae Sy SALINAN ARO, it PRESIDEN REPUBLIK INDONESIA PERATURAN PEMERINTAH REPUBLIK INDONESIA Menimbang Mengingat Menetapkan NOMOR 33 TAHUN 2013 TENTANG PERLUASAN KESEMPATAN KERJA ‘DENGAN RAHMAT TUHAN YANG MAHA ESA PRESIDEN REPUBLIK INDONESIA, bahwa untuk melaksanakan ketentuan Pasal 41 ayat (4) Undang-Undang Nomor 13 Tahun 2003 tenteng Ketenagakerjaan, perlu)§ menetapkan Peraturan Pemerintah tentang Perluasan Kesempatan Kerja; .', 'Pasal 5 ayat (2) Undang-Undang Dasar Negara Republik Indonesia Tahun 1945; .', 'Undang-Undang Nomor 13 Tahun 2003 tentang Ketenagakerjaan (Lembaran Negara Republik Indonesia Tahun 2003 Nomor 39, Tambahan Lembaran Negara Republik Indonesia Nomor 4279); MEMUTUSKAN: PERATURAN PEMERINTAH TENTANG PERLUASAN KESEMPATAN KERJA.', 'BAB 1... www.bphn.go.idwt DW, +k Ry srr PRESIDEN REPUBLIK INDONESIA <9e BAB I KETENTUAN UMUM Pasal 1 Dalam Peraturan Pemerintah ini yang dimaksud dengan: i Perluasan kesempatan kerja adalah upaya yang dilakukan untuk menciptakan lapangan pekerjaan baru dan/atau mengembangkan lapangan pekerjaan yang tersedia.', 'Kesempatan kerja adalah lowongan pekerjaan yang diisi oleh pencari kerja dan pekerja yang sudah ada.', 'Perluasan kesempatan kerja di dalam hubungan kerja adalah upaya yang dilakukan untuk menciptakan lapangan pekerjaan baru dan/atau mengembangkan lapangan pekerjaan yang tersedia berdasarkan perjanjian kerja, yang mempunyai unsur perintah, pekerjaan, dan upah.', 'Perluasan kesempatan kerja di luar hubungan kerja adalah upaya yang dilakukan untuk menciptakan lapangan pekerjaan baru dan/atau mengembangkan lapangan pekerjaan yang tersedia tidak berdasarkan perjanjian kerja.', 'Pemerintah Pusat, yang selanjutnya  disebut Pemerintah adalah Presiden Republik Indonesia yang memegang kekuasaan pemerintahan negara Republik Indonesia sebagaimana dimaksud dalam Undang- Undang Dasar Negara Republik Indonesia Tahun 1945.', 'Pemerintah Daerah adalah gubernur, bupati, atau walikota, dan perangkat daerah sebagai unsur penyelenggara pemerintahan daerah.', 'Menteri adalah menteri yang menyelenggarakan urusan pemerintahan di bidang ketenagakerjaan.', \"Pasal 2... www.bphn.go.id(1) (2) Ie, Wee RO Tie, ant BS PRESIDEN 'REPUBLIK INDONESIA Lan Pasal 2 Pemerintah dan Pemerintah Daerah menetapkan kebijakan perluasan kesempatan kerja di setiap sektor sesuai dengan kewenangannya.\", 'Kebijakan perluasan kesempatan kerja sebagaimana dimaksud pada ayat (1) meliputi: a. kebijakan perluasan kesempatan kerja di dalam hubungan kerja; dan b. kebijakan perluasan kesempatan kerja di luar hubungan kerja.', 'Pasal 3 Kebijakan perluasan kesempatan kerja sebagaimana dimaksud dalam Pasal 2 didasarkan atas perencanaan tenaga kerja nasional dan daerah di setiap sektor sesuai dengan ketentuan peraturan perundang-undangan.', 'BAB II PERLUASAN KESEMPATAN KERJA DI DALAM HUBUNGAN KERJA (1) (2) Pasal 4 Kebijakan perluasan kesempatan kerja di dalam hubungan kerja sebagaimana dimaksud dalam Pasal 2 ayat (2) huruf a diarahkan untuk menciptakan dan mengembangkan perluasan kesempatan kerja.', 'Untuk menciptakan dan mengembangkan perluasan kesempatan kerja sebagaimana dimaksud pada ayat (1) Pemerintah dan Pemerintah Daerah dapat memberi kemudahan investasi.', 'Pasal 5... www.bphn.go.idPRESIDEN REPUBLIK INDONESIA aide Pasal 5 (1) Kebijakan perluasan kesempatan kerja di dalam hubungan kerja sebagaimana dimaksud dalam Pasal 4 dilaksanakan oleh badan usaha milik negara, badan usaha milik daerah, dan swasta.', '(2) Dalam melaksanakan  kebijakan sebagaimana dimaksud pada ayat (1) badan usaha milik negara, badan usaha milik daerah, dan swasta menetapkan program dan kegiatan perluasan kesempatan kerja di dalam hubungan kerja.', '(3) Program dan kegiatan sebagaimana dimaksud pada ayat (2) harus menyerap tenaga kerja.', 'BAB III PERLUASAN KESEMPATAN KERJA DI LUAR HUBUNGAN KERJA Pasal 6 Kebijakan perluasan kesempatan kerja di luar hubungan kerja sebagaimana dimaksud dalam Pasal 2 ayat (2) huruf b diarahkan untuk menciptakan dan mengembangkan kesempatan kerja yang produktif dan berkelanjutan dengan mendayagunakan potensi sumber daya alam, sumber daya manusia, kelembagaan masyarakat, dan teknologi tepat guna.', 'Pasal 7 Kebijakan perluasan kesempatan kerja di luar hubungan kerja sebagaimana dimaksud dalam Pasal 6 dilaksanakan oleh Pemerintah, Pemerintah Daerah, badan usaha milik negara, badan usaha _ milik daerah, swasta, dan kelembagaan masyarakat.', 'Pasal 8... www.bphn.go.id(1) (2) PRESIDEN REPUBLIK INDONESIA =o Pasal 8 Kebijakan perluasan kesempatan kerja di luar hubungan kerja sebagaimana dimaksud dalam Pasal 6 dilakukan dalam bentuk program kewirausahaan.', 'Program kewirausahaan sebagaimana dimaksud pada ayat (1) dilakukan dengan pola pembentukan dan pembinaan tenaga kerja mandiri, sistem padat karya, penerapan teknologi tepat guna, pendayagunaan tenaga kerja sukarela, dan/atau pola lain yang dapat mendorong terciptanya perluasan kesempatan kerja.', 'Pasal 9 Pemerintah dan Pemerintah Daerah memfasilitasi pelaksanaan pola sebagaimana dimaksud dalam Pasal 8 melalui kegiatan: mropae op permodalan; penjaminan; pendampingan; pelatihan; konsultasi; bimbingan teknis; dan/atau penyediaan data dan informasi.', 'Pasal 10 Lembaga penjaminan dan lembaga keuangan memberikan kemudahan dan fasilitasi kepada masyarakat yang dapat menciptakan atau memperluas kesempatan kerja berupa _ fasilitas kredit dan/atau fasilitas penjaminan kredit.', 'BAB IV... www.bphn.go.idPRESIDEN REPUBLIK INDONESIA -~-6< BAB IV KOORDINASI PERLUASAN KESEMPATAN KERJA (1) (2) (3) (4) (5) Pasal 11 Menteri melakukan koordinasi dengan instansi terkait untuk mendukung pelaksanaan perluasan kesempatan kerja.', 'Dalam hal diperlukan, Menteri dapat mengikutsertakan masyarakat dalam pelaksanaan koordinasi sebagaimana dimaksud pada ayat (1).', 'Koordinasi sebagaimana dimaksud pada ayat (2) dilakukan untuk: a. memberi masukan, saran, dan pertimbangan kepada Pemerintah dan Pemerintah Daerah sebagai bahan dalam menetapkan kebijakan di bidang perluasan kesempatan kerja; dan b. melakukan mediasi, motivasi, dan  evaluasi pelaksanaan kebijakan Pemerintah di bidang perluasan kesempatan kerja.', 'Koordinasi sebagaimana dimaksud pada ayat (3), diselenggarakan paling sedikit 1 (satu) kali dalaru 1 (satu) tahun atau sewaktu-waktu apabila diperlukan.', 'Ketentuan lebih lanjut mengenai koordinasi perluasan kesempatan kerja diatur dengan Peraturan Menteri.', 'BAB V. www.bphn.go.id(1) (2) (3) PRESIDEN REPUBLIK INDONESIA ir BAB V PELAPORAN Pasal 12 Pemerintah, Pemerintah Daerah, badan usaha milik negara, badan usaha milik daerah, swasta, dan kelembagaan masyarakat sebagaimana dimaksud dalam Pasal 5 ayat (1) dan Pasal 7 berkewajiban melaporkan secara tertulis perluasan kesempatan kerja kepada instansi yang bertanggung jawab di bidang ketenagakerjaan.', 'Laporan sebagaimana dimaksud pada ayat (1) dipergunakan sebagai dasar bagi instansi yang bertanggung jawab di bidang ketenagakerjaan untuk menetapkan kebijakan perluasan kesempatan kerja sesuai dengan kewenangan masing-masing.', 'Tata cara dan  bentuk pelaporan perluasan kesempatan kerja sebagaimana dimaksud pada ayat (2) diatur dengan Peraturan Menteri.', 'BAB VI KETENTUAN PENUTUP Pasal 13 Peraturan Pemerintah ini mulai berlaku pada tanggal diundangkan.', 'Agar... www.bphn.go.idgp oA By, mona fOr ~ é PRESIDEN REPUBLIK INDONESIA Oe Agar setiap orang mengetahuinya, memerintahkan pengundangan Peraturan  Pemerintah ini dengan penempatannya dalam Lembaran Negara Republik Indonesia.', 'Ditetapkan di Jakarta pada tanggal 8 Mei 2013 PRESIDEN REPUBLIK INDONESIA, ttd.', 'DR. H. SUSILO BAMBANG YUDHOYONO Diundangkan di Jakarta pada tanggal 8 Mei 2013 MENTERI HUKUM DAN HAK ASASI MANUSIA REPUBLIK INDONESIA, ttd.', 'AMIR SYAMSUDIN LEMBARAN NEGARA REPUBLIK INDONESIA TAHUN 2013 NOMOR 75 Salinan sesuai dengan aslinya KEMENTERIAN SEKRETARIAT NEGARA RI Asisten Deputi Perundang-undangan ae py) / i, : : eyWisnu Setiawan www.bphn.go.idE PRESIDEN REPUBLIK INDONESIA PENJELASAN ATAS PERATURAN PEMERINTAH REPUBLIK INDONESIA NOMOR 33 TAHUN 2013 TENTANG PERLUASAN KESEMPATAN KERJA UMUM Pengangguran merupakan masalah nasional dan merupakan tanggung jawab Pemerintah, Pemerintah Daerah, dan masyarakat, sehingga dalam penanggulangannya harus dilakukan oleh semua stakeholders terkait secara bersama dan terintegrasi antar lintas sektor dan masyarakat, dengan cara mengupayakan perluasan kesempatan kerja baik di dalam maupun di luar hubungan kerja.', 'Kebijakan Pemerintah dalam pembangunan ketenagakerjaan secara pokok tertuang dalam Undang-Undang Nomor 13 Tahun 2003 tentang Ketenagakerjaan, sebagai pelaksanaan Pasal 27 ayat (2) Undang- Undang Dasar Negara Republik Indonesia Tahun 1945 yang menyatakan bahwa “Tiap-tiap warga negara berhak atas pekerjaan dan penghidupan yang layak bagi kemanusiaan”.', 'Pembangunan ketenagakerjaan mempunyai banyak dimensi dan keterkaitan.', 'Keterkaitan tersebut tidak hanya dengan kepentingan tenaga kerja pada waktu sebelum, selama, dan sesudah masa kerja, tetapi juga berkaitan dengan upaya perluasan kesempatan kerja.', 'Pekerjaan menjadi bagian yang penting dari kehidupan manusia, karena pada dasarnya setiap manusia membutuhkan pekerjaan sebagai wujud dari aktualisasi diri kepada keluarga, masyarakat, dan lingkungannya.', 'Namun pada kenyataannya, hak tersebut tidak bisa dinikmati oleh setiap warga negara Indonesia, karena terbatasnya kesempatan kerja.', 'Lowongan kerja yang tersedia tidak mampu menyerap jumlah tenaga kerja yang ada, karena ketidakseimbangan antara pertumbuhan angkatan kerja yang lebih tinggi dibandingkan dengan pertumbuhan kesempatan kerja.', 'Sehubungan... www.bphn.go.idIe PRESIDEN REPUBLIK INDONESIA oo Sehubungan dengan hal tersebut, Pemerintah dan Pemerintah Daerah perlu menetapkan kebijakan yang dapat memberikan kesempatan kerja kepada setiap orang, baik di dalam hubungan kerja maupun di luar hubungan kerja.', 'Untuk itu perlu dukungan semua pihak dalam upaya menciptakan dan memperluas kesempatan kerja.', 'Peraturan Pemerintah tentang Perluasan Kesempatan Kerja mengatur mengenai kebijakan Pemerintah dan Pemerintah Daerah yang diarahkan kepada penciptaan dan perluasan kesempatan kerja, baik di dalam maupun di luar hubungan kerja.', 'Dalam rangka mendukung perluasan kesempatan kerja, Menteri melakukan koordinasi dengan instansi terkait dan dapat melibatkan masyarakat.', 'Koordinasi dilakukan untuk memberi masukan, saran, dan pertimbangan kepada Pemerintah dan Pemerintah Daerah sebagai bahan dalam menetapkan kebijakan di bidang perluasan kesempatan kerja dan untuk melakukan mediasi, motivasi dan evaluasi pelaksanaan kebijakan Pemerintah di bidang perluasan kesempatan kerja.', 'Peraturan Pemerintah ini mengatur mengenai perluasan kesempatan kerja di dalam hubungan kerja, perluasan kesempatan kerja di luar hubungan kerja, koordinasi perluasan kesempatan kerja, dan pelaporan.', 'PASAL DEMI PASAL Pasal 1 Cukup jelas.', 'Pasal 2 Cukup jelas.', 'Pasal 3 Cukup jelas.', 'Pasal 4 Ayat (1) Cukup jelas.', 'Ayat (2)... www.bphn.go.idPRESIDEN REPUBLIK INDONESIA aiaee Ayat (2) Yang dimaksud dengan “kemudahan investasi” dalam ketentuan ini antara lain kemudahan dalam hal perpajakan, perbankan, penyediaan  infrastruktur, pelayanan, dan peraturan perundang-undangan.', 'Pasal 5 Ayat (1) Cukup jelas.', 'Ayat (2) Yang dimaksud dengan “program dan kegiatan perluasan kesempatan kerja” dalam ketentuan ini antara lain diversifikasi usaha dan ekstensifikasi usaha.', 'Diversifikasi usaha adalah menganekaragamkan satu jenis usaha menjadi beberapa jenis usaha.', 'Ekstensifikasi usaha adalah memperluas usaha yang sudah ada untuk meningkatkan produksi.', 'Ayat (3) Cukup jelas.', 'Pasal 6 Yang dimaksud dengan “kelembagaan masyarakat” dalam ketentuan ini adalah lembaga yang bergerak di bidang pemberdayaan ekonomi masyarakat.', 'Pasal 7 Cukup jelas.', 'Pasal 8 Ayat (1) Cukup jelas.', 'Ayat (2)... www.bphn.go.idit, Oe, ge PRESIDEN REPUBLIK INDONESIA sa Ayat (2) Pasal 9 Yang dimaksud dengan “tenaga kerja mandiri” adalah tenaga kerja yang mempunyai sikap, semangat, perilaku dan kemampuan untuk melakukan atau menangani kegiatan atau usaha yang dapat menciptakan lapangan pekerjaan dan memberikan penghasilan bagi dirinya sendiri atau orang lain.', 'Yang dimaksud dengan “sistem padat karya” adalah suatu sistem yang mengutamakan  dan/atau memprioritaskan penggunaan tenaga kerja yang cukup banyak untuk obekerja dalam suatu kegiatan pembangunan atau kegiatan usaha yang dilaksanakan oleh pemerintah atau masyarakat yang dapat memberikan penghasilan baik sementara ataupun tetap dan/atau terus menerus.', 'Yang dimaksud dengan “teknologi tepat guna” adalah teknologi sederhana, mudah diterapkan, tidak merusak lingkungan serta menghasilkan nilai tambah dari aspek ekonomi.', 'Yang dimaksud dengan “pola lain” adalah pola yang dapat menciptakan kesempatan kerja antara lain penciptaan industri kreatif, satu desa satu produk, pengembangan desa_ wisata, Program Nasional Pemberdayaan Masyarakat Mandiri (PNPM), penyaluran dana bergulir melalui pola Grameen Bank, dan pola inkubasi bisnis.', 'Cukup jelas.', 'Pasal 10 Cukup jelas.', 'Pasal 11 Ayat (1) Cukup jelas.', 'Ayat (2)... www.bphn.go.idPRESIDEN REPUBLIK INDONESIA ae Ayat (2) Yang dimaksud dengan “masyarakat” dalam keteniuan ini antara lain asosiasi profesi dan lembaga swadaya masyarakat yang bergerak di bidang pemberdayaan masyarakat.', 'Ayat (3) Cukup jelas.', 'Ayat (4) Cukup jelas.', 'Ayat (5) Cukup jelas.', 'Pasal 12 Cukup jelas.', 'Pasal 13 Cukup jelas.', 'TAMBAHAN LEMBARAN NEGARA REPUBLIK INDONESIA NOMOR_ 5413 www.bphn.go.id']\n"
     ]
    }
   ],
   "source": [
    "import nltk\n",
    "#nltk.download('punkt')  # Download the required tokenizer data\n",
    "from nltk.tokenize import sent_tokenize\n",
    "sentences = sent_tokenize(text)\n",
    "print(sentences)"
   ]
  },
  {
   "cell_type": "code",
   "execution_count": 16,
   "metadata": {},
   "outputs": [
    {
     "data": {
      "text/plain": [
       "['ae Sy SALINAN ARO, it PRESIDEN REPUBLIK INDONESIA PERATURAN PEMERINTAH REPUBLIK INDONESIA Menimbang Mengingat Menetapkan NOMOR 33 TAHUN 2013 TENTANG PERLUASAN KESEMPATAN KERJA ‘DENGAN RAHMAT TUHAN YANG MAHA ESA PRESIDEN REPUBLIK INDONESIA, bahwa untuk melaksanakan ketentuan Pasal 41 ayat (4) Undang-Undang Nomor 13 Tahun 2003 tenteng Ketenagakerjaan, perlu)§ menetapkan Peraturan Pemerintah tentang Perluasan Kesempatan Kerja; .',\n",
       " 'Pasal 5 ayat (2) Undang-Undang Dasar Negara Republik Indonesia Tahun 1945; .',\n",
       " 'Undang-Undang Nomor 13 Tahun 2003 tentang Ketenagakerjaan (Lembaran Negara Republik Indonesia Tahun 2003 Nomor 39, Tambahan Lembaran Negara Republik Indonesia Nomor 4279); MEMUTUSKAN: PERATURAN PEMERINTAH TENTANG PERLUASAN KESEMPATAN KERJA.',\n",
       " 'BAB 1... www.bphn.go.idwt DW, +k Ry srr PRESIDEN REPUBLIK INDONESIA <9e BAB I KETENTUAN UMUM Pasal 1 Dalam Peraturan Pemerintah ini yang dimaksud dengan: i Perluasan kesempatan kerja adalah upaya yang dilakukan untuk menciptakan lapangan pekerjaan baru dan/atau mengembangkan lapangan pekerjaan yang tersedia.',\n",
       " 'Kesempatan kerja adalah lowongan pekerjaan yang diisi oleh pencari kerja dan pekerja yang sudah ada.',\n",
       " 'Perluasan kesempatan kerja di dalam hubungan kerja adalah upaya yang dilakukan untuk menciptakan lapangan pekerjaan baru dan/atau mengembangkan lapangan pekerjaan yang tersedia berdasarkan perjanjian kerja, yang mempunyai unsur perintah, pekerjaan, dan upah.',\n",
       " 'Perluasan kesempatan kerja di luar hubungan kerja adalah upaya yang dilakukan untuk menciptakan lapangan pekerjaan baru dan/atau mengembangkan lapangan pekerjaan yang tersedia tidak berdasarkan perjanjian kerja.',\n",
       " 'Pemerintah Pusat, yang selanjutnya  disebut Pemerintah adalah Presiden Republik Indonesia yang memegang kekuasaan pemerintahan negara Republik Indonesia sebagaimana dimaksud dalam Undang- Undang Dasar Negara Republik Indonesia Tahun 1945.',\n",
       " 'Pemerintah Daerah adalah gubernur, bupati, atau walikota, dan perangkat daerah sebagai unsur penyelenggara pemerintahan daerah.',\n",
       " 'Menteri adalah menteri yang menyelenggarakan urusan pemerintahan di bidang ketenagakerjaan.',\n",
       " \"Pasal 2... www.bphn.go.id(1) (2) Ie, Wee RO Tie, ant BS PRESIDEN 'REPUBLIK INDONESIA Lan Pasal 2 Pemerintah dan Pemerintah Daerah menetapkan kebijakan perluasan kesempatan kerja di setiap sektor sesuai dengan kewenangannya.\",\n",
       " 'Kebijakan perluasan kesempatan kerja sebagaimana dimaksud pada ayat (1) meliputi: a. kebijakan perluasan kesempatan kerja di dalam hubungan kerja; dan b. kebijakan perluasan kesempatan kerja di luar hubungan kerja.',\n",
       " 'Pasal 3 Kebijakan perluasan kesempatan kerja sebagaimana dimaksud dalam Pasal 2 didasarkan atas perencanaan tenaga kerja nasional dan daerah di setiap sektor sesuai dengan ketentuan peraturan perundang-undangan.',\n",
       " 'BAB II PERLUASAN KESEMPATAN KERJA DI DALAM HUBUNGAN KERJA (1) (2) Pasal 4 Kebijakan perluasan kesempatan kerja di dalam hubungan kerja sebagaimana dimaksud dalam Pasal 2 ayat (2) huruf a diarahkan untuk menciptakan dan mengembangkan perluasan kesempatan kerja.',\n",
       " 'Untuk menciptakan dan mengembangkan perluasan kesempatan kerja sebagaimana dimaksud pada ayat (1) Pemerintah dan Pemerintah Daerah dapat memberi kemudahan investasi.',\n",
       " 'Pasal 5... www.bphn.go.idPRESIDEN REPUBLIK INDONESIA aide Pasal 5 (1) Kebijakan perluasan kesempatan kerja di dalam hubungan kerja sebagaimana dimaksud dalam Pasal 4 dilaksanakan oleh badan usaha milik negara, badan usaha milik daerah, dan swasta.',\n",
       " '(2) Dalam melaksanakan  kebijakan sebagaimana dimaksud pada ayat (1) badan usaha milik negara, badan usaha milik daerah, dan swasta menetapkan program dan kegiatan perluasan kesempatan kerja di dalam hubungan kerja.',\n",
       " '(3) Program dan kegiatan sebagaimana dimaksud pada ayat (2) harus menyerap tenaga kerja.',\n",
       " 'BAB III PERLUASAN KESEMPATAN KERJA DI LUAR HUBUNGAN KERJA Pasal 6 Kebijakan perluasan kesempatan kerja di luar hubungan kerja sebagaimana dimaksud dalam Pasal 2 ayat (2) huruf b diarahkan untuk menciptakan dan mengembangkan kesempatan kerja yang produktif dan berkelanjutan dengan mendayagunakan potensi sumber daya alam, sumber daya manusia, kelembagaan masyarakat, dan teknologi tepat guna.',\n",
       " 'Pasal 7 Kebijakan perluasan kesempatan kerja di luar hubungan kerja sebagaimana dimaksud dalam Pasal 6 dilaksanakan oleh Pemerintah, Pemerintah Daerah, badan usaha milik negara, badan usaha _ milik daerah, swasta, dan kelembagaan masyarakat.',\n",
       " 'Pasal 8... www.bphn.go.id(1) (2) PRESIDEN REPUBLIK INDONESIA =o Pasal 8 Kebijakan perluasan kesempatan kerja di luar hubungan kerja sebagaimana dimaksud dalam Pasal 6 dilakukan dalam bentuk program kewirausahaan.',\n",
       " 'Program kewirausahaan sebagaimana dimaksud pada ayat (1) dilakukan dengan pola pembentukan dan pembinaan tenaga kerja mandiri, sistem padat karya, penerapan teknologi tepat guna, pendayagunaan tenaga kerja sukarela, dan/atau pola lain yang dapat mendorong terciptanya perluasan kesempatan kerja.',\n",
       " 'Pasal 9 Pemerintah dan Pemerintah Daerah memfasilitasi pelaksanaan pola sebagaimana dimaksud dalam Pasal 8 melalui kegiatan: mropae op permodalan; penjaminan; pendampingan; pelatihan; konsultasi; bimbingan teknis; dan/atau penyediaan data dan informasi.',\n",
       " 'Pasal 10 Lembaga penjaminan dan lembaga keuangan memberikan kemudahan dan fasilitasi kepada masyarakat yang dapat menciptakan atau memperluas kesempatan kerja berupa _ fasilitas kredit dan/atau fasilitas penjaminan kredit.',\n",
       " 'BAB IV... www.bphn.go.idPRESIDEN REPUBLIK INDONESIA -~-6< BAB IV KOORDINASI PERLUASAN KESEMPATAN KERJA (1) (2) (3) (4) (5) Pasal 11 Menteri melakukan koordinasi dengan instansi terkait untuk mendukung pelaksanaan perluasan kesempatan kerja.',\n",
       " 'Dalam hal diperlukan, Menteri dapat mengikutsertakan masyarakat dalam pelaksanaan koordinasi sebagaimana dimaksud pada ayat (1).',\n",
       " 'Koordinasi sebagaimana dimaksud pada ayat (2) dilakukan untuk: a. memberi masukan, saran, dan pertimbangan kepada Pemerintah dan Pemerintah Daerah sebagai bahan dalam menetapkan kebijakan di bidang perluasan kesempatan kerja; dan b. melakukan mediasi, motivasi, dan  evaluasi pelaksanaan kebijakan Pemerintah di bidang perluasan kesempatan kerja.',\n",
       " 'Koordinasi sebagaimana dimaksud pada ayat (3), diselenggarakan paling sedikit 1 (satu) kali dalaru 1 (satu) tahun atau sewaktu-waktu apabila diperlukan.',\n",
       " 'Ketentuan lebih lanjut mengenai koordinasi perluasan kesempatan kerja diatur dengan Peraturan Menteri.',\n",
       " 'BAB V. www.bphn.go.id(1) (2) (3) PRESIDEN REPUBLIK INDONESIA ir BAB V PELAPORAN Pasal 12 Pemerintah, Pemerintah Daerah, badan usaha milik negara, badan usaha milik daerah, swasta, dan kelembagaan masyarakat sebagaimana dimaksud dalam Pasal 5 ayat (1) dan Pasal 7 berkewajiban melaporkan secara tertulis perluasan kesempatan kerja kepada instansi yang bertanggung jawab di bidang ketenagakerjaan.',\n",
       " 'Laporan sebagaimana dimaksud pada ayat (1) dipergunakan sebagai dasar bagi instansi yang bertanggung jawab di bidang ketenagakerjaan untuk menetapkan kebijakan perluasan kesempatan kerja sesuai dengan kewenangan masing-masing.',\n",
       " 'Tata cara dan  bentuk pelaporan perluasan kesempatan kerja sebagaimana dimaksud pada ayat (2) diatur dengan Peraturan Menteri.',\n",
       " 'BAB VI KETENTUAN PENUTUP Pasal 13 Peraturan Pemerintah ini mulai berlaku pada tanggal diundangkan.',\n",
       " 'Agar... www.bphn.go.idgp oA By, mona fOr ~ é PRESIDEN REPUBLIK INDONESIA Oe Agar setiap orang mengetahuinya, memerintahkan pengundangan Peraturan  Pemerintah ini dengan penempatannya dalam Lembaran Negara Republik Indonesia.',\n",
       " 'Ditetapkan di Jakarta pada tanggal 8 Mei 2013 PRESIDEN REPUBLIK INDONESIA, ttd.',\n",
       " 'DR. H. SUSILO BAMBANG YUDHOYONO Diundangkan di Jakarta pada tanggal 8 Mei 2013 MENTERI HUKUM DAN HAK ASASI MANUSIA REPUBLIK INDONESIA, ttd.',\n",
       " 'AMIR SYAMSUDIN LEMBARAN NEGARA REPUBLIK INDONESIA TAHUN 2013 NOMOR 75 Salinan sesuai dengan aslinya KEMENTERIAN SEKRETARIAT NEGARA RI Asisten Deputi Perundang-undangan ae py) / i, : : eyWisnu Setiawan www.bphn.go.idE PRESIDEN REPUBLIK INDONESIA PENJELASAN ATAS PERATURAN PEMERINTAH REPUBLIK INDONESIA NOMOR 33 TAHUN 2013 TENTANG PERLUASAN KESEMPATAN KERJA UMUM Pengangguran merupakan masalah nasional dan merupakan tanggung jawab Pemerintah, Pemerintah Daerah, dan masyarakat, sehingga dalam penanggulangannya harus dilakukan oleh semua stakeholders terkait secara bersama dan terintegrasi antar lintas sektor dan masyarakat, dengan cara mengupayakan perluasan kesempatan kerja baik di dalam maupun di luar hubungan kerja.',\n",
       " 'Kebijakan Pemerintah dalam pembangunan ketenagakerjaan secara pokok tertuang dalam Undang-Undang Nomor 13 Tahun 2003 tentang Ketenagakerjaan, sebagai pelaksanaan Pasal 27 ayat (2) Undang- Undang Dasar Negara Republik Indonesia Tahun 1945 yang menyatakan bahwa “Tiap-tiap warga negara berhak atas pekerjaan dan penghidupan yang layak bagi kemanusiaan”.',\n",
       " 'Pembangunan ketenagakerjaan mempunyai banyak dimensi dan keterkaitan.',\n",
       " 'Keterkaitan tersebut tidak hanya dengan kepentingan tenaga kerja pada waktu sebelum, selama, dan sesudah masa kerja, tetapi juga berkaitan dengan upaya perluasan kesempatan kerja.',\n",
       " 'Pekerjaan menjadi bagian yang penting dari kehidupan manusia, karena pada dasarnya setiap manusia membutuhkan pekerjaan sebagai wujud dari aktualisasi diri kepada keluarga, masyarakat, dan lingkungannya.',\n",
       " 'Namun pada kenyataannya, hak tersebut tidak bisa dinikmati oleh setiap warga negara Indonesia, karena terbatasnya kesempatan kerja.',\n",
       " 'Lowongan kerja yang tersedia tidak mampu menyerap jumlah tenaga kerja yang ada, karena ketidakseimbangan antara pertumbuhan angkatan kerja yang lebih tinggi dibandingkan dengan pertumbuhan kesempatan kerja.',\n",
       " 'Sehubungan... www.bphn.go.idIe PRESIDEN REPUBLIK INDONESIA oo Sehubungan dengan hal tersebut, Pemerintah dan Pemerintah Daerah perlu menetapkan kebijakan yang dapat memberikan kesempatan kerja kepada setiap orang, baik di dalam hubungan kerja maupun di luar hubungan kerja.',\n",
       " 'Untuk itu perlu dukungan semua pihak dalam upaya menciptakan dan memperluas kesempatan kerja.',\n",
       " 'Peraturan Pemerintah tentang Perluasan Kesempatan Kerja mengatur mengenai kebijakan Pemerintah dan Pemerintah Daerah yang diarahkan kepada penciptaan dan perluasan kesempatan kerja, baik di dalam maupun di luar hubungan kerja.',\n",
       " 'Dalam rangka mendukung perluasan kesempatan kerja, Menteri melakukan koordinasi dengan instansi terkait dan dapat melibatkan masyarakat.',\n",
       " 'Koordinasi dilakukan untuk memberi masukan, saran, dan pertimbangan kepada Pemerintah dan Pemerintah Daerah sebagai bahan dalam menetapkan kebijakan di bidang perluasan kesempatan kerja dan untuk melakukan mediasi, motivasi dan evaluasi pelaksanaan kebijakan Pemerintah di bidang perluasan kesempatan kerja.',\n",
       " 'Peraturan Pemerintah ini mengatur mengenai perluasan kesempatan kerja di dalam hubungan kerja, perluasan kesempatan kerja di luar hubungan kerja, koordinasi perluasan kesempatan kerja, dan pelaporan.',\n",
       " 'PASAL DEMI PASAL Pasal 1 Cukup jelas.',\n",
       " 'Pasal 2 Cukup jelas.',\n",
       " 'Pasal 3 Cukup jelas.',\n",
       " 'Pasal 4 Ayat (1) Cukup jelas.',\n",
       " 'Ayat (2)... www.bphn.go.idPRESIDEN REPUBLIK INDONESIA aiaee Ayat (2) Yang dimaksud dengan “kemudahan investasi” dalam ketentuan ini antara lain kemudahan dalam hal perpajakan, perbankan, penyediaan  infrastruktur, pelayanan, dan peraturan perundang-undangan.',\n",
       " 'Pasal 5 Ayat (1) Cukup jelas.',\n",
       " 'Ayat (2) Yang dimaksud dengan “program dan kegiatan perluasan kesempatan kerja” dalam ketentuan ini antara lain diversifikasi usaha dan ekstensifikasi usaha.',\n",
       " 'Diversifikasi usaha adalah menganekaragamkan satu jenis usaha menjadi beberapa jenis usaha.',\n",
       " 'Ekstensifikasi usaha adalah memperluas usaha yang sudah ada untuk meningkatkan produksi.',\n",
       " 'Ayat (3) Cukup jelas.',\n",
       " 'Pasal 6 Yang dimaksud dengan “kelembagaan masyarakat” dalam ketentuan ini adalah lembaga yang bergerak di bidang pemberdayaan ekonomi masyarakat.',\n",
       " 'Pasal 7 Cukup jelas.',\n",
       " 'Pasal 8 Ayat (1) Cukup jelas.',\n",
       " 'Ayat (2)... www.bphn.go.idit, Oe, ge PRESIDEN REPUBLIK INDONESIA sa Ayat (2) Pasal 9 Yang dimaksud dengan “tenaga kerja mandiri” adalah tenaga kerja yang mempunyai sikap, semangat, perilaku dan kemampuan untuk melakukan atau menangani kegiatan atau usaha yang dapat menciptakan lapangan pekerjaan dan memberikan penghasilan bagi dirinya sendiri atau orang lain.',\n",
       " 'Yang dimaksud dengan “sistem padat karya” adalah suatu sistem yang mengutamakan  dan/atau memprioritaskan penggunaan tenaga kerja yang cukup banyak untuk obekerja dalam suatu kegiatan pembangunan atau kegiatan usaha yang dilaksanakan oleh pemerintah atau masyarakat yang dapat memberikan penghasilan baik sementara ataupun tetap dan/atau terus menerus.',\n",
       " 'Yang dimaksud dengan “teknologi tepat guna” adalah teknologi sederhana, mudah diterapkan, tidak merusak lingkungan serta menghasilkan nilai tambah dari aspek ekonomi.',\n",
       " 'Yang dimaksud dengan “pola lain” adalah pola yang dapat menciptakan kesempatan kerja antara lain penciptaan industri kreatif, satu desa satu produk, pengembangan desa_ wisata, Program Nasional Pemberdayaan Masyarakat Mandiri (PNPM), penyaluran dana bergulir melalui pola Grameen Bank, dan pola inkubasi bisnis.',\n",
       " 'Cukup jelas.',\n",
       " 'Pasal 10 Cukup jelas.',\n",
       " 'Pasal 11 Ayat (1) Cukup jelas.',\n",
       " 'Ayat (2)... www.bphn.go.idPRESIDEN REPUBLIK INDONESIA ae Ayat (2) Yang dimaksud dengan “masyarakat” dalam keteniuan ini antara lain asosiasi profesi dan lembaga swadaya masyarakat yang bergerak di bidang pemberdayaan masyarakat.',\n",
       " 'Ayat (3) Cukup jelas.',\n",
       " 'Ayat (4) Cukup jelas.',\n",
       " 'Ayat (5) Cukup jelas.',\n",
       " 'Pasal 12 Cukup jelas.',\n",
       " 'Pasal 13 Cukup jelas.',\n",
       " 'TAMBAHAN LEMBARAN NEGARA REPUBLIK INDONESIA NOMOR_ 5413 www.bphn.go.id']"
      ]
     },
     "execution_count": 16,
     "metadata": {},
     "output_type": "execute_result"
    }
   ],
   "source": [
    "sentences"
   ]
  },
  {
   "cell_type": "code",
   "execution_count": 17,
   "metadata": {},
   "outputs": [],
   "source": [
    "removal_index = []\n",
    "for i, sentence in enumerate(sentences):\n",
    "    if len(sentence)<40:\n",
    "        removal_index.append(i)"
   ]
  },
  {
   "cell_type": "code",
   "execution_count": 18,
   "metadata": {},
   "outputs": [],
   "source": [
    "removal_index = sorted(removal_index, reverse=True)"
   ]
  },
  {
   "cell_type": "code",
   "execution_count": 19,
   "metadata": {},
   "outputs": [
    {
     "data": {
      "text/plain": [
       "['ae Sy SALINAN ARO, it PRESIDEN REPUBLIK INDONESIA PERATURAN PEMERINTAH REPUBLIK INDONESIA Menimbang Mengingat Menetapkan NOMOR 33 TAHUN 2013 TENTANG PERLUASAN KESEMPATAN KERJA ‘DENGAN RAHMAT TUHAN YANG MAHA ESA PRESIDEN REPUBLIK INDONESIA, bahwa untuk melaksanakan ketentuan Pasal 41 ayat (4) Undang-Undang Nomor 13 Tahun 2003 tenteng Ketenagakerjaan, perlu)§ menetapkan Peraturan Pemerintah tentang Perluasan Kesempatan Kerja; .',\n",
       " 'Pasal 5 ayat (2) Undang-Undang Dasar Negara Republik Indonesia Tahun 1945; .',\n",
       " 'Undang-Undang Nomor 13 Tahun 2003 tentang Ketenagakerjaan (Lembaran Negara Republik Indonesia Tahun 2003 Nomor 39, Tambahan Lembaran Negara Republik Indonesia Nomor 4279); MEMUTUSKAN: PERATURAN PEMERINTAH TENTANG PERLUASAN KESEMPATAN KERJA.',\n",
       " 'BAB 1... www.bphn.go.idwt DW, +k Ry srr PRESIDEN REPUBLIK INDONESIA <9e BAB I KETENTUAN UMUM Pasal 1 Dalam Peraturan Pemerintah ini yang dimaksud dengan: i Perluasan kesempatan kerja adalah upaya yang dilakukan untuk menciptakan lapangan pekerjaan baru dan/atau mengembangkan lapangan pekerjaan yang tersedia.',\n",
       " 'Kesempatan kerja adalah lowongan pekerjaan yang diisi oleh pencari kerja dan pekerja yang sudah ada.',\n",
       " 'Perluasan kesempatan kerja di dalam hubungan kerja adalah upaya yang dilakukan untuk menciptakan lapangan pekerjaan baru dan/atau mengembangkan lapangan pekerjaan yang tersedia berdasarkan perjanjian kerja, yang mempunyai unsur perintah, pekerjaan, dan upah.',\n",
       " 'Perluasan kesempatan kerja di luar hubungan kerja adalah upaya yang dilakukan untuk menciptakan lapangan pekerjaan baru dan/atau mengembangkan lapangan pekerjaan yang tersedia tidak berdasarkan perjanjian kerja.',\n",
       " 'Pemerintah Pusat, yang selanjutnya  disebut Pemerintah adalah Presiden Republik Indonesia yang memegang kekuasaan pemerintahan negara Republik Indonesia sebagaimana dimaksud dalam Undang- Undang Dasar Negara Republik Indonesia Tahun 1945.',\n",
       " 'Pemerintah Daerah adalah gubernur, bupati, atau walikota, dan perangkat daerah sebagai unsur penyelenggara pemerintahan daerah.',\n",
       " 'Menteri adalah menteri yang menyelenggarakan urusan pemerintahan di bidang ketenagakerjaan.',\n",
       " \"Pasal 2... www.bphn.go.id(1) (2) Ie, Wee RO Tie, ant BS PRESIDEN 'REPUBLIK INDONESIA Lan Pasal 2 Pemerintah dan Pemerintah Daerah menetapkan kebijakan perluasan kesempatan kerja di setiap sektor sesuai dengan kewenangannya.\",\n",
       " 'Kebijakan perluasan kesempatan kerja sebagaimana dimaksud pada ayat (1) meliputi: a. kebijakan perluasan kesempatan kerja di dalam hubungan kerja; dan b. kebijakan perluasan kesempatan kerja di luar hubungan kerja.',\n",
       " 'Pasal 3 Kebijakan perluasan kesempatan kerja sebagaimana dimaksud dalam Pasal 2 didasarkan atas perencanaan tenaga kerja nasional dan daerah di setiap sektor sesuai dengan ketentuan peraturan perundang-undangan.',\n",
       " 'BAB II PERLUASAN KESEMPATAN KERJA DI DALAM HUBUNGAN KERJA (1) (2) Pasal 4 Kebijakan perluasan kesempatan kerja di dalam hubungan kerja sebagaimana dimaksud dalam Pasal 2 ayat (2) huruf a diarahkan untuk menciptakan dan mengembangkan perluasan kesempatan kerja.',\n",
       " 'Untuk menciptakan dan mengembangkan perluasan kesempatan kerja sebagaimana dimaksud pada ayat (1) Pemerintah dan Pemerintah Daerah dapat memberi kemudahan investasi.',\n",
       " 'Pasal 5... www.bphn.go.idPRESIDEN REPUBLIK INDONESIA aide Pasal 5 (1) Kebijakan perluasan kesempatan kerja di dalam hubungan kerja sebagaimana dimaksud dalam Pasal 4 dilaksanakan oleh badan usaha milik negara, badan usaha milik daerah, dan swasta.',\n",
       " '(2) Dalam melaksanakan  kebijakan sebagaimana dimaksud pada ayat (1) badan usaha milik negara, badan usaha milik daerah, dan swasta menetapkan program dan kegiatan perluasan kesempatan kerja di dalam hubungan kerja.',\n",
       " '(3) Program dan kegiatan sebagaimana dimaksud pada ayat (2) harus menyerap tenaga kerja.',\n",
       " 'BAB III PERLUASAN KESEMPATAN KERJA DI LUAR HUBUNGAN KERJA Pasal 6 Kebijakan perluasan kesempatan kerja di luar hubungan kerja sebagaimana dimaksud dalam Pasal 2 ayat (2) huruf b diarahkan untuk menciptakan dan mengembangkan kesempatan kerja yang produktif dan berkelanjutan dengan mendayagunakan potensi sumber daya alam, sumber daya manusia, kelembagaan masyarakat, dan teknologi tepat guna.',\n",
       " 'Pasal 7 Kebijakan perluasan kesempatan kerja di luar hubungan kerja sebagaimana dimaksud dalam Pasal 6 dilaksanakan oleh Pemerintah, Pemerintah Daerah, badan usaha milik negara, badan usaha _ milik daerah, swasta, dan kelembagaan masyarakat.',\n",
       " 'Pasal 8... www.bphn.go.id(1) (2) PRESIDEN REPUBLIK INDONESIA =o Pasal 8 Kebijakan perluasan kesempatan kerja di luar hubungan kerja sebagaimana dimaksud dalam Pasal 6 dilakukan dalam bentuk program kewirausahaan.',\n",
       " 'Program kewirausahaan sebagaimana dimaksud pada ayat (1) dilakukan dengan pola pembentukan dan pembinaan tenaga kerja mandiri, sistem padat karya, penerapan teknologi tepat guna, pendayagunaan tenaga kerja sukarela, dan/atau pola lain yang dapat mendorong terciptanya perluasan kesempatan kerja.',\n",
       " 'Pasal 9 Pemerintah dan Pemerintah Daerah memfasilitasi pelaksanaan pola sebagaimana dimaksud dalam Pasal 8 melalui kegiatan: mropae op permodalan; penjaminan; pendampingan; pelatihan; konsultasi; bimbingan teknis; dan/atau penyediaan data dan informasi.',\n",
       " 'Pasal 10 Lembaga penjaminan dan lembaga keuangan memberikan kemudahan dan fasilitasi kepada masyarakat yang dapat menciptakan atau memperluas kesempatan kerja berupa _ fasilitas kredit dan/atau fasilitas penjaminan kredit.',\n",
       " 'BAB IV... www.bphn.go.idPRESIDEN REPUBLIK INDONESIA -~-6< BAB IV KOORDINASI PERLUASAN KESEMPATAN KERJA (1) (2) (3) (4) (5) Pasal 11 Menteri melakukan koordinasi dengan instansi terkait untuk mendukung pelaksanaan perluasan kesempatan kerja.',\n",
       " 'Dalam hal diperlukan, Menteri dapat mengikutsertakan masyarakat dalam pelaksanaan koordinasi sebagaimana dimaksud pada ayat (1).',\n",
       " 'Koordinasi sebagaimana dimaksud pada ayat (2) dilakukan untuk: a. memberi masukan, saran, dan pertimbangan kepada Pemerintah dan Pemerintah Daerah sebagai bahan dalam menetapkan kebijakan di bidang perluasan kesempatan kerja; dan b. melakukan mediasi, motivasi, dan  evaluasi pelaksanaan kebijakan Pemerintah di bidang perluasan kesempatan kerja.',\n",
       " 'Koordinasi sebagaimana dimaksud pada ayat (3), diselenggarakan paling sedikit 1 (satu) kali dalaru 1 (satu) tahun atau sewaktu-waktu apabila diperlukan.',\n",
       " 'Ketentuan lebih lanjut mengenai koordinasi perluasan kesempatan kerja diatur dengan Peraturan Menteri.',\n",
       " 'BAB V. www.bphn.go.id(1) (2) (3) PRESIDEN REPUBLIK INDONESIA ir BAB V PELAPORAN Pasal 12 Pemerintah, Pemerintah Daerah, badan usaha milik negara, badan usaha milik daerah, swasta, dan kelembagaan masyarakat sebagaimana dimaksud dalam Pasal 5 ayat (1) dan Pasal 7 berkewajiban melaporkan secara tertulis perluasan kesempatan kerja kepada instansi yang bertanggung jawab di bidang ketenagakerjaan.',\n",
       " 'Laporan sebagaimana dimaksud pada ayat (1) dipergunakan sebagai dasar bagi instansi yang bertanggung jawab di bidang ketenagakerjaan untuk menetapkan kebijakan perluasan kesempatan kerja sesuai dengan kewenangan masing-masing.',\n",
       " 'Tata cara dan  bentuk pelaporan perluasan kesempatan kerja sebagaimana dimaksud pada ayat (2) diatur dengan Peraturan Menteri.',\n",
       " 'BAB VI KETENTUAN PENUTUP Pasal 13 Peraturan Pemerintah ini mulai berlaku pada tanggal diundangkan.',\n",
       " 'Agar... www.bphn.go.idgp oA By, mona fOr ~ é PRESIDEN REPUBLIK INDONESIA Oe Agar setiap orang mengetahuinya, memerintahkan pengundangan Peraturan  Pemerintah ini dengan penempatannya dalam Lembaran Negara Republik Indonesia.',\n",
       " 'Ditetapkan di Jakarta pada tanggal 8 Mei 2013 PRESIDEN REPUBLIK INDONESIA, ttd.',\n",
       " 'DR. H. SUSILO BAMBANG YUDHOYONO Diundangkan di Jakarta pada tanggal 8 Mei 2013 MENTERI HUKUM DAN HAK ASASI MANUSIA REPUBLIK INDONESIA, ttd.',\n",
       " 'AMIR SYAMSUDIN LEMBARAN NEGARA REPUBLIK INDONESIA TAHUN 2013 NOMOR 75 Salinan sesuai dengan aslinya KEMENTERIAN SEKRETARIAT NEGARA RI Asisten Deputi Perundang-undangan ae py) / i, : : eyWisnu Setiawan www.bphn.go.idE PRESIDEN REPUBLIK INDONESIA PENJELASAN ATAS PERATURAN PEMERINTAH REPUBLIK INDONESIA NOMOR 33 TAHUN 2013 TENTANG PERLUASAN KESEMPATAN KERJA UMUM Pengangguran merupakan masalah nasional dan merupakan tanggung jawab Pemerintah, Pemerintah Daerah, dan masyarakat, sehingga dalam penanggulangannya harus dilakukan oleh semua stakeholders terkait secara bersama dan terintegrasi antar lintas sektor dan masyarakat, dengan cara mengupayakan perluasan kesempatan kerja baik di dalam maupun di luar hubungan kerja.',\n",
       " 'Kebijakan Pemerintah dalam pembangunan ketenagakerjaan secara pokok tertuang dalam Undang-Undang Nomor 13 Tahun 2003 tentang Ketenagakerjaan, sebagai pelaksanaan Pasal 27 ayat (2) Undang- Undang Dasar Negara Republik Indonesia Tahun 1945 yang menyatakan bahwa “Tiap-tiap warga negara berhak atas pekerjaan dan penghidupan yang layak bagi kemanusiaan”.',\n",
       " 'Pembangunan ketenagakerjaan mempunyai banyak dimensi dan keterkaitan.',\n",
       " 'Keterkaitan tersebut tidak hanya dengan kepentingan tenaga kerja pada waktu sebelum, selama, dan sesudah masa kerja, tetapi juga berkaitan dengan upaya perluasan kesempatan kerja.',\n",
       " 'Pekerjaan menjadi bagian yang penting dari kehidupan manusia, karena pada dasarnya setiap manusia membutuhkan pekerjaan sebagai wujud dari aktualisasi diri kepada keluarga, masyarakat, dan lingkungannya.',\n",
       " 'Namun pada kenyataannya, hak tersebut tidak bisa dinikmati oleh setiap warga negara Indonesia, karena terbatasnya kesempatan kerja.',\n",
       " 'Lowongan kerja yang tersedia tidak mampu menyerap jumlah tenaga kerja yang ada, karena ketidakseimbangan antara pertumbuhan angkatan kerja yang lebih tinggi dibandingkan dengan pertumbuhan kesempatan kerja.',\n",
       " 'Sehubungan... www.bphn.go.idIe PRESIDEN REPUBLIK INDONESIA oo Sehubungan dengan hal tersebut, Pemerintah dan Pemerintah Daerah perlu menetapkan kebijakan yang dapat memberikan kesempatan kerja kepada setiap orang, baik di dalam hubungan kerja maupun di luar hubungan kerja.',\n",
       " 'Untuk itu perlu dukungan semua pihak dalam upaya menciptakan dan memperluas kesempatan kerja.',\n",
       " 'Peraturan Pemerintah tentang Perluasan Kesempatan Kerja mengatur mengenai kebijakan Pemerintah dan Pemerintah Daerah yang diarahkan kepada penciptaan dan perluasan kesempatan kerja, baik di dalam maupun di luar hubungan kerja.',\n",
       " 'Dalam rangka mendukung perluasan kesempatan kerja, Menteri melakukan koordinasi dengan instansi terkait dan dapat melibatkan masyarakat.',\n",
       " 'Koordinasi dilakukan untuk memberi masukan, saran, dan pertimbangan kepada Pemerintah dan Pemerintah Daerah sebagai bahan dalam menetapkan kebijakan di bidang perluasan kesempatan kerja dan untuk melakukan mediasi, motivasi dan evaluasi pelaksanaan kebijakan Pemerintah di bidang perluasan kesempatan kerja.',\n",
       " 'Peraturan Pemerintah ini mengatur mengenai perluasan kesempatan kerja di dalam hubungan kerja, perluasan kesempatan kerja di luar hubungan kerja, koordinasi perluasan kesempatan kerja, dan pelaporan.',\n",
       " 'Ayat (2)... www.bphn.go.idPRESIDEN REPUBLIK INDONESIA aiaee Ayat (2) Yang dimaksud dengan “kemudahan investasi” dalam ketentuan ini antara lain kemudahan dalam hal perpajakan, perbankan, penyediaan  infrastruktur, pelayanan, dan peraturan perundang-undangan.',\n",
       " 'Ayat (2) Yang dimaksud dengan “program dan kegiatan perluasan kesempatan kerja” dalam ketentuan ini antara lain diversifikasi usaha dan ekstensifikasi usaha.',\n",
       " 'Diversifikasi usaha adalah menganekaragamkan satu jenis usaha menjadi beberapa jenis usaha.',\n",
       " 'Ekstensifikasi usaha adalah memperluas usaha yang sudah ada untuk meningkatkan produksi.',\n",
       " 'Pasal 6 Yang dimaksud dengan “kelembagaan masyarakat” dalam ketentuan ini adalah lembaga yang bergerak di bidang pemberdayaan ekonomi masyarakat.',\n",
       " 'Ayat (2)... www.bphn.go.idit, Oe, ge PRESIDEN REPUBLIK INDONESIA sa Ayat (2) Pasal 9 Yang dimaksud dengan “tenaga kerja mandiri” adalah tenaga kerja yang mempunyai sikap, semangat, perilaku dan kemampuan untuk melakukan atau menangani kegiatan atau usaha yang dapat menciptakan lapangan pekerjaan dan memberikan penghasilan bagi dirinya sendiri atau orang lain.',\n",
       " 'Yang dimaksud dengan “sistem padat karya” adalah suatu sistem yang mengutamakan  dan/atau memprioritaskan penggunaan tenaga kerja yang cukup banyak untuk obekerja dalam suatu kegiatan pembangunan atau kegiatan usaha yang dilaksanakan oleh pemerintah atau masyarakat yang dapat memberikan penghasilan baik sementara ataupun tetap dan/atau terus menerus.',\n",
       " 'Yang dimaksud dengan “teknologi tepat guna” adalah teknologi sederhana, mudah diterapkan, tidak merusak lingkungan serta menghasilkan nilai tambah dari aspek ekonomi.',\n",
       " 'Yang dimaksud dengan “pola lain” adalah pola yang dapat menciptakan kesempatan kerja antara lain penciptaan industri kreatif, satu desa satu produk, pengembangan desa_ wisata, Program Nasional Pemberdayaan Masyarakat Mandiri (PNPM), penyaluran dana bergulir melalui pola Grameen Bank, dan pola inkubasi bisnis.',\n",
       " 'Ayat (2)... www.bphn.go.idPRESIDEN REPUBLIK INDONESIA ae Ayat (2) Yang dimaksud dengan “masyarakat” dalam keteniuan ini antara lain asosiasi profesi dan lembaga swadaya masyarakat yang bergerak di bidang pemberdayaan masyarakat.',\n",
       " 'TAMBAHAN LEMBARAN NEGARA REPUBLIK INDONESIA NOMOR_ 5413 www.bphn.go.id']"
      ]
     },
     "execution_count": 19,
     "metadata": {},
     "output_type": "execute_result"
    }
   ],
   "source": [
    "for idx in removal_index:\n",
    "   # checking whether the corresponding iterator index is less than the list length\n",
    "   if idx < len(sentences):\n",
    "      # removing element by index using pop() function\n",
    "      sentences.pop(idx)\n",
    "sentences"
   ]
  },
  {
   "cell_type": "code",
   "execution_count": 21,
   "metadata": {},
   "outputs": [],
   "source": [
    "NO_PASAL = []\n",
    "for i, sentence in enumerate(sentences):\n",
    "    pasal = re.search(r'Pasal([ \\d]*)', sentence)\n",
    "    if pasal != None:\n",
    "        NO_PASAL.append(pasal.group(0))\n",
    "    elif i>0:\n",
    "        NO_PASAL.append(NO_PASAL[i-1])\n",
    "    else:\n",
    "        NO_PASAL.append(pasal)"
   ]
  },
  {
   "cell_type": "code",
   "execution_count": 22,
   "metadata": {},
   "outputs": [],
   "source": [
    "NO_PASAL_STRIPPED = []\n",
    "for pasal in NO_PASAL:\n",
    "    if pasal != None:\n",
    "        pasal.strip()\n",
    "        NO_PASAL_STRIPPED.append(pasal)"
   ]
  },
  {
   "cell_type": "markdown",
   "metadata": {},
   "source": [
    "## Writing CSV file with pasal/ayat level contents"
   ]
  },
  {
   "cell_type": "code",
   "execution_count": 23,
   "metadata": {},
   "outputs": [],
   "source": [
    "def results_to_xlsx(NomorUrut, Isi, NamaFile):\n",
    "    read_doc_results_df = pd.DataFrame(list(zip(NomorUrut, Isi)), columns = ['NomorUrut', 'Isi'])\n",
    "    read_doc_results_df.to_excel('Investasi/'+NamaFile+'.xlsx')"
   ]
  },
  {
   "cell_type": "code",
   "execution_count": 24,
   "metadata": {},
   "outputs": [],
   "source": [
    "results_to_xlsx(NO_PASAL_STRIPPED, sentences, 'OCR_3-33-2013-PERPEM-PERLUASAN KESEMPATAN KERJA.pdf')"
   ]
  },
  {
   "cell_type": "markdown",
   "metadata": {},
   "source": [
    "## Writing .xlsx file containing documents info"
   ]
  },
  {
   "cell_type": "code",
   "execution_count": 45,
   "metadata": {},
   "outputs": [],
   "source": [
    "import os\n",
    "import pandas as pd"
   ]
  },
  {
   "cell_type": "code",
   "execution_count": 4,
   "metadata": {},
   "outputs": [],
   "source": [
    "file_dirs = os.listdir('./Investasi')"
   ]
  },
  {
   "cell_type": "code",
   "execution_count": 6,
   "metadata": {},
   "outputs": [],
   "source": [
    "file_dirs_df = pd.DataFrame(file_dirs)"
   ]
  },
  {
   "cell_type": "code",
   "execution_count": 8,
   "metadata": {},
   "outputs": [],
   "source": [
    "file_dirs_df.to_excel('documents-info.xlsx')"
   ]
  }
 ],
 "metadata": {
  "kernelspec": {
   "display_name": "base",
   "language": "python",
   "name": "python3"
  },
  "language_info": {
   "codemirror_mode": {
    "name": "ipython",
    "version": 3
   },
   "file_extension": ".py",
   "mimetype": "text/x-python",
   "name": "python",
   "nbconvert_exporter": "python",
   "pygments_lexer": "ipython3",
   "version": "3.9.13"
  },
  "orig_nbformat": 4
 },
 "nbformat": 4,
 "nbformat_minor": 2
}
