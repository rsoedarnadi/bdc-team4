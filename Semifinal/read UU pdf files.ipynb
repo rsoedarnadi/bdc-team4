{
 "cells": [
  {
   "cell_type": "markdown",
   "metadata": {},
   "source": [
    "# Trying Different Methods od Reading PDF Files"
   ]
  },
  {
   "cell_type": "code",
   "execution_count": 6,
   "metadata": {},
   "outputs": [
    {
     "name": "stdout",
     "output_type": "stream",
     "text": [
      "Collecting PyPDF2\n",
      "  Downloading pypdf2-3.0.1-py3-none-any.whl (232 kB)\n",
      "     ---------------------------------------- 0.0/232.6 kB ? eta -:--:--\n",
      "     ---------- ---------------------------- 61.4/232.6 kB 1.6 MB/s eta 0:00:01\n",
      "     -------------------------------------- 232.6/232.6 kB 2.9 MB/s eta 0:00:00\n",
      "Requirement already satisfied: typing_extensions>=3.10.0.0 in c:\\users\\lenovo\\documents\\satria data\\venv\\lib\\site-packages (from PyPDF2) (4.7.1)\n",
      "Installing collected packages: PyPDF2\n",
      "Successfully installed PyPDF2-3.0.1\n"
     ]
    }
   ],
   "source": [
    "!pip install PyPDF2"
   ]
  },
  {
   "cell_type": "code",
   "execution_count": 5,
   "metadata": {},
   "outputs": [
    {
     "name": "stdout",
     "output_type": "stream",
     "text": [
      "Package               Version\n",
      "--------------------- -----------\n",
      "accelerate            0.20.3\n",
      "aiohttp               3.8.4\n",
      "aiosignal             1.3.1\n",
      "anyio                 3.7.1\n",
      "astor                 0.8.1\n",
      "asttokens             2.2.1\n",
      "async-timeout         4.0.2\n",
      "attrdict              2.0.1\n",
      "attrs                 23.1.0\n",
      "Babel                 2.12.1\n",
      "backcall              0.2.0\n",
      "bce-python-sdk        0.8.87\n",
      "beautifulsoup4        4.12.2\n",
      "blinker               1.6.2\n",
      "cachetools            5.3.1\n",
      "certifi               2023.5.7\n",
      "charset-normalizer    3.1.0\n",
      "click                 8.1.3\n",
      "colorama              0.4.6\n",
      "comm                  0.1.3\n",
      "contourpy             1.1.0\n",
      "cssselect             1.2.0\n",
      "cssutils              2.7.1\n",
      "cycler                0.11.0\n",
      "Cython                0.29.36\n",
      "datasets              2.13.1\n",
      "debugpy               1.6.7\n",
      "decorator             5.1.1\n",
      "dill                  0.3.6\n",
      "et-xmlfile            1.1.0\n",
      "exceptiongroup        1.1.2\n",
      "executing             1.2.0\n",
      "filelock              3.12.2\n",
      "fire                  0.5.0\n",
      "Flask                 2.3.2\n",
      "flask-babel           3.1.0\n",
      "fonttools             4.40.0\n",
      "frozenlist            1.3.3\n",
      "fsspec                2023.6.0\n",
      "future                0.18.3\n",
      "h11                   0.14.0\n",
      "httpcore              0.17.3\n",
      "httpx                 0.24.1\n",
      "huggingface-hub       0.16.2\n",
      "idna                  3.4\n",
      "imageio               2.31.1\n",
      "imgaug                0.4.0\n",
      "importlib-metadata    6.7.0\n",
      "importlib-resources   5.12.0\n",
      "ipykernel             6.24.0\n",
      "ipython               8.12.2\n",
      "itsdangerous          2.1.2\n",
      "jedi                  0.18.2\n",
      "Jinja2                3.1.2\n",
      "jiwer                 3.0.2\n",
      "jupyter_client        8.3.0\n",
      "jupyter_core          5.3.1\n",
      "kiwisolver            1.4.4\n",
      "lazy_loader           0.3\n",
      "lmdb                  1.4.1\n",
      "lxml                  4.9.3\n",
      "MarkupSafe            2.1.3\n",
      "matplotlib            3.7.2\n",
      "matplotlib-inline     0.1.6\n",
      "mpmath                1.3.0\n",
      "multidict             6.0.4\n",
      "multiprocess          0.70.14\n",
      "nest-asyncio          1.5.6\n",
      "networkx              3.1\n",
      "numpy                 1.24.4\n",
      "opencv-contrib-python 4.6.0.66\n",
      "opencv-python         4.6.0.66\n",
      "openpyxl              3.1.2\n",
      "opt-einsum            3.3.0\n",
      "packaging             23.1\n",
      "paddle-bfloat         0.1.7\n",
      "paddleocr             2.6.1.3\n",
      "paddlepaddle          2.5.0\n",
      "pandas                2.0.3\n",
      "parso                 0.8.3\n",
      "pdf2docx              0.5.6\n",
      "pickleshare           0.7.5\n",
      "Pillow                10.0.0\n",
      "pip                   23.2\n",
      "platformdirs          3.8.0\n",
      "premailer             3.10.0\n",
      "prompt-toolkit        3.0.39\n",
      "protobuf              3.20.2\n",
      "psutil                5.9.5\n",
      "pure-eval             0.2.2\n",
      "pyarrow               12.0.1\n",
      "pyclipper             1.3.0.post4\n",
      "pycryptodome          3.18.0\n",
      "Pygments              2.15.1\n",
      "PyMuPDF               1.20.2\n",
      "pyparsing             3.0.9\n",
      "python-dateutil       2.8.2\n",
      "python-docx           0.8.11\n",
      "pytz                  2023.3\n",
      "PyWavelets            1.4.1\n",
      "pywin32               306\n",
      "PyYAML                6.0\n",
      "pyzmq                 25.1.0\n",
      "rapidfuzz             2.13.7\n",
      "rarfile               4.0\n",
      "regex                 2023.6.3\n",
      "requests              2.31.0\n",
      "safetensors           0.3.1\n",
      "scikit-image          0.21.0\n",
      "scipy                 1.10.1\n",
      "setuptools            41.2.0\n",
      "shapely               2.0.1\n",
      "six                   1.16.0\n",
      "sniffio               1.3.0\n",
      "soupsieve             2.4.1\n",
      "stack-data            0.6.2\n",
      "sympy                 1.12\n",
      "termcolor             2.3.0\n",
      "tifffile              2023.7.4\n",
      "tokenizers            0.13.3\n",
      "torch                 2.0.1\n",
      "torchvision           0.15.2\n",
      "tornado               6.3.2\n",
      "tqdm                  4.65.0\n",
      "traitlets             5.9.0\n",
      "transformers          4.30.2\n",
      "typing_extensions     4.7.1\n",
      "tzdata                2023.3\n",
      "urllib3               2.0.3\n",
      "visualdl              2.5.3\n",
      "wcwidth               0.2.6\n",
      "Werkzeug              2.3.6\n",
      "xxhash                3.2.0\n",
      "yarl                  1.9.2\n",
      "zipp                  3.15.0\n"
     ]
    }
   ],
   "source": [
    "!pip list"
   ]
  },
  {
   "cell_type": "markdown",
   "metadata": {},
   "source": [
    "## Trying PyPDF2 Library"
   ]
  },
  {
   "cell_type": "code",
   "execution_count": 7,
   "metadata": {},
   "outputs": [],
   "source": [
    "from PyPDF2 import PdfReader\n",
    "import re"
   ]
  },
  {
   "cell_type": "code",
   "execution_count": 10,
   "metadata": {},
   "outputs": [],
   "source": [
    "pdf_path = \"./Investasi/2-2009-UU-PERTAMBANGAN.pdf\"\n",
    "pdf = PdfReader(open(pdf_path, \"rb\"))"
   ]
  },
  {
   "cell_type": "code",
   "execution_count": 11,
   "metadata": {},
   "outputs": [
    {
     "name": "stdout",
     "output_type": "stream",
     "text": [
      "Total number of pages: 87\n"
     ]
    }
   ],
   "source": [
    "print(\"Total number of pages:\", len(pdf.pages))"
   ]
  },
  {
   "cell_type": "code",
   "execution_count": null,
   "metadata": {},
   "outputs": [],
   "source": [
    "text = \"\"\n",
    "for page_number in range(len(pdf.pages)): #len(pdf.pages)\n",
    "    page = pdf.pages[page_number]\n",
    "    text += page.extract_text()\n",
    "print(text)"
   ]
  },
  {
   "cell_type": "markdown",
   "metadata": {},
   "source": [
    "### Conclusion\n",
    "PyPDF2 is neater in comparison to PyMuPDF"
   ]
  },
  {
   "cell_type": "markdown",
   "metadata": {},
   "source": [
    "## Trying to Clean Extracted Text"
   ]
  },
  {
   "cell_type": "code",
   "execution_count": 15,
   "metadata": {},
   "outputs": [
    {
     "data": {
      "text/plain": [
       "'d. bahwa . . . UNDANG-UNDANG REPUBLIK INDONESIA  NOMOR  4 TAHUN 2009      TENTANG  PERTAMBANGAN MINERAL DAN BATUBARA   DENGAN RAHMAT TUHAN YANG MAHA ESA     PRESIDEN REPUBLIK INDONESIA,   Menimbang :  a. bahwa  mineral  dan  batubara  yang  te rkandung dalam  wilayah hukum pertambangan Indonesia merupakan kekayaan alam tak terbarukan sebagai karunia Tuhan Yang Maha Esa yang mempunyai peranan penting dalam memenuhi hajat hidup orang banyak, karena itu pengelolaannya harus dikuasai oleh Negara untuk memberi nilai tambah secara nyata bagi perekonomian nasional dalam usaha mencapai kemakmuran dan kesejahteraan rakyat secara berkeadilan; b.  bahwa kegiatan usaha   pertambangan mineral dan batubara yang merupakan kegiatan usaha pertambangan di luar panas bumi, minyak dan gas bumi serta air tanah mempunyai peranan penting dalam memberikan nilai tambah secara nyata kepada pertumbuhan ekonomi nasional dan pembangunan daerah secara berkelanjutan; c.  bahwa dengan mempertimbangkan perkembangan nasional maupun internasional, Undang-Undang Nomor 11 Tahun 1967 tentang Ketentuan-Ketentuan Pokok Pertambangan  sudah tidak sesuai lagi sehingga dibutuhkan perubahan peraturan perundang-undangan di bidang pertambangan mineral dan batubara yang dapat mengelola dan mengusahakan potensi mineral dan batubara secara mandiri, andal, transparan, berdaya saing, efisien, dan berwawasan lingkungan, guna menjamin pembangunan nasional secara berkelanjutan;         - 2 - 4. Pertambangan . . . d.  bahwa berdasarkan pertimbangan sebagaimana dimaksud dalam huruf a, huruf b, dan huruf c, perlu membentuk Undang-Undang tentang Pertambangan Mineral dan Batubara;  Mengingat : Pasal 5 ayat (1), Pasal  20 dan Pasal 33 ayat (2) dan ayat (3) Undang-Undang Dasar Negara Republik Indonesia Tahun 1945;   Dengan Persetujuan Bersama  DEWAN PERWAKILAN RAKYAT REPUBLIK INDONESIA dan PRESIDEN REPUBLIK INDONESIA,  MEMUTUSKAN:  Menetapkan : UNDANG-UNDANG TENTANG PERTAMBANGAN MINER AL DAN BATUBARA.   BAB I KETENTUAN UMUM  Pasal  1  Dalam Undang-Undang ini yang dimaksud dengan:  1.  Pertambangan adalah sebagian atau seluruh tahapan kegiatan dalam rangka penelitian, pengelolaan dan pengusahaan mineral atau batubara yang meliputi penyelidikan umum, eksplorasi, studi kelayakan, konstruksi, penambangan, pengolahan dan pemurnian, pengangkutan dan penjualan, serta kegiatan pascatambang. 2.  Mineral adalah senyawa anorganik yang terbentuk di alam, yang memiliki sifat fisik dan kimia tertentu serta susunan kristal teratur atau gabungannya yang membentuk batuan, baik dalam bentuk lepas atau padu. 3.  Batubara adalah endapan senyawa organik karbonan yang terbentuk secara alamiah dari sisa tumbuh-tumbuhan.         - 3 - 14. Penyelidikan . . . 4.  Pertambangan Mineral adalah pertambangan kumpulan mineral yang berupa bijih atau batuan, di luar panas bumi, minyak dan gas bumi, serta air tanah.  5.  Pertambangan Batubara adalah  pertambangan endapan karbon yang terdapat di dalam bumi, termasuk bitumen padat, gambut, dan batuan  aspal.   6.  Usaha Pertambangan adalah kegiatan dalam rangka pengusahaan mineral atau batubara yang meliputi tahapan kegiatan penyelidikan umum, eksplorasi, studi kelayakan, konstruksi, penambangan, pengolahan dan pemurnian, pengangkutan dan penjualan, serta pascatambang. 7.  Izin Usaha Pertambangan, yang selanjutnya disebut IUP, adalah izin untuk melaksanakan usaha pertambangan. 8.  IUP Eksplorasi adalah izin usaha yang diberikan untuk melakukan tahapan kegiatan penyelidikan umum,  eksplorasi, dan studi kelayakan. 9.  IUP Operasi Produksi adalah izin usaha yang diberikan setelah selesai pelaksanaan IUP Eksplorasi untuk melakukan tahapan kegiatan operasi produksi. 10.  Izin Pertambangan Rakyat, yang selanjutnya disebut IPR,   adalah izin untuk melaksanakan usaha pertambangan dalam wilayah pertambangan rakyat dengan luas wilayah dan investasi terbatas. 11.  Izin Usaha Pertambangan Khusus, yang selanjutnya disebut dengan IUPK, adalah izin untuk melaksanakan usaha pertambangan di wilayah izin usaha pertambangan khusus. 12.  IUPK Eksplorasi adalah izin usaha yang diberikan untuk melakukan tahapan kegiatan penyelidikan umum, eksplorasi, dan studi kelayakan di wilayah izin usaha pertambangan khusus. 13.  IUPK Operasi Produksi adalah izin usaha yang diberikan setelah selesai pelaksanaan IUPK Eksplorasi untuk melakukan tahapan kegiatan operasi produksi di wilayah izin usaha pertambangan khusus.      - 4 - 24. Jasa . . . 14.  Penyelidikan Umum adalah tahapan kegiatan pertambangan untuk  mengetahui kondisi geologi regional dan indikasi adanya mineralisasi. 15.  Eksplorasi adalah tahapan kegiatan usaha pertambangan untuk memperoleh informasi secara terperinci dan teliti tentang lokasi, bentuk, dimensi, sebaran, kualitas dan sumber daya terukur dari bahan galian, serta informasi mengenai lingkungan sosial dan lingkungan hidup. 16.  Studi Kelayakan adalah tahapan kegiatan usaha pertambangan  untuk memperoleh informasi secara rinci seluruh aspek yang berkaitan untuk menentukan kelayakan ekonomis dan teknis usaha pertambangan, termasuk analisis mengenai dampak lingkungan  serta perencanaan pascatambang. 17.  Operasi Produksi adalah tahapan kegiatan usaha pertambangan yang meliputi konstruksi, penambangan, pengolahan, pemurnian, termasuk pengangkutan dan penjualan, serta sarana pengendalian dampak lingkungan sesuai dengan hasil studi kelayakan. 18.  Konstruksi adalah kegiatan usaha pertambangan untuk melakukan  pembangunan seluruh fasilitas operasi produksi, termasuk pengendalian dampak lingkungan. 19.  Penambangan adalah bagian kegiatan usaha pertambangan  untuk memproduksi mineral dan/atau batubara dan mineral ikutannya. 20.  Pengolahan dan Pemurnian adalah kegiatan usaha pertambangan untuk meningkatkan mutu mineral dan/atau batubara  serta untuk memanfaatkan dan memperoleh mineral ikutan. 21.  Pengangkutan adalah kegiatan usaha pertambangan untuk memindahkan mineral dan/atau batubara dari daerah tambang dan/atau tempat pengolahan dan pemurnian sampai tempat penyerahan. 22.  Penjualan adalah kegiatan usaha pertambangan untuk menjual hasil pertambangan mineral atau batubara. 23.  Badan Usaha adalah setiap badan hukum yang bergerak di bidang pertambangan yang didirikan berdasarkan hukum Indonesia dan berkedudukan dalam wilayah Negara Kesatuan Republik Indonesia.    - 5 - 34. Wilayah . . . 24.  Jasa Pertambangan adalah jasa penunjang  yang berkaitan dengan kegiatan usaha pertambangan. 25.  Analisis Mengenai Dampak Lingkungan, yang selanjutnya disebut amdal, adalah kajian mengenai dampak besar dan penting suatu usaha dan/atau kegiatan yang direncanakan pada lingkungan hidup yang diperlukan bagi proses pengambilan keputusan tentang penyelenggaraan usaha dan/atau kegiatan. 26.  Reklamasi adalah kegiatan yang dilakukan sepanjang tahapan usaha pertambangan untuk menata, memulihkan, dan memperbaiki kualitas lingkungan dan ekosistem agar dapat berfungsi kembali sesuai peruntukannya. 27.  Kegiatan pascatambang, yang selanjutnya disebut pascatambang, adalah kegiatan terencana, sistematis, dan berlanjut setelah akhir  sebagian atau seluruh kegiatan usaha pertambangan untuk memulihkan fungsi lingkungan alam dan fungsi sosial menurut kondisi lokal di seluruh wilayah penambangan. 28.  Pemberdayaan Masyarakat adalah usaha untuk meningkatkan kemampuan masyarakat, baik secara individual maupun kolektif, agar menjadi lebih baik tingkat kehidupannya. 29.  Wilayah Pertambangan, yang selanjutnya disebut WP, adalah wilayah yang memiliki potensi mineral dan/atau batubara dan tidak terikat dengan batasan administrasi pemerintahan yang merupakan bagian dari tata ruang nasional. 30.  Wilayah Usaha Pertambangan, yang selanjutnya disebut WUP, adalah bagian dari WP yang telah memiliki ketersediaan data, potensi, dan/atau informasi geologi. 31.  Wilayah Izin Usaha Pertambangan, yang selanjutnya disebut WIUP, adalah wilayah yang diberikan kepada pemegang IUP. 32.  Wilayah Pertambangan Rakyat, yang selanjutnya disebut WPR, adalah bagian dari WP tempat dilakukan kegiatan usaha pertambangan rakyat. 33.  Wilayah Pencadangan Negara, yang selanjutnya disebut WPN, adalah bagian dari WP yang dicadangkan untuk kepentingan strategis nasional.    - 6 - c. menjamin . . . 34.  Wilayah Usaha Pertambangan Khusus yang selanjutnya disebut WUPK, adalah bagian dari WPN yang dapat  diusahakan. 35.  Wilayah Izin Usaha Pertambangan Khusus dalam WUPK, yang selanjutnya disebut WIUPK, adalah wilayah yang diberikan kepada pemegang IUPK. 36.  Pemerintah Pusat, yang selanjutnya disebut Pemerintah, adalah Presiden Republik Indonesia yang memegang kekuasaan Pemerintahan Negara Republik Indonesia sebagaimana dimaksud dalam Undang-Undang Dasar Negara Republik Indonesia Tahun 1945. 37.  Pemerintah daerah adalah gubernur, bupati atau walikota, dan perangkat daerah sebagai unsur penyelenggaraan pemerintahan daerah. 38.  Menteri adalah menteri yang menyelenggarakan urusan pemerintahan di bidang pertambangan mineral dan batubara.   BAB II ASAS DAN TUJUAN   Pasal 2  Pertambangan mineral dan/atau batubara dikelola berasaskan:  a.  manfaat, keadilan,  dan keseimbangan; b.  keberpihakan kepada kepentingan bangsa; c.  partisipatif, transparansi, dan akuntabilitas; d.  berkelanjutan dan berwawasan lingkungan.  Pasal 3  Dalam rangka mendukung pembangunan nasional yang berkesinambungan, tujuan pengelolaan mineral dan batubara  adalah:  a.  menjamin efektivitas pelaksanaan dan pengendalian kegiatan usaha pertambangan secara berdaya guna, berhasil guna, dan berdaya saing; b.  menjamin manfaat pertambangan mineral dan batubara secara berkelanjutan dan berwawasan lingkungan hidup;    - 7 - (5) Ketentuan . . . c.  menjamin tersedianya mineral dan batubara sebagai bahan baku dan/atau sebagai sumber energi untuk kebutuhan dalam negeri; d.  mendukung dan menumbuhkembangkan kemampuan nasional agar lebih mampu bersaing di tingkat nasional, regional, dan internasional; e.  meningkatkan pendapatan masyarakat lokal, daerah, dan negara, serta menciptakan lapangan kerja untuk sebesar -besar kesejahteraan rakyat; dan f.  menjamin kepastian hukum dalam penyelenggaraan kegiatan usaha pertambangan mineral dan batubara.   BAB III PENGUASAAN MINERAL DAN BATUBARA  Pasal  4  (1)  Mineral dan batubara sebagai sumber daya alam yang tak terbarukan merupakan kekayaan nasional yang dikuasai oleh negara untuk sebesar-besar kesejahteraan rakyat. (2)  Penguasaan mineral dan batubara oleh negara sebagaimana dimaksud pada ayat (1) diselenggarakan oleh Pemerintah dan/atau pemerintah daerah.   Pasal 5  (1)  Untuk kepentingan nasional, Pemerintah setelah berkonsultasi dengan Dewan Perwakilan Rakyat Republik Indonesia dapat menetapkan kebijakan pengutamaan mineral dan/atau batubara untuk kepentingan dalam negeri. (2)  Kepentingan nasional sebagaimana dimaksud pada ayat (1) dapat dilakukan dengan pengendalian produksi dan ekspor. (3)  Dalam melaksanakan pengendalian sebagaimana dimaksud   pada ayat (2), Pemerintah mempunyai kewenangan untuk menetapkan jumlah produksi tiap-tiap komoditas per tahun setiap provinsi. (4)  Pemerintah daerah wajib mematuhi ketentuan jumlah yang ditetapkan oleh Pemerintah sebagaimana dimaksud pada ayat (3).    - 8 - k. penetapan . . . (5)  Ketentuan lebih lanjut mengenai pengutamaan mineral dan/atau batubara untuk kepentingan dalam negeri sebagaimana dimaksud pada ayat (1) dan pengendalian produksi  dan ekspor sebagaimana dimaksud pada ayat (2) dan ayat (3) diatur dengan peraturan pemerintah.   BAB IV KEWENANGAN PENGELOLAAN  PERTAMBANGAN MINERAL DAN BATUBARA   Pasal  6  (1)  Kewenangan Pemerintah dalam pengelolaan pertambangan mineral dan batubara, antara lain, adalah:  a.  penetapan kebijakan nasional; b.  pembuatan peraturan perundang-undangan; c.  penetapan standar nasional, pedoman, dan kriteria; d.  penetapan sistem perizinan pertambangan mineral dan batubara nasional; e.  penetapan WP yang dilakukan setelah berkoordinasi dengan pemerintah daerah dan berkonsultasi dengan Dewan Perwakilan Rakyat Republik Indonesia; f.  pemberian IUP, pembinaan, penyelesaian konflik masyarakat, dan pengawasan usaha pertambangan yang berada pada lintas wilayah provinsi dan/atau wilayah laut lebih dari 12 (dua belas) mil dari garis pantai; g.  pemberian IUP, pembinaan, penyelesaian konflik masyarakat, dan pengawasan usaha pertambangan yang lokasi penambangannya berada pada lintas wilayah provinsi dan/atau wilayah laut lebih dari 12 (dua belas) mil dari garis pantai; h.  pemberian IUP, pembinaan, penyelesaian konflik masyarakat, dan pengawasan usaha pertambangan operasi produksi yang berdampak lingkungan langsung lintas provinsi dan/atau dalam wilayah laut lebih dari 12 (dua belas) mil dari garis pantai; i.  pemberian IUPK Eksplorasi dan IUPK Operasi Produksi; j.  pengevaluasian  IUP  Operasi Produksi, yang dikeluarkan oleh pemerintah daerah, yang telah menimbulkan kerusakan lingkungan serta yang tidak menerapkan kaidah pertambangan yang baik;    - 9 - c. pemberian . . . k.  penetapan kebijakan produksi, pemasaran, pemanfaatan, dan konservasi; l.  penetapan kebijakan kerja sama, kemitraan,  dan pemberdayaan masyarakat;  m.  perumusan dan penetapan penerimaan negara bukan pajak dari hasil usaha pertambangan mineral dan batubara; n.  pembinaan dan pengawasan penyelenggaraan pengelolaan pertambangan mineral dan batubara yang dilaksanakan oleh pemerintah daerah; o.  pembinaan dan pengawasan penyusunan peraturan daerah di bidang pertambangan; p.  penginventarisasian, penyelidikan, dan penelitian serta eksplorasi dalam rangka memperoleh data dan informasi mineral dan batubara sebagai bahan penyusunan WUP dan WPN; q.  pengelolaan informasi geologi, informasi potensi sumber daya mineral dan batubara, serta informasi pertambangan pada tingkat nasional; r.  pembinaan dan pengawasan terhadap reklamasi lahan pascatambang; s.  penyusunan neraca sumber daya mineral dan  batubara tingkat nasional; t.  pengembangan dan peningkatan nilai tambah kegiatan usaha pertambangan; dan u.  peningkatan kemampuan aparatur Pemerintah, pemerintah provinsi, dan pemerintah kabupaten/kota dalam penyelenggaraan pengelolaan usaha pertambangan.  (2)  Kewenangan Pemerintah sebagaimana dimaksud pada ayat (1) dilaksanakan sesuai dengan ketentuan peraturan perundang-undangan.   Pasal   7  (1)  Kewenangan pemerintah provinsi dalam pengelolaan pertambangan mineral dan batubara, antara lain, adalah: a.  pembuatan peraturan perundang-undangan daerah; b.  pemberian IUP, pembinaan, penyelesaian konflik masyarakat dan pengawasan usaha pertambangan pada lintas wilayah kabupaten/kota dan/atau wilayah laut 4 (empat) mil sampai dengan 12 (dua belas) mil;    - 10  - Pasal 8 . . . c.  pemberian IUP, pembinaan, penyelesaian konflik masyarakat   dan pengawasan usaha pertambangan operasi produksi   yang kegiatannya berada pada lintas wilayah kabupaten/kota dan/atau wilayah   laut 4 (empat) mil sampai dengan 12 (dua belas) mil; d.  pemberian IUP, pembinaan, penyelesaian konflik masyarakat dan pengawasan usaha pertambangan yang berdampak lingkungan langsung lintas kabupaten/kota dan/atau wilayah laut 4 (empat) mil sampai dengan 12 (dua belas) mil; e.  penginventarisasian,  penyelidikan dan penelitian serta eksplorasi dalam rangka memperoleh data dan informasi mineral dan batubara sesuai dengan kewenangannya; f.  pengelolaan informasi geologi, informasi potensi sumber daya mineral dan batubara, serta informasi pertambangan pada daerah/wilayah provinsi; g.  penyusunan neraca sumber daya mineral dan batubara pada daerah/wilayah provinsi; h.  pengembangan dan peningkatan nilai tambah kegiatan usaha pertambangan di provinsi; i.  pengembangan dan peningkatan peran serta masyarakat dalam usaha pertambangan dengan memperhatikan kelestarian lingkungan; j.  pengoordinasian perizinan dan pengawasan penggunaan bahan peledak di wilayah tambang sesuai dengan kewenangannya; k.  penyampaian informasi hasil inventarisasi, penyelidikan umum, dan penelitian serta eksplorasi kepada Menteri dan bupati/walikota; l.  penyampaian informasi hasil produksi, penjualan dalam negeri, serta ekspor kepada Menteri dan bupati/walikota; m.  pembinaan dan pengawasan terhadap reklamasi lahan pascatambang;  dan n.  peningkatan kemampuan aparatur pemerintah provinsi dan pemerintah kabupaten/kota dalam penyelenggaraan pengelolaan usaha pertambangan.  (2)  Kewenangan pemerintah provinsi sebagaimana dimaksud pada ayat (1) dilaksanakan sesuai dengan ketentuan peraturan perundang-undangan.      - 11  - BAB V . . . Pasal 8   (1)  Kewenangan pemerintah kabupaten/kota dalam pengelolaan pertambangan mineral dan batubara, antara lain, adalah: a.  pembuatan peraturan perundang-undangan daerah; b.  pemberian IUP dan IPR, pembinaan, penyelesaian konflik masyarakat, dan pengawasan usaha pertambangan di wilayah kabupaten/kota dan/atau wilayah laut sampai dengan 4 (empat) mil; c.  pemberian IUP dan IPR, pembinaan, penyelesaian konflik masyarakat   dan pengawasan usaha pertambangan operasi produksi yang kegiatannya berada di wilayah kabupaten/kota dan/atau wilayah laut sampai dengan 4 (empat) mil; d.  penginventarisasian, penyelidikan dan penelitian, serta eksplorasi dalam rangka memperoleh data dan informasi mineral dan batubara; e.  pengelolaan informasi geologi, informasi potensi mineral dan batubara, serta informasi pertambangan pada wilayah kabupaten/kota; f.  penyusunan neraca sumber daya mineral dan batubara pada wilayah kabupaten/kota; g.  pengembangan dan pemberdayaan masyarakat setempat dalam usaha pertambangan dengan memperhatikan kelestarian lingkungan; h.  pengembangan dan peningkatan nilai tambah dan manfaat kegiatan usaha pertambangan secara optimal; i.  penyampaian informasi hasil inventarisasi, penyelidikan umum, dan penelitian, serta eksplorasi dan eksploitasi kepada Menteri dan gubernur; j.  penyampaian informasi hasil produksi, penjualan dalam negeri, serta ekspor kepada Menteri dan gubernur; k.  pembinaan  dan  pengawasan terhadap reklamasi lahan pascatambang; dan l.  peningkatan kemampuan aparatur pemerintah kabupaten/kota dalam penyelenggaraan pengelolaan usaha pertambangan.  (2)  Kewenangan pemerintah kabupaten/kota sebagaimana dimaksud pada ayat (1) dilaksanakan sesuai dengan ketentuan peraturan perundang-undangan.    - 12  - Bagian Kedua . . .    BAB V WILAYAH  PERTAMBANGAN  Bagian Kesatu Umum  Pasal 9  (1)  WP sebagai bagian dari tata ruang nasional merupakan landasan bagi penetapan kegiatan pertambangan. (2)  WP sebagaimana dimaksud pada ayat (1) ditetapkan oleh Pemerintah setelah berkoordinasi dengan pemerintah daerah dan berkonsultasi dengan Dewan Perwakilan Rakyat Republik Indonesia.  Pasal  10   Penetapan WP sebagaimana dimaksud dalam Pasal 9 ayat (2) dilaksanakan:  a.  secara transparan, partisipatif, dan bertanggung jawab; b.  secara terpadu dengan memperhatikan pendapat dari  instansi pemerintah terkait, masyarakat, dan dengan mempertimbangkan aspek ekologi, ekonomi, dan sosial budaya, serta berwawasan lingkungan; dan c.  dengan memperhatikan aspirasi daerah.  Pasal 11  Pemerintah dan pemerintah daerah wajib melakukan penyelidikan dan penelitian pertambangan dalam rangka penyiapan WP.  Pasal 12  Ketentuan lebih lanjut mengenai batas, luas, dan mekanisme penetapan WP sebagaimana dimaksud dalam Pasal 9, Pasal 10, dan Pasal 11 diatur dengan peraturan pemerintah.  Pasal  13  WP terdiri atas: a.  WUP; b.  WPR; dan c.  WPN.        - 13  - Pasal 19 . . . Bagian  Kedua Wilayah Usaha Pertambangan  Pasal  14  (1)  Penetapan WUP dilakukan oleh Pemerintah setelah berkoordinasi dengan pemerintah daerah dan disampaikan secara tertulis kepada Dewan Perwakilan Rakyat Republik Indonesia. (2)  Koordinasi sebagaimana dimaksud pada ayat (1) dilakukan dengan pemerintah daerah yang bersangkutan  berdasarkan data dan informasi yang dimiliki Pemerintah dan pemerintah daerah.    Pasal 15  Pemerintah dapat melimpahkan sebagian kewenangannya dalam penetapan WUP sebagaimana dimaksud dalam Pasal 14  ayat (1) kepada pemerintah provinsi sesuai dengan ketentu an peraturan perundang-undangan.  Pasal 16  Satu WUP terdiri atas 1 (satu) atau beberapa WIUP yang berada pada lintas wilayah provinsi, lintas wilayah kabupaten/kota, dan/atau dalam 1 (satu) wilayah kabupaten/kota.  Pasal   17  Luas dan batas WIUP mineral logam dan batubara ditetapk an oleh Pemerintah berkoordinasi dengan pemerintah daerah berdasarkan kriteria yang dimiliki oleh Pemerintah.  Pasal  18  Kriteria untuk menetapkan 1 (satu) atau beberapa WIUP dalam 1 (satu)  WUP adalah sebagai berikut: a.  letak geografis;  b.  kaidah konservasi; c.  daya dukung lindungan lingkungan; d.  optimalisasi sumber daya mineral dan/atau batubara; dan e.  tingkat kepadatan penduduk.      - 14  - Pasal 24 . . .   Pasal  19  Ketentuan lebih lanjut mengenai tata cara penetapan bat as dan luas WIUP sebagaimana dimaksud dalam Pasal 17 diatur dengan peraturan pemerintah.   Bagian Ketiga Wilayah Pertambangan Rakyat  Pasal 20  Kegiatan pertambangan rakyat dilaksanakan dalam suatu WPR.  Pasal 21  WPR sebagaimana dimaksud dalam Pasal 20 ditetapkan oleh bupati/walikota setelah berkonsultasi dengan Dewan Perwakilan Rakyat Daerah kabupaten/kota.  Pasal   22  Kriteria untuk menetapkan WPR adalah sebagai berikut:  a.  mempunyai cadangan mineral sekunder yang terdapat di sungai dan/atau di antara tepi dan tepi sungai; b.  mempunyai cadangan primer logam atau batubara dengan kedalaman maksimal 25 (dua puluh lima) meter; c.  endapan teras, dataran banjir, dan endapan sungai purba; d.  luas maksimal wilayah pertambangan rakyat adalah 25 (dua puluh lima) hektare; e.  menyebutkan jenis komoditas yang akan ditambang; dan/atau f.       merupakan wilayah atau tempat  kegiatan tambang rakyat yang sudah dikerjakan sekurang-kurangnya 15 (lima belas) tahun.  Pasal   23  Dalam menetapkan WPR sebagaimana dimaksud dalam Pasal 21, bupati/walikota berkewajiban melakukan pengumuman mengenai rencana WPR kepada masyarakat secara terbuka.         - 15  - Pasal 28 . . . Pasal 24  Wilayah atau tempat kegiatan tambang rakyat yang sudah  dikerjakan tetapi belum ditetapkan sebagai WPR diprioritaskan untuk ditetapkan sebagai WPR.    Pasal   25  Ketentuan lebih lanjut mengenai pedoman, prosedur, dan penetapan WPR sebagaimana dimaksud dalam Pasal 21 dan Pasal 23 diatur dengan  peraturan pemerintah.   Pasal   26  Ketentuan lebih lanjut mengenai kriteria dan mekanisme penetapan WPR, sebagaimana dimaksud dalam Pasal 22 dan Pasal 23 diatur dengan peraturan daerah kabupaten/kota.  Bagian Keempat Wilayah Pencadangan Negara   Pasal  27  (1)  Untuk kepentingan strategis nasional, Pemerintah dengan persetujuan Dewan Perwakilan Rakyat Republik Indonesia dan dengan memperhatikan aspirasi daerah menetapkan WPN sebagai daerah yang dicadangkan untuk komoditas tertentu dan daerah konservasi dalam rangka menjaga keseimbangan ekosistem dan lingkungan. (2)  WPN yang ditetapkan untuk komoditas tertentu sebagaimana dimaksud pada ayat (1) dapat diusahakan sebagian luas wilayahnya dengan persetujuan Dewan Perwakilan Rakyat Republik Indonesia.   (3)  WPN yang ditetapkan untuk konservasi sebagaimana dimaksud pada ayat (1) ditentukan batasan waktu dengan persetujuan Dewan Perwakilan Rakyat Republik Indonesia.  (4)  Wilayah yang akan diusahakan sebagaimana dimaksud pada ayat (2) dan ayat (3) berubah statusnya menjadi WUPK.           - 16  - a. letak geografis . . . Pasal  28  Perubahan status WPN sebagaimana dimaksud dalam Pasal 27 ayat (2), ayat (3), dan ayat (4) menjadi WUPK dapat dilakukan dengan mempertimbangkan:  a.  pemenuhan bahan baku industri dan energi dalam negeri;  b.  sumber devisa negara; c.  kondisi wilayah didasarkan pada keterbatasan sarana dan prasarana;  d.  berpotensi untuk dikembangkan sebagai pusat pertumbuhan ekonomi;  e.  daya dukung lingkungan; dan/atau f.       penggunaan teknologi tinggi dan modal investasi yang besar.  Pasal  29  (1)  WUPK sebagaimana dimaksud dalam Pasal 27 ayat (4) yang akan diusahakan ditetapkan oleh Pemerintah setelah berkoordinasi dengan pemerintah daerah.  (2)  Pelaksanaan kegiatan usaha pertambangan di WUPK sebagaimana dimaksud pada ayat (1) dilakukan dalam bentuk IUPK.  Pasal 30  Satu WUPK terdiri atas 1 (satu) atau beberapa WIUPK yan g berada pada lintas wilayah provinsi, lintas wilayah kabupaten/kota, dan/atau dalam 1 (satu) wilayah kabupaten/kota.  Pasal   31  Luas dan batas WIUPK mineral logam dan batubara ditetapkan oleh Pemerintah berkoordinasi dengan pemerint ah daerah berdasarkan kriteria dan informasi yang dimiliki oleh Pemerintah.  Pasal  32  Kriteria untuk menetapkan 1 (satu) atau beberapa WIUPK dalam 1 (satu)  WUPK adalah sebagai berikut:    - 17  - BAB VII . . . a.  letak geografis;   b.  kaidah konservasi; c.  daya dukung lindungan lingkungan; d.  optimalisasi sumber daya mineral dan/atau batubara; dan e.  tingkat kepadatan penduduk.  Pasal  33  Ketentuan lebih lanjut mengenai tata cara penetapan luas  dan batas WIUPK sebagaimana dimaksud dalam Pasal 31 dan Pasal 32 diatur dengan peraturan pemerintah.   BAB VI USAHA PERTAMBANGAN  Pasal 34  (1)  Usaha pertambangan dikelompokkan atas: a.  pertambangan mineral; dan b.  pertambangan batubara. (2)  Pertambangan mineral sebagaimana dimaksud pada ayat (1) huruf a digolongkan atas: a.  pertambangan mineral radioaktif; b.  pertambangan mineral logam; c.  pertambangan mineral bukan logam; dan d.  pertambangan batuan. (3)  Ketentuan lebih lanjut mengenai penetapan suatu komoditas tambang ke dalam suatu golongan pertambangan mineral sebagaimana dimaksud pada ayat (2) diatur dengan peraturan pemerintah.   Pasal  35  Usaha pertambangan sebagaimana dimaksud dalam Pasal 34 dilaksanakan dalam bentuk: a.  IUP; b.  IPR; dan c.  IUPK.        - 18  - Pasal 39 . . . BAB VII IZIN USAHA PERTAMBANGAN  Bagian Kesatu Umum  Pasal   36  (1)  IUP terdiri atas dua tahap: a.  IUP Eksplorasi meliputi kegiatan penyelidikan umum, eksplorasi,  dan studi kelayakan; b.  IUP Operasi Produksi meliputi  kegiatan konstruksi, penambangan, pengolahan dan pemurnian, serta pengangkutan dan penjualan. (2)  Pemegang IUP Eksplorasi dan pemegang IUP Operasi Produksi dapat melakukan sebagian atau seluruh kegiatan sebagaimana dimaksud pada ayat (1).  Pasal 37  IUP diberikan oleh:   a.  bupati/walikota apabila WIUP berada di dalam satu wilayah kabupaten/kota; b.  gubernur apabila WIUP berada pada lintas wilayah kabupaten/kota dalam 1 (satu) provinsi setelah mendapatkan rekomendasi dari bupati/walikota setempat sesuai dengan ketentuan peraturan perundang-undangan; dan c.  Menteri apabila WIUP berada pada lintas wilayah provinsi setelah mendapatkan rekomendasi dari gubernur dan bupati/walikota setempat sesuai dengan ketentuan peraturan perundang-undangan.  Pasal  38  IUP diberikan kepada: a.  badan usaha; b.  koperasi; dan c.  perseorangan.          - 19  - o. perpajakan . . . Pasal 39  (1)  IUP Eksplorasi  sebagaimana dimaksud dalam Pasal 36 ayat (1) huruf a wajib memuat ketentuan sekurang-kurangnya:  a.  nama perusahaan;  b.  lokasi dan luas wilayah; c.  rencana umum tata ruang; d.  jaminan kesungguhan; e.  modal investasi; f.  perpanjangan waktu tahap kegiatan; g.  hak dan kewajiban pemegang IUP;  h.  jangka waktu berlakunya tahap  kegiatan; i.  jenis usaha yang diberikan; j.  rencana pengembangan dan pemberdayaan masyarakat di sekitar wilayah pertambangan; k.  perpajakan; l.  penyelesaian perselisihan;  m.  iuran tetap dan iuran eksplorasi; dan n.  amdal. (2)  IUP Operasi Produksi  sebagaimana dimaksud dalam Pasal 36 ayat (1) huruf b wajib memuat ketentuan sekurang-kurangnya:  a.  nama perusahaan; b.  luas wilayah; c.  lokasi penambangan; d.  lokasi pengolahan dan pemurnian; e.  pengangkutan dan penjualan; f.  modal investasi; g.  jangka waktu berlakunya IUP; h.  jangka waktu tahap kegiatan; i.  penyelesaian masalah pertanahan; j.  lingkungan hidup termasuk reklamasi dan pascatambang; k.  dana jaminan reklamasi dan pascatambang; l.  perpanjangan IUP; m.  hak dan kewajiban pemegang IUP; n.  rencana pengembangan dan pemberdayaan masyarakat di sekitar wilayah pertambangan;    - 20  - Bagian Kedua . . . o.  perpajakan;  p.  penerimaan negara bukan pajak yang terdiri atas iuran tetap dan iuran produksi; q.  penyelesaian perselisihan; r.  keselamatan dan kesehatan kerja; s.  konservasi mineral atau batubara; t.  pemanfaatan barang, jasa, dan teknologi dalam negeri; u.  penerapan kaidah keekonomian dan keteknikan pertambangan yang baik;  v.  pengembangan tenaga kerja Indonesia; w.  pengelolaan data mineral atau batubara; dan x.  penguasaan, pengembangan, dan penerapan teknologi pertambangan mineral atau batubara.  Pasal  40  (1)  IUP sebagaimana dimaksud dalam Pasal  36 ayat (1) diberikan untuk 1 (satu) jenis mineral atau batubara. (2)  Pemegang IUP sebagaimana dimaksud pada ayat (1) yang menemukan mineral lain di dalam WIUP yang dikelola diberikan prioritas untuk mengusahakannya.  (3)  Pemegang IUP yang bermaksud mengusahakan mineral lain sebagaimana dimaksud pada ayat (2), wajib mengajukan permohonan IUP baru kepada Menteri, gubernur, dan bupati/walikota sesuai dengan kewenangannya. (4)  Pemegang IUP sebagaimana dimaksud pada ayat (2) dapat menyatakan tidak berminat untuk mengusahakan mineral lain yang ditemukan tersebut. (5)  Pemegang IUP yang tidak berminat untuk mengusahakan mineral lain yang ditemukan sebagaimana dimaksud pada ayat (4), wajib menjaga mineral lain tersebut agar tidak dimanfaatkan pihak lain. (6)  IUP untuk mineral lain sebagaimana dimaksud pada ayat (4) dan ayat (5) dapat diberikan kepada pihak lain oleh Menteri, gubernur, dan bupati/walikota sesuai dengan kewenangannya.  Pasal  41  IUP tidak dapat digunakan selain yang dimaksud dalam pemberian IUP.  '"
      ]
     },
     "execution_count": 15,
     "metadata": {},
     "output_type": "execute_result"
    }
   ],
   "source": [
    "text = re.sub(r'\\n', '', text)\n",
    "text"
   ]
  },
  {
   "cell_type": "code",
   "execution_count": 17,
   "metadata": {},
   "outputs": [
    {
     "name": "stdout",
     "output_type": "stream",
     "text": [
      "Collecting nltk\n",
      "  Using cached nltk-3.8.1-py3-none-any.whl (1.5 MB)\n",
      "Requirement already satisfied: click in c:\\users\\lenovo\\documents\\satria data\\venv\\lib\\site-packages (from nltk) (8.1.3)\n",
      "Collecting joblib (from nltk)\n",
      "  Obtaining dependency information for joblib from https://files.pythonhosted.org/packages/28/08/9dcdaa5aac4634e4c23af26d92121f7ce445c630efa0d3037881ae2407fb/joblib-1.3.1-py3-none-any.whl.metadata\n",
      "  Downloading joblib-1.3.1-py3-none-any.whl.metadata (5.4 kB)\n",
      "Requirement already satisfied: regex>=2021.8.3 in c:\\users\\lenovo\\documents\\satria data\\venv\\lib\\site-packages (from nltk) (2023.6.3)\n",
      "Requirement already satisfied: tqdm in c:\\users\\lenovo\\documents\\satria data\\venv\\lib\\site-packages (from nltk) (4.65.0)\n",
      "Requirement already satisfied: colorama in c:\\users\\lenovo\\documents\\satria data\\venv\\lib\\site-packages (from click->nltk) (0.4.6)\n",
      "Using cached joblib-1.3.1-py3-none-any.whl (301 kB)\n",
      "Installing collected packages: joblib, nltk\n",
      "Successfully installed joblib-1.3.1 nltk-3.8.1\n"
     ]
    }
   ],
   "source": [
    "!pip install nltk"
   ]
  },
  {
   "cell_type": "code",
   "execution_count": 18,
   "metadata": {},
   "outputs": [
    {
     "name": "stderr",
     "output_type": "stream",
     "text": [
      "[nltk_data] Downloading package punkt to\n",
      "[nltk_data]     C:\\Users\\LENOVO\\AppData\\Roaming\\nltk_data...\n",
      "[nltk_data]   Unzipping tokenizers\\punkt.zip.\n"
     ]
    },
    {
     "name": "stdout",
     "output_type": "stream",
     "text": [
      "['d. bahwa .', '.', '.', 'UNDANG-UNDANG REPUBLIK INDONESIA  NOMOR  4 TAHUN 2009      TENTANG  PERTAMBANGAN MINERAL DAN BATUBARA   DENGAN RAHMAT TUHAN YANG MAHA ESA     PRESIDEN REPUBLIK INDONESIA,   Menimbang :  a. bahwa  mineral  dan  batubara  yang  te rkandung dalam  wilayah hukum pertambangan Indonesia merupakan kekayaan alam tak terbarukan sebagai karunia Tuhan Yang Maha Esa yang mempunyai peranan penting dalam memenuhi hajat hidup orang banyak, karena itu pengelolaannya harus dikuasai oleh Negara untuk memberi nilai tambah secara nyata bagi perekonomian nasional dalam usaha mencapai kemakmuran dan kesejahteraan rakyat secara berkeadilan; b.  bahwa kegiatan usaha   pertambangan mineral dan batubara yang merupakan kegiatan usaha pertambangan di luar panas bumi, minyak dan gas bumi serta air tanah mempunyai peranan penting dalam memberikan nilai tambah secara nyata kepada pertumbuhan ekonomi nasional dan pembangunan daerah secara berkelanjutan; c.  bahwa dengan mempertimbangkan perkembangan nasional maupun internasional, Undang-Undang Nomor 11 Tahun 1967 tentang Ketentuan-Ketentuan Pokok Pertambangan  sudah tidak sesuai lagi sehingga dibutuhkan perubahan peraturan perundang-undangan di bidang pertambangan mineral dan batubara yang dapat mengelola dan mengusahakan potensi mineral dan batubara secara mandiri, andal, transparan, berdaya saing, efisien, dan berwawasan lingkungan, guna menjamin pembangunan nasional secara berkelanjutan;         - 2 - 4.', 'Pertambangan .', '.', '.', 'd.  bahwa berdasarkan pertimbangan sebagaimana dimaksud dalam huruf a, huruf b, dan huruf c, perlu membentuk Undang-Undang tentang Pertambangan Mineral dan Batubara;  Mengingat : Pasal 5 ayat (1), Pasal  20 dan Pasal 33 ayat (2) dan ayat (3) Undang-Undang Dasar Negara Republik Indonesia Tahun 1945;   Dengan Persetujuan Bersama  DEWAN PERWAKILAN RAKYAT REPUBLIK INDONESIA dan PRESIDEN REPUBLIK INDONESIA,  MEMUTUSKAN:  Menetapkan : UNDANG-UNDANG TENTANG PERTAMBANGAN MINER AL DAN BATUBARA.', 'BAB I KETENTUAN UMUM  Pasal  1  Dalam Undang-Undang ini yang dimaksud dengan:  1.', 'Pertambangan adalah sebagian atau seluruh tahapan kegiatan dalam rangka penelitian, pengelolaan dan pengusahaan mineral atau batubara yang meliputi penyelidikan umum, eksplorasi, studi kelayakan, konstruksi, penambangan, pengolahan dan pemurnian, pengangkutan dan penjualan, serta kegiatan pascatambang.', '2.', 'Mineral adalah senyawa anorganik yang terbentuk di alam, yang memiliki sifat fisik dan kimia tertentu serta susunan kristal teratur atau gabungannya yang membentuk batuan, baik dalam bentuk lepas atau padu.', '3.', 'Batubara adalah endapan senyawa organik karbonan yang terbentuk secara alamiah dari sisa tumbuh-tumbuhan.', '- 3 - 14.', 'Penyelidikan .', '.', '.', '4.', 'Pertambangan Mineral adalah pertambangan kumpulan mineral yang berupa bijih atau batuan, di luar panas bumi, minyak dan gas bumi, serta air tanah.', '5.', 'Pertambangan Batubara adalah  pertambangan endapan karbon yang terdapat di dalam bumi, termasuk bitumen padat, gambut, dan batuan  aspal.', '6.', 'Usaha Pertambangan adalah kegiatan dalam rangka pengusahaan mineral atau batubara yang meliputi tahapan kegiatan penyelidikan umum, eksplorasi, studi kelayakan, konstruksi, penambangan, pengolahan dan pemurnian, pengangkutan dan penjualan, serta pascatambang.', '7.', 'Izin Usaha Pertambangan, yang selanjutnya disebut IUP, adalah izin untuk melaksanakan usaha pertambangan.', '8.', 'IUP Eksplorasi adalah izin usaha yang diberikan untuk melakukan tahapan kegiatan penyelidikan umum,  eksplorasi, dan studi kelayakan.', '9.', 'IUP Operasi Produksi adalah izin usaha yang diberikan setelah selesai pelaksanaan IUP Eksplorasi untuk melakukan tahapan kegiatan operasi produksi.', '10.', 'Izin Pertambangan Rakyat, yang selanjutnya disebut IPR,   adalah izin untuk melaksanakan usaha pertambangan dalam wilayah pertambangan rakyat dengan luas wilayah dan investasi terbatas.', '11.', 'Izin Usaha Pertambangan Khusus, yang selanjutnya disebut dengan IUPK, adalah izin untuk melaksanakan usaha pertambangan di wilayah izin usaha pertambangan khusus.', '12.', 'IUPK Eksplorasi adalah izin usaha yang diberikan untuk melakukan tahapan kegiatan penyelidikan umum, eksplorasi, dan studi kelayakan di wilayah izin usaha pertambangan khusus.', '13.', 'IUPK Operasi Produksi adalah izin usaha yang diberikan setelah selesai pelaksanaan IUPK Eksplorasi untuk melakukan tahapan kegiatan operasi produksi di wilayah izin usaha pertambangan khusus.', '- 4 - 24.', 'Jasa .', '.', '.', '14.', 'Penyelidikan Umum adalah tahapan kegiatan pertambangan untuk  mengetahui kondisi geologi regional dan indikasi adanya mineralisasi.', '15.', 'Eksplorasi adalah tahapan kegiatan usaha pertambangan untuk memperoleh informasi secara terperinci dan teliti tentang lokasi, bentuk, dimensi, sebaran, kualitas dan sumber daya terukur dari bahan galian, serta informasi mengenai lingkungan sosial dan lingkungan hidup.', '16.', 'Studi Kelayakan adalah tahapan kegiatan usaha pertambangan  untuk memperoleh informasi secara rinci seluruh aspek yang berkaitan untuk menentukan kelayakan ekonomis dan teknis usaha pertambangan, termasuk analisis mengenai dampak lingkungan  serta perencanaan pascatambang.', '17.', 'Operasi Produksi adalah tahapan kegiatan usaha pertambangan yang meliputi konstruksi, penambangan, pengolahan, pemurnian, termasuk pengangkutan dan penjualan, serta sarana pengendalian dampak lingkungan sesuai dengan hasil studi kelayakan.', '18.', 'Konstruksi adalah kegiatan usaha pertambangan untuk melakukan  pembangunan seluruh fasilitas operasi produksi, termasuk pengendalian dampak lingkungan.', '19.', 'Penambangan adalah bagian kegiatan usaha pertambangan  untuk memproduksi mineral dan/atau batubara dan mineral ikutannya.', '20.', 'Pengolahan dan Pemurnian adalah kegiatan usaha pertambangan untuk meningkatkan mutu mineral dan/atau batubara  serta untuk memanfaatkan dan memperoleh mineral ikutan.', '21.', 'Pengangkutan adalah kegiatan usaha pertambangan untuk memindahkan mineral dan/atau batubara dari daerah tambang dan/atau tempat pengolahan dan pemurnian sampai tempat penyerahan.', '22.', 'Penjualan adalah kegiatan usaha pertambangan untuk menjual hasil pertambangan mineral atau batubara.', '23.', 'Badan Usaha adalah setiap badan hukum yang bergerak di bidang pertambangan yang didirikan berdasarkan hukum Indonesia dan berkedudukan dalam wilayah Negara Kesatuan Republik Indonesia.', '- 5 - 34.', 'Wilayah .', '.', '.', '24.', 'Jasa Pertambangan adalah jasa penunjang  yang berkaitan dengan kegiatan usaha pertambangan.', '25.', 'Analisis Mengenai Dampak Lingkungan, yang selanjutnya disebut amdal, adalah kajian mengenai dampak besar dan penting suatu usaha dan/atau kegiatan yang direncanakan pada lingkungan hidup yang diperlukan bagi proses pengambilan keputusan tentang penyelenggaraan usaha dan/atau kegiatan.', '26.', 'Reklamasi adalah kegiatan yang dilakukan sepanjang tahapan usaha pertambangan untuk menata, memulihkan, dan memperbaiki kualitas lingkungan dan ekosistem agar dapat berfungsi kembali sesuai peruntukannya.', '27.', 'Kegiatan pascatambang, yang selanjutnya disebut pascatambang, adalah kegiatan terencana, sistematis, dan berlanjut setelah akhir  sebagian atau seluruh kegiatan usaha pertambangan untuk memulihkan fungsi lingkungan alam dan fungsi sosial menurut kondisi lokal di seluruh wilayah penambangan.', '28.', 'Pemberdayaan Masyarakat adalah usaha untuk meningkatkan kemampuan masyarakat, baik secara individual maupun kolektif, agar menjadi lebih baik tingkat kehidupannya.', '29.', 'Wilayah Pertambangan, yang selanjutnya disebut WP, adalah wilayah yang memiliki potensi mineral dan/atau batubara dan tidak terikat dengan batasan administrasi pemerintahan yang merupakan bagian dari tata ruang nasional.', '30.', 'Wilayah Usaha Pertambangan, yang selanjutnya disebut WUP, adalah bagian dari WP yang telah memiliki ketersediaan data, potensi, dan/atau informasi geologi.', '31.', 'Wilayah Izin Usaha Pertambangan, yang selanjutnya disebut WIUP, adalah wilayah yang diberikan kepada pemegang IUP.', '32.', 'Wilayah Pertambangan Rakyat, yang selanjutnya disebut WPR, adalah bagian dari WP tempat dilakukan kegiatan usaha pertambangan rakyat.', '33.', 'Wilayah Pencadangan Negara, yang selanjutnya disebut WPN, adalah bagian dari WP yang dicadangkan untuk kepentingan strategis nasional.', '- 6 - c. menjamin .', '.', '.', '34.', 'Wilayah Usaha Pertambangan Khusus yang selanjutnya disebut WUPK, adalah bagian dari WPN yang dapat  diusahakan.', '35.', 'Wilayah Izin Usaha Pertambangan Khusus dalam WUPK, yang selanjutnya disebut WIUPK, adalah wilayah yang diberikan kepada pemegang IUPK.', '36.', 'Pemerintah Pusat, yang selanjutnya disebut Pemerintah, adalah Presiden Republik Indonesia yang memegang kekuasaan Pemerintahan Negara Republik Indonesia sebagaimana dimaksud dalam Undang-Undang Dasar Negara Republik Indonesia Tahun 1945.', '37.', 'Pemerintah daerah adalah gubernur, bupati atau walikota, dan perangkat daerah sebagai unsur penyelenggaraan pemerintahan daerah.', '38.', 'Menteri adalah menteri yang menyelenggarakan urusan pemerintahan di bidang pertambangan mineral dan batubara.', 'BAB II ASAS DAN TUJUAN   Pasal 2  Pertambangan mineral dan/atau batubara dikelola berasaskan:  a.  manfaat, keadilan,  dan keseimbangan; b.  keberpihakan kepada kepentingan bangsa; c.  partisipatif, transparansi, dan akuntabilitas; d.  berkelanjutan dan berwawasan lingkungan.', 'Pasal 3  Dalam rangka mendukung pembangunan nasional yang berkesinambungan, tujuan pengelolaan mineral dan batubara  adalah:  a.  menjamin efektivitas pelaksanaan dan pengendalian kegiatan usaha pertambangan secara berdaya guna, berhasil guna, dan berdaya saing; b.  menjamin manfaat pertambangan mineral dan batubara secara berkelanjutan dan berwawasan lingkungan hidup;    - 7 - (5) Ketentuan .', '.', '.', 'c.  menjamin tersedianya mineral dan batubara sebagai bahan baku dan/atau sebagai sumber energi untuk kebutuhan dalam negeri; d.  mendukung dan menumbuhkembangkan kemampuan nasional agar lebih mampu bersaing di tingkat nasional, regional, dan internasional; e.  meningkatkan pendapatan masyarakat lokal, daerah, dan negara, serta menciptakan lapangan kerja untuk sebesar -besar kesejahteraan rakyat; dan f.  menjamin kepastian hukum dalam penyelenggaraan kegiatan usaha pertambangan mineral dan batubara.', 'BAB III PENGUASAAN MINERAL DAN BATUBARA  Pasal  4  (1)  Mineral dan batubara sebagai sumber daya alam yang tak terbarukan merupakan kekayaan nasional yang dikuasai oleh negara untuk sebesar-besar kesejahteraan rakyat.', '(2)  Penguasaan mineral dan batubara oleh negara sebagaimana dimaksud pada ayat (1) diselenggarakan oleh Pemerintah dan/atau pemerintah daerah.', 'Pasal 5  (1)  Untuk kepentingan nasional, Pemerintah setelah berkonsultasi dengan Dewan Perwakilan Rakyat Republik Indonesia dapat menetapkan kebijakan pengutamaan mineral dan/atau batubara untuk kepentingan dalam negeri.', '(2)  Kepentingan nasional sebagaimana dimaksud pada ayat (1) dapat dilakukan dengan pengendalian produksi dan ekspor.', '(3)  Dalam melaksanakan pengendalian sebagaimana dimaksud   pada ayat (2), Pemerintah mempunyai kewenangan untuk menetapkan jumlah produksi tiap-tiap komoditas per tahun setiap provinsi.', '(4)  Pemerintah daerah wajib mematuhi ketentuan jumlah yang ditetapkan oleh Pemerintah sebagaimana dimaksud pada ayat (3).', '- 8 - k. penetapan .', '.', '.', '(5)  Ketentuan lebih lanjut mengenai pengutamaan mineral dan/atau batubara untuk kepentingan dalam negeri sebagaimana dimaksud pada ayat (1) dan pengendalian produksi  dan ekspor sebagaimana dimaksud pada ayat (2) dan ayat (3) diatur dengan peraturan pemerintah.', 'BAB IV KEWENANGAN PENGELOLAAN  PERTAMBANGAN MINERAL DAN BATUBARA   Pasal  6  (1)  Kewenangan Pemerintah dalam pengelolaan pertambangan mineral dan batubara, antara lain, adalah:  a.  penetapan kebijakan nasional; b.  pembuatan peraturan perundang-undangan; c.  penetapan standar nasional, pedoman, dan kriteria; d.  penetapan sistem perizinan pertambangan mineral dan batubara nasional; e.  penetapan WP yang dilakukan setelah berkoordinasi dengan pemerintah daerah dan berkonsultasi dengan Dewan Perwakilan Rakyat Republik Indonesia; f.  pemberian IUP, pembinaan, penyelesaian konflik masyarakat, dan pengawasan usaha pertambangan yang berada pada lintas wilayah provinsi dan/atau wilayah laut lebih dari 12 (dua belas) mil dari garis pantai; g.  pemberian IUP, pembinaan, penyelesaian konflik masyarakat, dan pengawasan usaha pertambangan yang lokasi penambangannya berada pada lintas wilayah provinsi dan/atau wilayah laut lebih dari 12 (dua belas) mil dari garis pantai; h.  pemberian IUP, pembinaan, penyelesaian konflik masyarakat, dan pengawasan usaha pertambangan operasi produksi yang berdampak lingkungan langsung lintas provinsi dan/atau dalam wilayah laut lebih dari 12 (dua belas) mil dari garis pantai; i.  pemberian IUPK Eksplorasi dan IUPK Operasi Produksi; j.  pengevaluasian  IUP  Operasi Produksi, yang dikeluarkan oleh pemerintah daerah, yang telah menimbulkan kerusakan lingkungan serta yang tidak menerapkan kaidah pertambangan yang baik;    - 9 - c. pemberian .', '.', '.', 'k.  penetapan kebijakan produksi, pemasaran, pemanfaatan, dan konservasi; l.  penetapan kebijakan kerja sama, kemitraan,  dan pemberdayaan masyarakat;  m.  perumusan dan penetapan penerimaan negara bukan pajak dari hasil usaha pertambangan mineral dan batubara; n.  pembinaan dan pengawasan penyelenggaraan pengelolaan pertambangan mineral dan batubara yang dilaksanakan oleh pemerintah daerah; o.  pembinaan dan pengawasan penyusunan peraturan daerah di bidang pertambangan; p.  penginventarisasian, penyelidikan, dan penelitian serta eksplorasi dalam rangka memperoleh data dan informasi mineral dan batubara sebagai bahan penyusunan WUP dan WPN; q.  pengelolaan informasi geologi, informasi potensi sumber daya mineral dan batubara, serta informasi pertambangan pada tingkat nasional; r.  pembinaan dan pengawasan terhadap reklamasi lahan pascatambang; s.  penyusunan neraca sumber daya mineral dan  batubara tingkat nasional; t.  pengembangan dan peningkatan nilai tambah kegiatan usaha pertambangan; dan u.  peningkatan kemampuan aparatur Pemerintah, pemerintah provinsi, dan pemerintah kabupaten/kota dalam penyelenggaraan pengelolaan usaha pertambangan.', '(2)  Kewenangan Pemerintah sebagaimana dimaksud pada ayat (1) dilaksanakan sesuai dengan ketentuan peraturan perundang-undangan.', 'Pasal   7  (1)  Kewenangan pemerintah provinsi dalam pengelolaan pertambangan mineral dan batubara, antara lain, adalah: a.  pembuatan peraturan perundang-undangan daerah; b.  pemberian IUP, pembinaan, penyelesaian konflik masyarakat dan pengawasan usaha pertambangan pada lintas wilayah kabupaten/kota dan/atau wilayah laut 4 (empat) mil sampai dengan 12 (dua belas) mil;    - 10  - Pasal 8 .', '.', '.', 'c.  pemberian IUP, pembinaan, penyelesaian konflik masyarakat   dan pengawasan usaha pertambangan operasi produksi   yang kegiatannya berada pada lintas wilayah kabupaten/kota dan/atau wilayah   laut 4 (empat) mil sampai dengan 12 (dua belas) mil; d.  pemberian IUP, pembinaan, penyelesaian konflik masyarakat dan pengawasan usaha pertambangan yang berdampak lingkungan langsung lintas kabupaten/kota dan/atau wilayah laut 4 (empat) mil sampai dengan 12 (dua belas) mil; e.  penginventarisasian,  penyelidikan dan penelitian serta eksplorasi dalam rangka memperoleh data dan informasi mineral dan batubara sesuai dengan kewenangannya; f.  pengelolaan informasi geologi, informasi potensi sumber daya mineral dan batubara, serta informasi pertambangan pada daerah/wilayah provinsi; g.  penyusunan neraca sumber daya mineral dan batubara pada daerah/wilayah provinsi; h.  pengembangan dan peningkatan nilai tambah kegiatan usaha pertambangan di provinsi; i.  pengembangan dan peningkatan peran serta masyarakat dalam usaha pertambangan dengan memperhatikan kelestarian lingkungan; j.  pengoordinasian perizinan dan pengawasan penggunaan bahan peledak di wilayah tambang sesuai dengan kewenangannya; k.  penyampaian informasi hasil inventarisasi, penyelidikan umum, dan penelitian serta eksplorasi kepada Menteri dan bupati/walikota; l.  penyampaian informasi hasil produksi, penjualan dalam negeri, serta ekspor kepada Menteri dan bupati/walikota; m.  pembinaan dan pengawasan terhadap reklamasi lahan pascatambang;  dan n.  peningkatan kemampuan aparatur pemerintah provinsi dan pemerintah kabupaten/kota dalam penyelenggaraan pengelolaan usaha pertambangan.', '(2)  Kewenangan pemerintah provinsi sebagaimana dimaksud pada ayat (1) dilaksanakan sesuai dengan ketentuan peraturan perundang-undangan.', '- 11  - BAB V .', '.', '.', 'Pasal 8   (1)  Kewenangan pemerintah kabupaten/kota dalam pengelolaan pertambangan mineral dan batubara, antara lain, adalah: a.  pembuatan peraturan perundang-undangan daerah; b.  pemberian IUP dan IPR, pembinaan, penyelesaian konflik masyarakat, dan pengawasan usaha pertambangan di wilayah kabupaten/kota dan/atau wilayah laut sampai dengan 4 (empat) mil; c.  pemberian IUP dan IPR, pembinaan, penyelesaian konflik masyarakat   dan pengawasan usaha pertambangan operasi produksi yang kegiatannya berada di wilayah kabupaten/kota dan/atau wilayah laut sampai dengan 4 (empat) mil; d.  penginventarisasian, penyelidikan dan penelitian, serta eksplorasi dalam rangka memperoleh data dan informasi mineral dan batubara; e.  pengelolaan informasi geologi, informasi potensi mineral dan batubara, serta informasi pertambangan pada wilayah kabupaten/kota; f.  penyusunan neraca sumber daya mineral dan batubara pada wilayah kabupaten/kota; g.  pengembangan dan pemberdayaan masyarakat setempat dalam usaha pertambangan dengan memperhatikan kelestarian lingkungan; h.  pengembangan dan peningkatan nilai tambah dan manfaat kegiatan usaha pertambangan secara optimal; i.  penyampaian informasi hasil inventarisasi, penyelidikan umum, dan penelitian, serta eksplorasi dan eksploitasi kepada Menteri dan gubernur; j.  penyampaian informasi hasil produksi, penjualan dalam negeri, serta ekspor kepada Menteri dan gubernur; k.  pembinaan  dan  pengawasan terhadap reklamasi lahan pascatambang; dan l.  peningkatan kemampuan aparatur pemerintah kabupaten/kota dalam penyelenggaraan pengelolaan usaha pertambangan.', '(2)  Kewenangan pemerintah kabupaten/kota sebagaimana dimaksud pada ayat (1) dilaksanakan sesuai dengan ketentuan peraturan perundang-undangan.', '- 12  - Bagian Kedua .', '.', '.', 'BAB V WILAYAH  PERTAMBANGAN  Bagian Kesatu Umum  Pasal 9  (1)  WP sebagai bagian dari tata ruang nasional merupakan landasan bagi penetapan kegiatan pertambangan.', '(2)  WP sebagaimana dimaksud pada ayat (1) ditetapkan oleh Pemerintah setelah berkoordinasi dengan pemerintah daerah dan berkonsultasi dengan Dewan Perwakilan Rakyat Republik Indonesia.', 'Pasal  10   Penetapan WP sebagaimana dimaksud dalam Pasal 9 ayat (2) dilaksanakan:  a.  secara transparan, partisipatif, dan bertanggung jawab; b.  secara terpadu dengan memperhatikan pendapat dari  instansi pemerintah terkait, masyarakat, dan dengan mempertimbangkan aspek ekologi, ekonomi, dan sosial budaya, serta berwawasan lingkungan; dan c.  dengan memperhatikan aspirasi daerah.', 'Pasal 11  Pemerintah dan pemerintah daerah wajib melakukan penyelidikan dan penelitian pertambangan dalam rangka penyiapan WP.', 'Pasal 12  Ketentuan lebih lanjut mengenai batas, luas, dan mekanisme penetapan WP sebagaimana dimaksud dalam Pasal 9, Pasal 10, dan Pasal 11 diatur dengan peraturan pemerintah.', 'Pasal  13  WP terdiri atas: a.  WUP; b.  WPR; dan c.  WPN.', '- 13  - Pasal 19 .', '.', '.', 'Bagian  Kedua Wilayah Usaha Pertambangan  Pasal  14  (1)  Penetapan WUP dilakukan oleh Pemerintah setelah berkoordinasi dengan pemerintah daerah dan disampaikan secara tertulis kepada Dewan Perwakilan Rakyat Republik Indonesia.', '(2)  Koordinasi sebagaimana dimaksud pada ayat (1) dilakukan dengan pemerintah daerah yang bersangkutan  berdasarkan data dan informasi yang dimiliki Pemerintah dan pemerintah daerah.', 'Pasal 15  Pemerintah dapat melimpahkan sebagian kewenangannya dalam penetapan WUP sebagaimana dimaksud dalam Pasal 14  ayat (1) kepada pemerintah provinsi sesuai dengan ketentu an peraturan perundang-undangan.', 'Pasal 16  Satu WUP terdiri atas 1 (satu) atau beberapa WIUP yang berada pada lintas wilayah provinsi, lintas wilayah kabupaten/kota, dan/atau dalam 1 (satu) wilayah kabupaten/kota.', 'Pasal   17  Luas dan batas WIUP mineral logam dan batubara ditetapk an oleh Pemerintah berkoordinasi dengan pemerintah daerah berdasarkan kriteria yang dimiliki oleh Pemerintah.', 'Pasal  18  Kriteria untuk menetapkan 1 (satu) atau beberapa WIUP dalam 1 (satu)  WUP adalah sebagai berikut: a.  letak geografis;  b.  kaidah konservasi; c.  daya dukung lindungan lingkungan; d.  optimalisasi sumber daya mineral dan/atau batubara; dan e.  tingkat kepadatan penduduk.', '- 14  - Pasal 24 .', '.', '.', 'Pasal  19  Ketentuan lebih lanjut mengenai tata cara penetapan bat as dan luas WIUP sebagaimana dimaksud dalam Pasal 17 diatur dengan peraturan pemerintah.', 'Bagian Ketiga Wilayah Pertambangan Rakyat  Pasal 20  Kegiatan pertambangan rakyat dilaksanakan dalam suatu WPR.', 'Pasal 21  WPR sebagaimana dimaksud dalam Pasal 20 ditetapkan oleh bupati/walikota setelah berkonsultasi dengan Dewan Perwakilan Rakyat Daerah kabupaten/kota.', 'Pasal   22  Kriteria untuk menetapkan WPR adalah sebagai berikut:  a.  mempunyai cadangan mineral sekunder yang terdapat di sungai dan/atau di antara tepi dan tepi sungai; b.  mempunyai cadangan primer logam atau batubara dengan kedalaman maksimal 25 (dua puluh lima) meter; c.  endapan teras, dataran banjir, dan endapan sungai purba; d.  luas maksimal wilayah pertambangan rakyat adalah 25 (dua puluh lima) hektare; e.  menyebutkan jenis komoditas yang akan ditambang; dan/atau f.       merupakan wilayah atau tempat  kegiatan tambang rakyat yang sudah dikerjakan sekurang-kurangnya 15 (lima belas) tahun.', 'Pasal   23  Dalam menetapkan WPR sebagaimana dimaksud dalam Pasal 21, bupati/walikota berkewajiban melakukan pengumuman mengenai rencana WPR kepada masyarakat secara terbuka.', '- 15  - Pasal 28 .', '.', '.', 'Pasal 24  Wilayah atau tempat kegiatan tambang rakyat yang sudah  dikerjakan tetapi belum ditetapkan sebagai WPR diprioritaskan untuk ditetapkan sebagai WPR.', 'Pasal   25  Ketentuan lebih lanjut mengenai pedoman, prosedur, dan penetapan WPR sebagaimana dimaksud dalam Pasal 21 dan Pasal 23 diatur dengan  peraturan pemerintah.', 'Pasal   26  Ketentuan lebih lanjut mengenai kriteria dan mekanisme penetapan WPR, sebagaimana dimaksud dalam Pasal 22 dan Pasal 23 diatur dengan peraturan daerah kabupaten/kota.', 'Bagian Keempat Wilayah Pencadangan Negara   Pasal  27  (1)  Untuk kepentingan strategis nasional, Pemerintah dengan persetujuan Dewan Perwakilan Rakyat Republik Indonesia dan dengan memperhatikan aspirasi daerah menetapkan WPN sebagai daerah yang dicadangkan untuk komoditas tertentu dan daerah konservasi dalam rangka menjaga keseimbangan ekosistem dan lingkungan.', '(2)  WPN yang ditetapkan untuk komoditas tertentu sebagaimana dimaksud pada ayat (1) dapat diusahakan sebagian luas wilayahnya dengan persetujuan Dewan Perwakilan Rakyat Republik Indonesia.', '(3)  WPN yang ditetapkan untuk konservasi sebagaimana dimaksud pada ayat (1) ditentukan batasan waktu dengan persetujuan Dewan Perwakilan Rakyat Republik Indonesia.', '(4)  Wilayah yang akan diusahakan sebagaimana dimaksud pada ayat (2) dan ayat (3) berubah statusnya menjadi WUPK.', '- 16  - a. letak geografis .', '.', '.', 'Pasal  28  Perubahan status WPN sebagaimana dimaksud dalam Pasal 27 ayat (2), ayat (3), dan ayat (4) menjadi WUPK dapat dilakukan dengan mempertimbangkan:  a.  pemenuhan bahan baku industri dan energi dalam negeri;  b.  sumber devisa negara; c.  kondisi wilayah didasarkan pada keterbatasan sarana dan prasarana;  d.  berpotensi untuk dikembangkan sebagai pusat pertumbuhan ekonomi;  e.  daya dukung lingkungan; dan/atau f.       penggunaan teknologi tinggi dan modal investasi yang besar.', 'Pasal  29  (1)  WUPK sebagaimana dimaksud dalam Pasal 27 ayat (4) yang akan diusahakan ditetapkan oleh Pemerintah setelah berkoordinasi dengan pemerintah daerah.', '(2)  Pelaksanaan kegiatan usaha pertambangan di WUPK sebagaimana dimaksud pada ayat (1) dilakukan dalam bentuk IUPK.', 'Pasal 30  Satu WUPK terdiri atas 1 (satu) atau beberapa WIUPK yan g berada pada lintas wilayah provinsi, lintas wilayah kabupaten/kota, dan/atau dalam 1 (satu) wilayah kabupaten/kota.', 'Pasal   31  Luas dan batas WIUPK mineral logam dan batubara ditetapkan oleh Pemerintah berkoordinasi dengan pemerint ah daerah berdasarkan kriteria dan informasi yang dimiliki oleh Pemerintah.', 'Pasal  32  Kriteria untuk menetapkan 1 (satu) atau beberapa WIUPK dalam 1 (satu)  WUPK adalah sebagai berikut:    - 17  - BAB VII .', '.', '.', 'a.  letak geografis;   b.  kaidah konservasi; c.  daya dukung lindungan lingkungan; d.  optimalisasi sumber daya mineral dan/atau batubara; dan e.  tingkat kepadatan penduduk.', 'Pasal  33  Ketentuan lebih lanjut mengenai tata cara penetapan luas  dan batas WIUPK sebagaimana dimaksud dalam Pasal 31 dan Pasal 32 diatur dengan peraturan pemerintah.', 'BAB VI USAHA PERTAMBANGAN  Pasal 34  (1)  Usaha pertambangan dikelompokkan atas: a.  pertambangan mineral; dan b.  pertambangan batubara.', '(2)  Pertambangan mineral sebagaimana dimaksud pada ayat (1) huruf a digolongkan atas: a.  pertambangan mineral radioaktif; b.  pertambangan mineral logam; c.  pertambangan mineral bukan logam; dan d.  pertambangan batuan.', '(3)  Ketentuan lebih lanjut mengenai penetapan suatu komoditas tambang ke dalam suatu golongan pertambangan mineral sebagaimana dimaksud pada ayat (2) diatur dengan peraturan pemerintah.', 'Pasal  35  Usaha pertambangan sebagaimana dimaksud dalam Pasal 34 dilaksanakan dalam bentuk: a.  IUP; b.  IPR; dan c.  IUPK.', '- 18  - Pasal 39 .', '.', '.', 'BAB VII IZIN USAHA PERTAMBANGAN  Bagian Kesatu Umum  Pasal   36  (1)  IUP terdiri atas dua tahap: a.  IUP Eksplorasi meliputi kegiatan penyelidikan umum, eksplorasi,  dan studi kelayakan; b.  IUP Operasi Produksi meliputi  kegiatan konstruksi, penambangan, pengolahan dan pemurnian, serta pengangkutan dan penjualan.', '(2)  Pemegang IUP Eksplorasi dan pemegang IUP Operasi Produksi dapat melakukan sebagian atau seluruh kegiatan sebagaimana dimaksud pada ayat (1).', 'Pasal 37  IUP diberikan oleh:   a.  bupati/walikota apabila WIUP berada di dalam satu wilayah kabupaten/kota; b.  gubernur apabila WIUP berada pada lintas wilayah kabupaten/kota dalam 1 (satu) provinsi setelah mendapatkan rekomendasi dari bupati/walikota setempat sesuai dengan ketentuan peraturan perundang-undangan; dan c.  Menteri apabila WIUP berada pada lintas wilayah provinsi setelah mendapatkan rekomendasi dari gubernur dan bupati/walikota setempat sesuai dengan ketentuan peraturan perundang-undangan.', 'Pasal  38  IUP diberikan kepada: a.  badan usaha; b.  koperasi; dan c.  perseorangan.', '- 19  - o. perpajakan .', '.', '.', 'Pasal 39  (1)  IUP Eksplorasi  sebagaimana dimaksud dalam Pasal 36 ayat (1) huruf a wajib memuat ketentuan sekurang-kurangnya:  a.  nama perusahaan;  b.  lokasi dan luas wilayah; c.  rencana umum tata ruang; d.  jaminan kesungguhan; e.  modal investasi; f.  perpanjangan waktu tahap kegiatan; g.  hak dan kewajiban pemegang IUP;  h.  jangka waktu berlakunya tahap  kegiatan; i.  jenis usaha yang diberikan; j.  rencana pengembangan dan pemberdayaan masyarakat di sekitar wilayah pertambangan; k.  perpajakan; l.  penyelesaian perselisihan;  m.  iuran tetap dan iuran eksplorasi; dan n.  amdal.', '(2)  IUP Operasi Produksi  sebagaimana dimaksud dalam Pasal 36 ayat (1) huruf b wajib memuat ketentuan sekurang-kurangnya:  a.  nama perusahaan; b.  luas wilayah; c.  lokasi penambangan; d.  lokasi pengolahan dan pemurnian; e.  pengangkutan dan penjualan; f.  modal investasi; g.  jangka waktu berlakunya IUP; h.  jangka waktu tahap kegiatan; i.  penyelesaian masalah pertanahan; j.  lingkungan hidup termasuk reklamasi dan pascatambang; k.  dana jaminan reklamasi dan pascatambang; l.  perpanjangan IUP; m.  hak dan kewajiban pemegang IUP; n.  rencana pengembangan dan pemberdayaan masyarakat di sekitar wilayah pertambangan;    - 20  - Bagian Kedua .', '.', '.', 'o.  perpajakan;  p.  penerimaan negara bukan pajak yang terdiri atas iuran tetap dan iuran produksi; q.  penyelesaian perselisihan; r.  keselamatan dan kesehatan kerja; s.  konservasi mineral atau batubara; t.  pemanfaatan barang, jasa, dan teknologi dalam negeri; u.  penerapan kaidah keekonomian dan keteknikan pertambangan yang baik;  v.  pengembangan tenaga kerja Indonesia; w.  pengelolaan data mineral atau batubara; dan x.  penguasaan, pengembangan, dan penerapan teknologi pertambangan mineral atau batubara.', 'Pasal  40  (1)  IUP sebagaimana dimaksud dalam Pasal  36 ayat (1) diberikan untuk 1 (satu) jenis mineral atau batubara.', '(2)  Pemegang IUP sebagaimana dimaksud pada ayat (1) yang menemukan mineral lain di dalam WIUP yang dikelola diberikan prioritas untuk mengusahakannya.', '(3)  Pemegang IUP yang bermaksud mengusahakan mineral lain sebagaimana dimaksud pada ayat (2), wajib mengajukan permohonan IUP baru kepada Menteri, gubernur, dan bupati/walikota sesuai dengan kewenangannya.', '(4)  Pemegang IUP sebagaimana dimaksud pada ayat (2) dapat menyatakan tidak berminat untuk mengusahakan mineral lain yang ditemukan tersebut.', '(5)  Pemegang IUP yang tidak berminat untuk mengusahakan mineral lain yang ditemukan sebagaimana dimaksud pada ayat (4), wajib menjaga mineral lain tersebut agar tidak dimanfaatkan pihak lain.', '(6)  IUP untuk mineral lain sebagaimana dimaksud pada ayat (4) dan ayat (5) dapat diberikan kepada pihak lain oleh Menteri, gubernur, dan bupati/walikota sesuai dengan kewenangannya.', 'Pasal  41  IUP tidak dapat digunakan selain yang dimaksud dalam pemberian IUP.']\n"
     ]
    }
   ],
   "source": [
    "import nltk\n",
    "nltk.download('punkt')  # Download the required tokenizer data\n",
    "from nltk.tokenize import sent_tokenize\n",
    "sentences = sent_tokenize(text)\n",
    "print(sentences)"
   ]
  },
  {
   "cell_type": "code",
   "execution_count": 19,
   "metadata": {},
   "outputs": [],
   "source": [
    "removal_index = []\n",
    "for i, sentence in enumerate(sentences):\n",
    "    if len(sentence)<30:\n",
    "        removal_index.append(i)"
   ]
  },
  {
   "cell_type": "code",
   "execution_count": 20,
   "metadata": {},
   "outputs": [],
   "source": [
    "removal_index = sorted(removal_index, reverse=True)"
   ]
  },
  {
   "cell_type": "code",
   "execution_count": 21,
   "metadata": {},
   "outputs": [
    {
     "data": {
      "text/plain": [
       "['UNDANG-UNDANG REPUBLIK INDONESIA  NOMOR  4 TAHUN 2009      TENTANG  PERTAMBANGAN MINERAL DAN BATUBARA   DENGAN RAHMAT TUHAN YANG MAHA ESA     PRESIDEN REPUBLIK INDONESIA,   Menimbang :  a. bahwa  mineral  dan  batubara  yang  te rkandung dalam  wilayah hukum pertambangan Indonesia merupakan kekayaan alam tak terbarukan sebagai karunia Tuhan Yang Maha Esa yang mempunyai peranan penting dalam memenuhi hajat hidup orang banyak, karena itu pengelolaannya harus dikuasai oleh Negara untuk memberi nilai tambah secara nyata bagi perekonomian nasional dalam usaha mencapai kemakmuran dan kesejahteraan rakyat secara berkeadilan; b.  bahwa kegiatan usaha   pertambangan mineral dan batubara yang merupakan kegiatan usaha pertambangan di luar panas bumi, minyak dan gas bumi serta air tanah mempunyai peranan penting dalam memberikan nilai tambah secara nyata kepada pertumbuhan ekonomi nasional dan pembangunan daerah secara berkelanjutan; c.  bahwa dengan mempertimbangkan perkembangan nasional maupun internasional, Undang-Undang Nomor 11 Tahun 1967 tentang Ketentuan-Ketentuan Pokok Pertambangan  sudah tidak sesuai lagi sehingga dibutuhkan perubahan peraturan perundang-undangan di bidang pertambangan mineral dan batubara yang dapat mengelola dan mengusahakan potensi mineral dan batubara secara mandiri, andal, transparan, berdaya saing, efisien, dan berwawasan lingkungan, guna menjamin pembangunan nasional secara berkelanjutan;         - 2 - 4.',\n",
       " 'd.  bahwa berdasarkan pertimbangan sebagaimana dimaksud dalam huruf a, huruf b, dan huruf c, perlu membentuk Undang-Undang tentang Pertambangan Mineral dan Batubara;  Mengingat : Pasal 5 ayat (1), Pasal  20 dan Pasal 33 ayat (2) dan ayat (3) Undang-Undang Dasar Negara Republik Indonesia Tahun 1945;   Dengan Persetujuan Bersama  DEWAN PERWAKILAN RAKYAT REPUBLIK INDONESIA dan PRESIDEN REPUBLIK INDONESIA,  MEMUTUSKAN:  Menetapkan : UNDANG-UNDANG TENTANG PERTAMBANGAN MINER AL DAN BATUBARA.',\n",
       " 'BAB I KETENTUAN UMUM  Pasal  1  Dalam Undang-Undang ini yang dimaksud dengan:  1.',\n",
       " 'Pertambangan adalah sebagian atau seluruh tahapan kegiatan dalam rangka penelitian, pengelolaan dan pengusahaan mineral atau batubara yang meliputi penyelidikan umum, eksplorasi, studi kelayakan, konstruksi, penambangan, pengolahan dan pemurnian, pengangkutan dan penjualan, serta kegiatan pascatambang.',\n",
       " 'Mineral adalah senyawa anorganik yang terbentuk di alam, yang memiliki sifat fisik dan kimia tertentu serta susunan kristal teratur atau gabungannya yang membentuk batuan, baik dalam bentuk lepas atau padu.',\n",
       " 'Batubara adalah endapan senyawa organik karbonan yang terbentuk secara alamiah dari sisa tumbuh-tumbuhan.',\n",
       " 'Pertambangan Mineral adalah pertambangan kumpulan mineral yang berupa bijih atau batuan, di luar panas bumi, minyak dan gas bumi, serta air tanah.',\n",
       " 'Pertambangan Batubara adalah  pertambangan endapan karbon yang terdapat di dalam bumi, termasuk bitumen padat, gambut, dan batuan  aspal.',\n",
       " 'Usaha Pertambangan adalah kegiatan dalam rangka pengusahaan mineral atau batubara yang meliputi tahapan kegiatan penyelidikan umum, eksplorasi, studi kelayakan, konstruksi, penambangan, pengolahan dan pemurnian, pengangkutan dan penjualan, serta pascatambang.',\n",
       " 'Izin Usaha Pertambangan, yang selanjutnya disebut IUP, adalah izin untuk melaksanakan usaha pertambangan.',\n",
       " 'IUP Eksplorasi adalah izin usaha yang diberikan untuk melakukan tahapan kegiatan penyelidikan umum,  eksplorasi, dan studi kelayakan.',\n",
       " 'IUP Operasi Produksi adalah izin usaha yang diberikan setelah selesai pelaksanaan IUP Eksplorasi untuk melakukan tahapan kegiatan operasi produksi.',\n",
       " 'Izin Pertambangan Rakyat, yang selanjutnya disebut IPR,   adalah izin untuk melaksanakan usaha pertambangan dalam wilayah pertambangan rakyat dengan luas wilayah dan investasi terbatas.',\n",
       " 'Izin Usaha Pertambangan Khusus, yang selanjutnya disebut dengan IUPK, adalah izin untuk melaksanakan usaha pertambangan di wilayah izin usaha pertambangan khusus.',\n",
       " 'IUPK Eksplorasi adalah izin usaha yang diberikan untuk melakukan tahapan kegiatan penyelidikan umum, eksplorasi, dan studi kelayakan di wilayah izin usaha pertambangan khusus.',\n",
       " 'IUPK Operasi Produksi adalah izin usaha yang diberikan setelah selesai pelaksanaan IUPK Eksplorasi untuk melakukan tahapan kegiatan operasi produksi di wilayah izin usaha pertambangan khusus.',\n",
       " 'Penyelidikan Umum adalah tahapan kegiatan pertambangan untuk  mengetahui kondisi geologi regional dan indikasi adanya mineralisasi.',\n",
       " 'Eksplorasi adalah tahapan kegiatan usaha pertambangan untuk memperoleh informasi secara terperinci dan teliti tentang lokasi, bentuk, dimensi, sebaran, kualitas dan sumber daya terukur dari bahan galian, serta informasi mengenai lingkungan sosial dan lingkungan hidup.',\n",
       " 'Studi Kelayakan adalah tahapan kegiatan usaha pertambangan  untuk memperoleh informasi secara rinci seluruh aspek yang berkaitan untuk menentukan kelayakan ekonomis dan teknis usaha pertambangan, termasuk analisis mengenai dampak lingkungan  serta perencanaan pascatambang.',\n",
       " 'Operasi Produksi adalah tahapan kegiatan usaha pertambangan yang meliputi konstruksi, penambangan, pengolahan, pemurnian, termasuk pengangkutan dan penjualan, serta sarana pengendalian dampak lingkungan sesuai dengan hasil studi kelayakan.',\n",
       " 'Konstruksi adalah kegiatan usaha pertambangan untuk melakukan  pembangunan seluruh fasilitas operasi produksi, termasuk pengendalian dampak lingkungan.',\n",
       " 'Penambangan adalah bagian kegiatan usaha pertambangan  untuk memproduksi mineral dan/atau batubara dan mineral ikutannya.',\n",
       " 'Pengolahan dan Pemurnian adalah kegiatan usaha pertambangan untuk meningkatkan mutu mineral dan/atau batubara  serta untuk memanfaatkan dan memperoleh mineral ikutan.',\n",
       " 'Pengangkutan adalah kegiatan usaha pertambangan untuk memindahkan mineral dan/atau batubara dari daerah tambang dan/atau tempat pengolahan dan pemurnian sampai tempat penyerahan.',\n",
       " 'Penjualan adalah kegiatan usaha pertambangan untuk menjual hasil pertambangan mineral atau batubara.',\n",
       " 'Badan Usaha adalah setiap badan hukum yang bergerak di bidang pertambangan yang didirikan berdasarkan hukum Indonesia dan berkedudukan dalam wilayah Negara Kesatuan Republik Indonesia.',\n",
       " 'Jasa Pertambangan adalah jasa penunjang  yang berkaitan dengan kegiatan usaha pertambangan.',\n",
       " 'Analisis Mengenai Dampak Lingkungan, yang selanjutnya disebut amdal, adalah kajian mengenai dampak besar dan penting suatu usaha dan/atau kegiatan yang direncanakan pada lingkungan hidup yang diperlukan bagi proses pengambilan keputusan tentang penyelenggaraan usaha dan/atau kegiatan.',\n",
       " 'Reklamasi adalah kegiatan yang dilakukan sepanjang tahapan usaha pertambangan untuk menata, memulihkan, dan memperbaiki kualitas lingkungan dan ekosistem agar dapat berfungsi kembali sesuai peruntukannya.',\n",
       " 'Kegiatan pascatambang, yang selanjutnya disebut pascatambang, adalah kegiatan terencana, sistematis, dan berlanjut setelah akhir  sebagian atau seluruh kegiatan usaha pertambangan untuk memulihkan fungsi lingkungan alam dan fungsi sosial menurut kondisi lokal di seluruh wilayah penambangan.',\n",
       " 'Pemberdayaan Masyarakat adalah usaha untuk meningkatkan kemampuan masyarakat, baik secara individual maupun kolektif, agar menjadi lebih baik tingkat kehidupannya.',\n",
       " 'Wilayah Pertambangan, yang selanjutnya disebut WP, adalah wilayah yang memiliki potensi mineral dan/atau batubara dan tidak terikat dengan batasan administrasi pemerintahan yang merupakan bagian dari tata ruang nasional.',\n",
       " 'Wilayah Usaha Pertambangan, yang selanjutnya disebut WUP, adalah bagian dari WP yang telah memiliki ketersediaan data, potensi, dan/atau informasi geologi.',\n",
       " 'Wilayah Izin Usaha Pertambangan, yang selanjutnya disebut WIUP, adalah wilayah yang diberikan kepada pemegang IUP.',\n",
       " 'Wilayah Pertambangan Rakyat, yang selanjutnya disebut WPR, adalah bagian dari WP tempat dilakukan kegiatan usaha pertambangan rakyat.',\n",
       " 'Wilayah Pencadangan Negara, yang selanjutnya disebut WPN, adalah bagian dari WP yang dicadangkan untuk kepentingan strategis nasional.',\n",
       " 'Wilayah Usaha Pertambangan Khusus yang selanjutnya disebut WUPK, adalah bagian dari WPN yang dapat  diusahakan.',\n",
       " 'Wilayah Izin Usaha Pertambangan Khusus dalam WUPK, yang selanjutnya disebut WIUPK, adalah wilayah yang diberikan kepada pemegang IUPK.',\n",
       " 'Pemerintah Pusat, yang selanjutnya disebut Pemerintah, adalah Presiden Republik Indonesia yang memegang kekuasaan Pemerintahan Negara Republik Indonesia sebagaimana dimaksud dalam Undang-Undang Dasar Negara Republik Indonesia Tahun 1945.',\n",
       " 'Pemerintah daerah adalah gubernur, bupati atau walikota, dan perangkat daerah sebagai unsur penyelenggaraan pemerintahan daerah.',\n",
       " 'Menteri adalah menteri yang menyelenggarakan urusan pemerintahan di bidang pertambangan mineral dan batubara.',\n",
       " 'BAB II ASAS DAN TUJUAN   Pasal 2  Pertambangan mineral dan/atau batubara dikelola berasaskan:  a.  manfaat, keadilan,  dan keseimbangan; b.  keberpihakan kepada kepentingan bangsa; c.  partisipatif, transparansi, dan akuntabilitas; d.  berkelanjutan dan berwawasan lingkungan.',\n",
       " 'Pasal 3  Dalam rangka mendukung pembangunan nasional yang berkesinambungan, tujuan pengelolaan mineral dan batubara  adalah:  a.  menjamin efektivitas pelaksanaan dan pengendalian kegiatan usaha pertambangan secara berdaya guna, berhasil guna, dan berdaya saing; b.  menjamin manfaat pertambangan mineral dan batubara secara berkelanjutan dan berwawasan lingkungan hidup;    - 7 - (5) Ketentuan .',\n",
       " 'c.  menjamin tersedianya mineral dan batubara sebagai bahan baku dan/atau sebagai sumber energi untuk kebutuhan dalam negeri; d.  mendukung dan menumbuhkembangkan kemampuan nasional agar lebih mampu bersaing di tingkat nasional, regional, dan internasional; e.  meningkatkan pendapatan masyarakat lokal, daerah, dan negara, serta menciptakan lapangan kerja untuk sebesar -besar kesejahteraan rakyat; dan f.  menjamin kepastian hukum dalam penyelenggaraan kegiatan usaha pertambangan mineral dan batubara.',\n",
       " 'BAB III PENGUASAAN MINERAL DAN BATUBARA  Pasal  4  (1)  Mineral dan batubara sebagai sumber daya alam yang tak terbarukan merupakan kekayaan nasional yang dikuasai oleh negara untuk sebesar-besar kesejahteraan rakyat.',\n",
       " '(2)  Penguasaan mineral dan batubara oleh negara sebagaimana dimaksud pada ayat (1) diselenggarakan oleh Pemerintah dan/atau pemerintah daerah.',\n",
       " 'Pasal 5  (1)  Untuk kepentingan nasional, Pemerintah setelah berkonsultasi dengan Dewan Perwakilan Rakyat Republik Indonesia dapat menetapkan kebijakan pengutamaan mineral dan/atau batubara untuk kepentingan dalam negeri.',\n",
       " '(2)  Kepentingan nasional sebagaimana dimaksud pada ayat (1) dapat dilakukan dengan pengendalian produksi dan ekspor.',\n",
       " '(3)  Dalam melaksanakan pengendalian sebagaimana dimaksud   pada ayat (2), Pemerintah mempunyai kewenangan untuk menetapkan jumlah produksi tiap-tiap komoditas per tahun setiap provinsi.',\n",
       " '(4)  Pemerintah daerah wajib mematuhi ketentuan jumlah yang ditetapkan oleh Pemerintah sebagaimana dimaksud pada ayat (3).',\n",
       " '(5)  Ketentuan lebih lanjut mengenai pengutamaan mineral dan/atau batubara untuk kepentingan dalam negeri sebagaimana dimaksud pada ayat (1) dan pengendalian produksi  dan ekspor sebagaimana dimaksud pada ayat (2) dan ayat (3) diatur dengan peraturan pemerintah.',\n",
       " 'BAB IV KEWENANGAN PENGELOLAAN  PERTAMBANGAN MINERAL DAN BATUBARA   Pasal  6  (1)  Kewenangan Pemerintah dalam pengelolaan pertambangan mineral dan batubara, antara lain, adalah:  a.  penetapan kebijakan nasional; b.  pembuatan peraturan perundang-undangan; c.  penetapan standar nasional, pedoman, dan kriteria; d.  penetapan sistem perizinan pertambangan mineral dan batubara nasional; e.  penetapan WP yang dilakukan setelah berkoordinasi dengan pemerintah daerah dan berkonsultasi dengan Dewan Perwakilan Rakyat Republik Indonesia; f.  pemberian IUP, pembinaan, penyelesaian konflik masyarakat, dan pengawasan usaha pertambangan yang berada pada lintas wilayah provinsi dan/atau wilayah laut lebih dari 12 (dua belas) mil dari garis pantai; g.  pemberian IUP, pembinaan, penyelesaian konflik masyarakat, dan pengawasan usaha pertambangan yang lokasi penambangannya berada pada lintas wilayah provinsi dan/atau wilayah laut lebih dari 12 (dua belas) mil dari garis pantai; h.  pemberian IUP, pembinaan, penyelesaian konflik masyarakat, dan pengawasan usaha pertambangan operasi produksi yang berdampak lingkungan langsung lintas provinsi dan/atau dalam wilayah laut lebih dari 12 (dua belas) mil dari garis pantai; i.  pemberian IUPK Eksplorasi dan IUPK Operasi Produksi; j.  pengevaluasian  IUP  Operasi Produksi, yang dikeluarkan oleh pemerintah daerah, yang telah menimbulkan kerusakan lingkungan serta yang tidak menerapkan kaidah pertambangan yang baik;    - 9 - c. pemberian .',\n",
       " 'k.  penetapan kebijakan produksi, pemasaran, pemanfaatan, dan konservasi; l.  penetapan kebijakan kerja sama, kemitraan,  dan pemberdayaan masyarakat;  m.  perumusan dan penetapan penerimaan negara bukan pajak dari hasil usaha pertambangan mineral dan batubara; n.  pembinaan dan pengawasan penyelenggaraan pengelolaan pertambangan mineral dan batubara yang dilaksanakan oleh pemerintah daerah; o.  pembinaan dan pengawasan penyusunan peraturan daerah di bidang pertambangan; p.  penginventarisasian, penyelidikan, dan penelitian serta eksplorasi dalam rangka memperoleh data dan informasi mineral dan batubara sebagai bahan penyusunan WUP dan WPN; q.  pengelolaan informasi geologi, informasi potensi sumber daya mineral dan batubara, serta informasi pertambangan pada tingkat nasional; r.  pembinaan dan pengawasan terhadap reklamasi lahan pascatambang; s.  penyusunan neraca sumber daya mineral dan  batubara tingkat nasional; t.  pengembangan dan peningkatan nilai tambah kegiatan usaha pertambangan; dan u.  peningkatan kemampuan aparatur Pemerintah, pemerintah provinsi, dan pemerintah kabupaten/kota dalam penyelenggaraan pengelolaan usaha pertambangan.',\n",
       " '(2)  Kewenangan Pemerintah sebagaimana dimaksud pada ayat (1) dilaksanakan sesuai dengan ketentuan peraturan perundang-undangan.',\n",
       " 'Pasal   7  (1)  Kewenangan pemerintah provinsi dalam pengelolaan pertambangan mineral dan batubara, antara lain, adalah: a.  pembuatan peraturan perundang-undangan daerah; b.  pemberian IUP, pembinaan, penyelesaian konflik masyarakat dan pengawasan usaha pertambangan pada lintas wilayah kabupaten/kota dan/atau wilayah laut 4 (empat) mil sampai dengan 12 (dua belas) mil;    - 10  - Pasal 8 .',\n",
       " 'c.  pemberian IUP, pembinaan, penyelesaian konflik masyarakat   dan pengawasan usaha pertambangan operasi produksi   yang kegiatannya berada pada lintas wilayah kabupaten/kota dan/atau wilayah   laut 4 (empat) mil sampai dengan 12 (dua belas) mil; d.  pemberian IUP, pembinaan, penyelesaian konflik masyarakat dan pengawasan usaha pertambangan yang berdampak lingkungan langsung lintas kabupaten/kota dan/atau wilayah laut 4 (empat) mil sampai dengan 12 (dua belas) mil; e.  penginventarisasian,  penyelidikan dan penelitian serta eksplorasi dalam rangka memperoleh data dan informasi mineral dan batubara sesuai dengan kewenangannya; f.  pengelolaan informasi geologi, informasi potensi sumber daya mineral dan batubara, serta informasi pertambangan pada daerah/wilayah provinsi; g.  penyusunan neraca sumber daya mineral dan batubara pada daerah/wilayah provinsi; h.  pengembangan dan peningkatan nilai tambah kegiatan usaha pertambangan di provinsi; i.  pengembangan dan peningkatan peran serta masyarakat dalam usaha pertambangan dengan memperhatikan kelestarian lingkungan; j.  pengoordinasian perizinan dan pengawasan penggunaan bahan peledak di wilayah tambang sesuai dengan kewenangannya; k.  penyampaian informasi hasil inventarisasi, penyelidikan umum, dan penelitian serta eksplorasi kepada Menteri dan bupati/walikota; l.  penyampaian informasi hasil produksi, penjualan dalam negeri, serta ekspor kepada Menteri dan bupati/walikota; m.  pembinaan dan pengawasan terhadap reklamasi lahan pascatambang;  dan n.  peningkatan kemampuan aparatur pemerintah provinsi dan pemerintah kabupaten/kota dalam penyelenggaraan pengelolaan usaha pertambangan.',\n",
       " '(2)  Kewenangan pemerintah provinsi sebagaimana dimaksud pada ayat (1) dilaksanakan sesuai dengan ketentuan peraturan perundang-undangan.',\n",
       " 'Pasal 8   (1)  Kewenangan pemerintah kabupaten/kota dalam pengelolaan pertambangan mineral dan batubara, antara lain, adalah: a.  pembuatan peraturan perundang-undangan daerah; b.  pemberian IUP dan IPR, pembinaan, penyelesaian konflik masyarakat, dan pengawasan usaha pertambangan di wilayah kabupaten/kota dan/atau wilayah laut sampai dengan 4 (empat) mil; c.  pemberian IUP dan IPR, pembinaan, penyelesaian konflik masyarakat   dan pengawasan usaha pertambangan operasi produksi yang kegiatannya berada di wilayah kabupaten/kota dan/atau wilayah laut sampai dengan 4 (empat) mil; d.  penginventarisasian, penyelidikan dan penelitian, serta eksplorasi dalam rangka memperoleh data dan informasi mineral dan batubara; e.  pengelolaan informasi geologi, informasi potensi mineral dan batubara, serta informasi pertambangan pada wilayah kabupaten/kota; f.  penyusunan neraca sumber daya mineral dan batubara pada wilayah kabupaten/kota; g.  pengembangan dan pemberdayaan masyarakat setempat dalam usaha pertambangan dengan memperhatikan kelestarian lingkungan; h.  pengembangan dan peningkatan nilai tambah dan manfaat kegiatan usaha pertambangan secara optimal; i.  penyampaian informasi hasil inventarisasi, penyelidikan umum, dan penelitian, serta eksplorasi dan eksploitasi kepada Menteri dan gubernur; j.  penyampaian informasi hasil produksi, penjualan dalam negeri, serta ekspor kepada Menteri dan gubernur; k.  pembinaan  dan  pengawasan terhadap reklamasi lahan pascatambang; dan l.  peningkatan kemampuan aparatur pemerintah kabupaten/kota dalam penyelenggaraan pengelolaan usaha pertambangan.',\n",
       " '(2)  Kewenangan pemerintah kabupaten/kota sebagaimana dimaksud pada ayat (1) dilaksanakan sesuai dengan ketentuan peraturan perundang-undangan.',\n",
       " 'BAB V WILAYAH  PERTAMBANGAN  Bagian Kesatu Umum  Pasal 9  (1)  WP sebagai bagian dari tata ruang nasional merupakan landasan bagi penetapan kegiatan pertambangan.',\n",
       " '(2)  WP sebagaimana dimaksud pada ayat (1) ditetapkan oleh Pemerintah setelah berkoordinasi dengan pemerintah daerah dan berkonsultasi dengan Dewan Perwakilan Rakyat Republik Indonesia.',\n",
       " 'Pasal  10   Penetapan WP sebagaimana dimaksud dalam Pasal 9 ayat (2) dilaksanakan:  a.  secara transparan, partisipatif, dan bertanggung jawab; b.  secara terpadu dengan memperhatikan pendapat dari  instansi pemerintah terkait, masyarakat, dan dengan mempertimbangkan aspek ekologi, ekonomi, dan sosial budaya, serta berwawasan lingkungan; dan c.  dengan memperhatikan aspirasi daerah.',\n",
       " 'Pasal 11  Pemerintah dan pemerintah daerah wajib melakukan penyelidikan dan penelitian pertambangan dalam rangka penyiapan WP.',\n",
       " 'Pasal 12  Ketentuan lebih lanjut mengenai batas, luas, dan mekanisme penetapan WP sebagaimana dimaksud dalam Pasal 9, Pasal 10, dan Pasal 11 diatur dengan peraturan pemerintah.',\n",
       " 'Pasal  13  WP terdiri atas: a.  WUP; b.  WPR; dan c.  WPN.',\n",
       " 'Bagian  Kedua Wilayah Usaha Pertambangan  Pasal  14  (1)  Penetapan WUP dilakukan oleh Pemerintah setelah berkoordinasi dengan pemerintah daerah dan disampaikan secara tertulis kepada Dewan Perwakilan Rakyat Republik Indonesia.',\n",
       " '(2)  Koordinasi sebagaimana dimaksud pada ayat (1) dilakukan dengan pemerintah daerah yang bersangkutan  berdasarkan data dan informasi yang dimiliki Pemerintah dan pemerintah daerah.',\n",
       " 'Pasal 15  Pemerintah dapat melimpahkan sebagian kewenangannya dalam penetapan WUP sebagaimana dimaksud dalam Pasal 14  ayat (1) kepada pemerintah provinsi sesuai dengan ketentu an peraturan perundang-undangan.',\n",
       " 'Pasal 16  Satu WUP terdiri atas 1 (satu) atau beberapa WIUP yang berada pada lintas wilayah provinsi, lintas wilayah kabupaten/kota, dan/atau dalam 1 (satu) wilayah kabupaten/kota.',\n",
       " 'Pasal   17  Luas dan batas WIUP mineral logam dan batubara ditetapk an oleh Pemerintah berkoordinasi dengan pemerintah daerah berdasarkan kriteria yang dimiliki oleh Pemerintah.',\n",
       " 'Pasal  18  Kriteria untuk menetapkan 1 (satu) atau beberapa WIUP dalam 1 (satu)  WUP adalah sebagai berikut: a.  letak geografis;  b.  kaidah konservasi; c.  daya dukung lindungan lingkungan; d.  optimalisasi sumber daya mineral dan/atau batubara; dan e.  tingkat kepadatan penduduk.',\n",
       " 'Pasal  19  Ketentuan lebih lanjut mengenai tata cara penetapan bat as dan luas WIUP sebagaimana dimaksud dalam Pasal 17 diatur dengan peraturan pemerintah.',\n",
       " 'Bagian Ketiga Wilayah Pertambangan Rakyat  Pasal 20  Kegiatan pertambangan rakyat dilaksanakan dalam suatu WPR.',\n",
       " 'Pasal 21  WPR sebagaimana dimaksud dalam Pasal 20 ditetapkan oleh bupati/walikota setelah berkonsultasi dengan Dewan Perwakilan Rakyat Daerah kabupaten/kota.',\n",
       " 'Pasal   22  Kriteria untuk menetapkan WPR adalah sebagai berikut:  a.  mempunyai cadangan mineral sekunder yang terdapat di sungai dan/atau di antara tepi dan tepi sungai; b.  mempunyai cadangan primer logam atau batubara dengan kedalaman maksimal 25 (dua puluh lima) meter; c.  endapan teras, dataran banjir, dan endapan sungai purba; d.  luas maksimal wilayah pertambangan rakyat adalah 25 (dua puluh lima) hektare; e.  menyebutkan jenis komoditas yang akan ditambang; dan/atau f.       merupakan wilayah atau tempat  kegiatan tambang rakyat yang sudah dikerjakan sekurang-kurangnya 15 (lima belas) tahun.',\n",
       " 'Pasal   23  Dalam menetapkan WPR sebagaimana dimaksud dalam Pasal 21, bupati/walikota berkewajiban melakukan pengumuman mengenai rencana WPR kepada masyarakat secara terbuka.',\n",
       " 'Pasal 24  Wilayah atau tempat kegiatan tambang rakyat yang sudah  dikerjakan tetapi belum ditetapkan sebagai WPR diprioritaskan untuk ditetapkan sebagai WPR.',\n",
       " 'Pasal   25  Ketentuan lebih lanjut mengenai pedoman, prosedur, dan penetapan WPR sebagaimana dimaksud dalam Pasal 21 dan Pasal 23 diatur dengan  peraturan pemerintah.',\n",
       " 'Pasal   26  Ketentuan lebih lanjut mengenai kriteria dan mekanisme penetapan WPR, sebagaimana dimaksud dalam Pasal 22 dan Pasal 23 diatur dengan peraturan daerah kabupaten/kota.',\n",
       " 'Bagian Keempat Wilayah Pencadangan Negara   Pasal  27  (1)  Untuk kepentingan strategis nasional, Pemerintah dengan persetujuan Dewan Perwakilan Rakyat Republik Indonesia dan dengan memperhatikan aspirasi daerah menetapkan WPN sebagai daerah yang dicadangkan untuk komoditas tertentu dan daerah konservasi dalam rangka menjaga keseimbangan ekosistem dan lingkungan.',\n",
       " '(2)  WPN yang ditetapkan untuk komoditas tertentu sebagaimana dimaksud pada ayat (1) dapat diusahakan sebagian luas wilayahnya dengan persetujuan Dewan Perwakilan Rakyat Republik Indonesia.',\n",
       " '(3)  WPN yang ditetapkan untuk konservasi sebagaimana dimaksud pada ayat (1) ditentukan batasan waktu dengan persetujuan Dewan Perwakilan Rakyat Republik Indonesia.',\n",
       " '(4)  Wilayah yang akan diusahakan sebagaimana dimaksud pada ayat (2) dan ayat (3) berubah statusnya menjadi WUPK.',\n",
       " 'Pasal  28  Perubahan status WPN sebagaimana dimaksud dalam Pasal 27 ayat (2), ayat (3), dan ayat (4) menjadi WUPK dapat dilakukan dengan mempertimbangkan:  a.  pemenuhan bahan baku industri dan energi dalam negeri;  b.  sumber devisa negara; c.  kondisi wilayah didasarkan pada keterbatasan sarana dan prasarana;  d.  berpotensi untuk dikembangkan sebagai pusat pertumbuhan ekonomi;  e.  daya dukung lingkungan; dan/atau f.       penggunaan teknologi tinggi dan modal investasi yang besar.',\n",
       " 'Pasal  29  (1)  WUPK sebagaimana dimaksud dalam Pasal 27 ayat (4) yang akan diusahakan ditetapkan oleh Pemerintah setelah berkoordinasi dengan pemerintah daerah.',\n",
       " '(2)  Pelaksanaan kegiatan usaha pertambangan di WUPK sebagaimana dimaksud pada ayat (1) dilakukan dalam bentuk IUPK.',\n",
       " 'Pasal 30  Satu WUPK terdiri atas 1 (satu) atau beberapa WIUPK yan g berada pada lintas wilayah provinsi, lintas wilayah kabupaten/kota, dan/atau dalam 1 (satu) wilayah kabupaten/kota.',\n",
       " 'Pasal   31  Luas dan batas WIUPK mineral logam dan batubara ditetapkan oleh Pemerintah berkoordinasi dengan pemerint ah daerah berdasarkan kriteria dan informasi yang dimiliki oleh Pemerintah.',\n",
       " 'Pasal  32  Kriteria untuk menetapkan 1 (satu) atau beberapa WIUPK dalam 1 (satu)  WUPK adalah sebagai berikut:    - 17  - BAB VII .',\n",
       " 'a.  letak geografis;   b.  kaidah konservasi; c.  daya dukung lindungan lingkungan; d.  optimalisasi sumber daya mineral dan/atau batubara; dan e.  tingkat kepadatan penduduk.',\n",
       " 'Pasal  33  Ketentuan lebih lanjut mengenai tata cara penetapan luas  dan batas WIUPK sebagaimana dimaksud dalam Pasal 31 dan Pasal 32 diatur dengan peraturan pemerintah.',\n",
       " 'BAB VI USAHA PERTAMBANGAN  Pasal 34  (1)  Usaha pertambangan dikelompokkan atas: a.  pertambangan mineral; dan b.  pertambangan batubara.',\n",
       " '(2)  Pertambangan mineral sebagaimana dimaksud pada ayat (1) huruf a digolongkan atas: a.  pertambangan mineral radioaktif; b.  pertambangan mineral logam; c.  pertambangan mineral bukan logam; dan d.  pertambangan batuan.',\n",
       " '(3)  Ketentuan lebih lanjut mengenai penetapan suatu komoditas tambang ke dalam suatu golongan pertambangan mineral sebagaimana dimaksud pada ayat (2) diatur dengan peraturan pemerintah.',\n",
       " 'Pasal  35  Usaha pertambangan sebagaimana dimaksud dalam Pasal 34 dilaksanakan dalam bentuk: a.  IUP; b.  IPR; dan c.  IUPK.',\n",
       " 'BAB VII IZIN USAHA PERTAMBANGAN  Bagian Kesatu Umum  Pasal   36  (1)  IUP terdiri atas dua tahap: a.  IUP Eksplorasi meliputi kegiatan penyelidikan umum, eksplorasi,  dan studi kelayakan; b.  IUP Operasi Produksi meliputi  kegiatan konstruksi, penambangan, pengolahan dan pemurnian, serta pengangkutan dan penjualan.',\n",
       " '(2)  Pemegang IUP Eksplorasi dan pemegang IUP Operasi Produksi dapat melakukan sebagian atau seluruh kegiatan sebagaimana dimaksud pada ayat (1).',\n",
       " 'Pasal 37  IUP diberikan oleh:   a.  bupati/walikota apabila WIUP berada di dalam satu wilayah kabupaten/kota; b.  gubernur apabila WIUP berada pada lintas wilayah kabupaten/kota dalam 1 (satu) provinsi setelah mendapatkan rekomendasi dari bupati/walikota setempat sesuai dengan ketentuan peraturan perundang-undangan; dan c.  Menteri apabila WIUP berada pada lintas wilayah provinsi setelah mendapatkan rekomendasi dari gubernur dan bupati/walikota setempat sesuai dengan ketentuan peraturan perundang-undangan.',\n",
       " 'Pasal  38  IUP diberikan kepada: a.  badan usaha; b.  koperasi; dan c.  perseorangan.',\n",
       " 'Pasal 39  (1)  IUP Eksplorasi  sebagaimana dimaksud dalam Pasal 36 ayat (1) huruf a wajib memuat ketentuan sekurang-kurangnya:  a.  nama perusahaan;  b.  lokasi dan luas wilayah; c.  rencana umum tata ruang; d.  jaminan kesungguhan; e.  modal investasi; f.  perpanjangan waktu tahap kegiatan; g.  hak dan kewajiban pemegang IUP;  h.  jangka waktu berlakunya tahap  kegiatan; i.  jenis usaha yang diberikan; j.  rencana pengembangan dan pemberdayaan masyarakat di sekitar wilayah pertambangan; k.  perpajakan; l.  penyelesaian perselisihan;  m.  iuran tetap dan iuran eksplorasi; dan n.  amdal.',\n",
       " '(2)  IUP Operasi Produksi  sebagaimana dimaksud dalam Pasal 36 ayat (1) huruf b wajib memuat ketentuan sekurang-kurangnya:  a.  nama perusahaan; b.  luas wilayah; c.  lokasi penambangan; d.  lokasi pengolahan dan pemurnian; e.  pengangkutan dan penjualan; f.  modal investasi; g.  jangka waktu berlakunya IUP; h.  jangka waktu tahap kegiatan; i.  penyelesaian masalah pertanahan; j.  lingkungan hidup termasuk reklamasi dan pascatambang; k.  dana jaminan reklamasi dan pascatambang; l.  perpanjangan IUP; m.  hak dan kewajiban pemegang IUP; n.  rencana pengembangan dan pemberdayaan masyarakat di sekitar wilayah pertambangan;    - 20  - Bagian Kedua .',\n",
       " 'o.  perpajakan;  p.  penerimaan negara bukan pajak yang terdiri atas iuran tetap dan iuran produksi; q.  penyelesaian perselisihan; r.  keselamatan dan kesehatan kerja; s.  konservasi mineral atau batubara; t.  pemanfaatan barang, jasa, dan teknologi dalam negeri; u.  penerapan kaidah keekonomian dan keteknikan pertambangan yang baik;  v.  pengembangan tenaga kerja Indonesia; w.  pengelolaan data mineral atau batubara; dan x.  penguasaan, pengembangan, dan penerapan teknologi pertambangan mineral atau batubara.',\n",
       " 'Pasal  40  (1)  IUP sebagaimana dimaksud dalam Pasal  36 ayat (1) diberikan untuk 1 (satu) jenis mineral atau batubara.',\n",
       " '(2)  Pemegang IUP sebagaimana dimaksud pada ayat (1) yang menemukan mineral lain di dalam WIUP yang dikelola diberikan prioritas untuk mengusahakannya.',\n",
       " '(3)  Pemegang IUP yang bermaksud mengusahakan mineral lain sebagaimana dimaksud pada ayat (2), wajib mengajukan permohonan IUP baru kepada Menteri, gubernur, dan bupati/walikota sesuai dengan kewenangannya.',\n",
       " '(4)  Pemegang IUP sebagaimana dimaksud pada ayat (2) dapat menyatakan tidak berminat untuk mengusahakan mineral lain yang ditemukan tersebut.',\n",
       " '(5)  Pemegang IUP yang tidak berminat untuk mengusahakan mineral lain yang ditemukan sebagaimana dimaksud pada ayat (4), wajib menjaga mineral lain tersebut agar tidak dimanfaatkan pihak lain.',\n",
       " '(6)  IUP untuk mineral lain sebagaimana dimaksud pada ayat (4) dan ayat (5) dapat diberikan kepada pihak lain oleh Menteri, gubernur, dan bupati/walikota sesuai dengan kewenangannya.',\n",
       " 'Pasal  41  IUP tidak dapat digunakan selain yang dimaksud dalam pemberian IUP.']"
      ]
     },
     "execution_count": 21,
     "metadata": {},
     "output_type": "execute_result"
    }
   ],
   "source": [
    "for idx in removal_index:\n",
    "   # checking whether the corresponding iterator index is less than the list length\n",
    "   if idx < len(sentences):\n",
    "      # removing element by index using pop() function\n",
    "      sentences.pop(idx)\n",
    "\n",
    "sentences"
   ]
  },
  {
   "cell_type": "code",
   "execution_count": 22,
   "metadata": {},
   "outputs": [],
   "source": []
  },
  {
   "cell_type": "code",
   "execution_count": 27,
   "metadata": {},
   "outputs": [],
   "source": [
    "PASAL = []\n",
    "for i, sentence in enumerate(sentences):\n",
    "    pasal = re.search(r'Pasal[ \\d]*', sentence)\n",
    "    if pasal != None:\n",
    "        PASAL.append(pasal.group(0))\n",
    "    elif i>0:\n",
    "        PASAL.append(PASAL[i-1])\n",
    "    else:\n",
    "        PASAL.append(pasal)"
   ]
  },
  {
   "cell_type": "code",
   "execution_count": 30,
   "metadata": {},
   "outputs": [
    {
     "data": {
      "text/plain": [
       "[None,\n",
       " 'Pasal 5 ',\n",
       " 'Pasal  1  ',\n",
       " 'Pasal  1  ',\n",
       " 'Pasal  1  ',\n",
       " 'Pasal  1  ',\n",
       " 'Pasal  1  ',\n",
       " 'Pasal  1  ',\n",
       " 'Pasal  1  ',\n",
       " 'Pasal  1  ',\n",
       " 'Pasal  1  ',\n",
       " 'Pasal  1  ',\n",
       " 'Pasal  1  ',\n",
       " 'Pasal  1  ',\n",
       " 'Pasal  1  ',\n",
       " 'Pasal  1  ',\n",
       " 'Pasal  1  ',\n",
       " 'Pasal  1  ',\n",
       " 'Pasal  1  ',\n",
       " 'Pasal  1  ',\n",
       " 'Pasal  1  ',\n",
       " 'Pasal  1  ',\n",
       " 'Pasal  1  ',\n",
       " 'Pasal  1  ',\n",
       " 'Pasal  1  ',\n",
       " 'Pasal  1  ',\n",
       " 'Pasal  1  ',\n",
       " 'Pasal  1  ',\n",
       " 'Pasal  1  ',\n",
       " 'Pasal  1  ',\n",
       " 'Pasal  1  ',\n",
       " 'Pasal  1  ',\n",
       " 'Pasal  1  ',\n",
       " 'Pasal  1  ',\n",
       " 'Pasal  1  ',\n",
       " 'Pasal  1  ',\n",
       " 'Pasal  1  ',\n",
       " 'Pasal  1  ',\n",
       " 'Pasal  1  ',\n",
       " 'Pasal  1  ',\n",
       " 'Pasal  1  ',\n",
       " 'Pasal 2  ',\n",
       " 'Pasal 3  ',\n",
       " 'Pasal 3  ',\n",
       " 'Pasal  4  ',\n",
       " 'Pasal  4  ',\n",
       " 'Pasal 5  ',\n",
       " 'Pasal 5  ',\n",
       " 'Pasal 5  ',\n",
       " 'Pasal 5  ',\n",
       " 'Pasal 5  ',\n",
       " 'Pasal  6  ',\n",
       " 'Pasal  6  ',\n",
       " 'Pasal  6  ',\n",
       " 'Pasal   7  ',\n",
       " 'Pasal   7  ',\n",
       " 'Pasal   7  ',\n",
       " 'Pasal 8   ',\n",
       " 'Pasal 8   ',\n",
       " 'Pasal 9  ',\n",
       " 'Pasal 9  ',\n",
       " 'Pasal  10   ',\n",
       " 'Pasal 11  ',\n",
       " 'Pasal 12  ',\n",
       " 'Pasal  13  ',\n",
       " 'Pasal  14  ',\n",
       " 'Pasal  14  ',\n",
       " 'Pasal 15  ',\n",
       " 'Pasal 16  ',\n",
       " 'Pasal   17  ',\n",
       " 'Pasal  18  ',\n",
       " 'Pasal  19  ',\n",
       " 'Pasal 20  ',\n",
       " 'Pasal 21  ',\n",
       " 'Pasal   22  ',\n",
       " 'Pasal   23  ',\n",
       " 'Pasal 24  ',\n",
       " 'Pasal   25  ',\n",
       " 'Pasal   26  ',\n",
       " 'Pasal  27  ',\n",
       " 'Pasal  27  ',\n",
       " 'Pasal  27  ',\n",
       " 'Pasal  27  ',\n",
       " 'Pasal  28  ',\n",
       " 'Pasal  29  ',\n",
       " 'Pasal  29  ',\n",
       " 'Pasal 30  ',\n",
       " 'Pasal   31  ',\n",
       " 'Pasal  32  ',\n",
       " 'Pasal  32  ',\n",
       " 'Pasal  33  ',\n",
       " 'Pasal 34  ',\n",
       " 'Pasal 34  ',\n",
       " 'Pasal 34  ',\n",
       " 'Pasal  35  ',\n",
       " 'Pasal   36  ',\n",
       " 'Pasal   36  ',\n",
       " 'Pasal 37  ',\n",
       " 'Pasal  38  ',\n",
       " 'Pasal 39  ',\n",
       " 'Pasal 36 ',\n",
       " 'Pasal 36 ',\n",
       " 'Pasal  40  ',\n",
       " 'Pasal  40  ',\n",
       " 'Pasal  40  ',\n",
       " 'Pasal  40  ',\n",
       " 'Pasal  40  ',\n",
       " 'Pasal  40  ',\n",
       " 'Pasal  41  ']"
      ]
     },
     "execution_count": 30,
     "metadata": {},
     "output_type": "execute_result"
    }
   ],
   "source": [
    "PASAL"
   ]
  },
  {
   "cell_type": "code",
   "execution_count": null,
   "metadata": {},
   "outputs": [],
   "source": []
  }
 ],
 "metadata": {
  "kernelspec": {
   "display_name": "base",
   "language": "python",
   "name": "python3"
  },
  "language_info": {
   "codemirror_mode": {
    "name": "ipython",
    "version": 3
   },
   "file_extension": ".py",
   "mimetype": "text/x-python",
   "name": "python",
   "nbconvert_exporter": "python",
   "pygments_lexer": "ipython3",
   "version": "3.8.0"
  },
  "orig_nbformat": 4
 },
 "nbformat": 4,
 "nbformat_minor": 2
}
